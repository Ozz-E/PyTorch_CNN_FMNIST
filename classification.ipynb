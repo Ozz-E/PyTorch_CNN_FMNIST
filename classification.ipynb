{
  "cells": [
    {
      "cell_type": "markdown",
      "metadata": {
        "id": "FtOcJpnmLHTU"
      },
      "source": [
        "3. Lost in the closet (Classification)"
      ]
    },
    {
      "cell_type": "code",
      "execution_count": null,
      "metadata": {
        "id": "J3MY10f8LNQQ",
        "colab": {
          "base_uri": "https://localhost:8080/"
        },
        "outputId": "9e288a8d-4987-475a-a02c-ac275285f0d2"
      },
      "outputs": [
        {
          "output_type": "stream",
          "name": "stdout",
          "text": [
            "Downloading http://fashion-mnist.s3-website.eu-central-1.amazonaws.com/train-images-idx3-ubyte.gz\n",
            "Downloading http://fashion-mnist.s3-website.eu-central-1.amazonaws.com/train-images-idx3-ubyte.gz to ./FashionMNIST/raw/train-images-idx3-ubyte.gz\n"
          ]
        },
        {
          "output_type": "stream",
          "name": "stderr",
          "text": [
            "100%|██████████| 26421880/26421880 [00:03<00:00, 8574433.45it/s] \n"
          ]
        },
        {
          "output_type": "stream",
          "name": "stdout",
          "text": [
            "Extracting ./FashionMNIST/raw/train-images-idx3-ubyte.gz to ./FashionMNIST/raw\n",
            "\n",
            "Downloading http://fashion-mnist.s3-website.eu-central-1.amazonaws.com/train-labels-idx1-ubyte.gz\n",
            "Downloading http://fashion-mnist.s3-website.eu-central-1.amazonaws.com/train-labels-idx1-ubyte.gz to ./FashionMNIST/raw/train-labels-idx1-ubyte.gz\n"
          ]
        },
        {
          "output_type": "stream",
          "name": "stderr",
          "text": [
            "100%|██████████| 29515/29515 [00:00<00:00, 144786.80it/s]\n"
          ]
        },
        {
          "output_type": "stream",
          "name": "stdout",
          "text": [
            "Extracting ./FashionMNIST/raw/train-labels-idx1-ubyte.gz to ./FashionMNIST/raw\n",
            "\n",
            "Downloading http://fashion-mnist.s3-website.eu-central-1.amazonaws.com/t10k-images-idx3-ubyte.gz\n",
            "Downloading http://fashion-mnist.s3-website.eu-central-1.amazonaws.com/t10k-images-idx3-ubyte.gz to ./FashionMNIST/raw/t10k-images-idx3-ubyte.gz\n"
          ]
        },
        {
          "output_type": "stream",
          "name": "stderr",
          "text": [
            "100%|██████████| 4422102/4422102 [00:01<00:00, 2767142.71it/s]\n"
          ]
        },
        {
          "output_type": "stream",
          "name": "stdout",
          "text": [
            "Extracting ./FashionMNIST/raw/t10k-images-idx3-ubyte.gz to ./FashionMNIST/raw\n",
            "\n",
            "Downloading http://fashion-mnist.s3-website.eu-central-1.amazonaws.com/t10k-labels-idx1-ubyte.gz\n",
            "Downloading http://fashion-mnist.s3-website.eu-central-1.amazonaws.com/t10k-labels-idx1-ubyte.gz to ./FashionMNIST/raw/t10k-labels-idx1-ubyte.gz\n"
          ]
        },
        {
          "output_type": "stream",
          "name": "stderr",
          "text": [
            "100%|██████████| 5148/5148 [00:00<00:00, 18068851.04it/s]"
          ]
        },
        {
          "output_type": "stream",
          "name": "stdout",
          "text": [
            "Extracting ./FashionMNIST/raw/t10k-labels-idx1-ubyte.gz to ./FashionMNIST/raw\n",
            "\n"
          ]
        },
        {
          "output_type": "stream",
          "name": "stderr",
          "text": [
            "\n"
          ]
        }
      ],
      "source": [
        "import torchvision\n",
        "import torchvision.transforms as transforms\n",
        "import torch\n",
        "import torch.nn as nn\n",
        "import time\n",
        "import matplotlib.pyplot as plt\n",
        "import numpy as np\n",
        "import random\n",
        "\n",
        "train_set = torchvision.datasets.FashionMNIST(root = \".\", train=True, download=True, transform=transforms.ToTensor())\n",
        "test_set = torchvision.datasets.FashionMNIST(root = \".\", train=False, download=True, transform=transforms.ToTensor())\n",
        "train_loader = torch.utils.data.DataLoader(train_set, batch_size=32, shuffle=False)\n",
        "test_loader = torch.utils.data.DataLoader(test_set, batch_size=32, shuffle=False)\n",
        "# Fix the seed to be able to get the same randomness across runs and\n",
        "# hence reproducible outcomes\n",
        "torch.manual_seed(0)\n",
        "random.seed(0)\n",
        "np.random.seed(0)\n",
        "# If you are using CuDNN , otherwise you can just ignore\n",
        "torch.cuda.manual_seed(0)\n",
        "torch.backends.cudnn.deterministic=True\n",
        "torch.backends.cudnn.benchmark=False"
      ]
    },
    {
      "cell_type": "markdown",
      "metadata": {
        "id": "hpFI2RfMa1X5"
      },
      "source": [
        "Visualise data for the first element of the batch:\n",
        "(since the batch is set will allways display same picture)"
      ]
    },
    {
      "cell_type": "code",
      "execution_count": null,
      "metadata": {
        "colab": {
          "base_uri": "https://localhost:8080/",
          "height": 482
        },
        "id": "NMJTw7beeBKo",
        "outputId": "e3a0a281-d61c-40c1-95a8-4af03d4ae7bd"
      },
      "outputs": [
        {
          "output_type": "stream",
          "name": "stdout",
          "text": [
            "Label is: 9\n",
            "Dimension of input data: torch.Size([32, 1, 28, 28])\n",
            "Dimension of labels: torch.Size([32])\n"
          ]
        },
        {
          "output_type": "display_data",
          "data": {
            "text/plain": [
              "<Figure size 640x480 with 1 Axes>"
            ],
            "image/png": "[encoded data removed]"
          },
          "metadata": {}
        }
      ],
      "source": [
        "input_data, label = next(iter(train_loader))\n",
        "plt.imshow(input_data[0,:,:,:].numpy().reshape(28,28), cmap=\"gray_r\");\n",
        "print(\"Label is: {}\".format(label[0]))\n",
        "print(\"Dimension of input data: {}\".format(input_data.size()))\n",
        "print(\"Dimension of labels: {}\".format(label.size()))"
      ]
    },
    {
      "cell_type": "code",
      "execution_count": null,
      "metadata": {
        "id": "UzDb7to1a1X6"
      },
      "outputs": [],
      "source": []
    },
    {
      "cell_type": "code",
      "execution_count": null,
      "metadata": {
        "colab": {
          "base_uri": "https://localhost:8080/",
          "height": 675
        },
        "id": "LNaKvxotkNoR",
        "outputId": "0ddb42e3-7ac5-4edb-befe-726062814aee"
      },
      "outputs": [
        {
          "output_type": "display_data",
          "data": {
            "text/plain": [
              "<Figure size 800x800 with 9 Axes>"
            ],
            "image/png": "[encoded data removed]"
          },
          "metadata": {}
        }
      ],
      "source": [
        "labels_map = {0 : 'T-Shirt', 1 : 'Trouser', 2 : 'Pullover', 3 : 'Dress', 4 : 'Coat', 5 : 'Sandal', 6 : 'Shirt',\n",
        "              7 : 'Sneaker', 8 : 'Bag', 9 : 'Ankle Boot'};\n",
        "fig = plt.figure(figsize=(8,8));\n",
        "columns = 3;\n",
        "rows = 3;\n",
        "for i in range(1, columns*rows +1):\n",
        "    img_xy = np.random.randint(len(train_set));\n",
        "    img = train_set[img_xy][0][0,:,:]\n",
        "    fig.add_subplot(rows, columns, i)\n",
        "    plt.title(labels_map[train_set[img_xy][1]])\n",
        "    plt.axis('off')\n",
        "    plt.imshow(img, cmap='gray')"
      ]
    },
    {
      "cell_type": "markdown",
      "metadata": {
        "id": "SnOwuziFv7ez"
      },
      "source": [
        "1) Given the problem, what is the most appropriate loss function to use?"
      ]
    },
    {
      "cell_type": "markdown",
      "metadata": {
        "id": "l4aOvvdPwJnh"
      },
      "source": [
        "2) Create and train a Convolutional Neural Network corresponding to the following architecture:\n",
        "\n",
        "    1. Input image size: 28 × 28 × 1 (height × width × number of channels).\n",
        "    2. First convolutional layer: Kernel size (5 × 5), Stride size (1 × 1) and 32 output channels. Activation function.\n",
        "    3. Max pooling layer: Kernel size (2 × 2) and Stride size (2 × 2).\n",
        "    4. Second convolutional layer: Kernel size (5×5), Stride size (1 × 1) and 64 output channels. Activation function.\n",
        "    5. Max pooling layer: Kernel size (2 × 2) and Stride size (2 × 2).\n",
        "    6. First fully-connected layer with input size being the output size of max pooling layer in 5.(flattened, i.e. 1024) and output size 1024. Activation function.\n",
        "    7. Second fully-connected layer with input size being the output size of fully connected layer in (i.e. 1024) and output size 256. Activation function.\n",
        "    8. Output layer with input size being the output size of fully-connected layer in 7. (i.e. 256) and output size 10."
      ]
    },
    {
      "cell_type": "code",
      "execution_count": null,
      "metadata": {
        "id": "LgGQmeDBkStV"
      },
      "outputs": [],
      "source": [
        "# Build the neural network, expand on top of nn.Module\n",
        "class MyCNN(nn.Module):\n",
        "    def __init__(self,num_classes=10,activation=\"relu\",dropout_rate=0,training_flag=True):\n",
        "        super(MyCNN, self).__init__()\n",
        "\n",
        "        self.num_classes = num_classes # 10 here\n",
        "        self.activation = activation # which activation function to employ\n",
        "        self.dropout_rate = dropout_rate # if dropout then  how much\n",
        "        self.training_flag = training_flag # if dropout then trainable or not\n",
        "\n",
        "        if self.activation == \"relu\":\n",
        "          self.cnn_model1 = nn.Sequential(nn.Conv2d(1,32,kernel_size=5,stride=1), nn.ReLU(), nn.MaxPool2d(2,stride=2), nn.Conv2d(32,64,kernel_size=5,stride=1), nn.ReLU(), nn.MaxPool2d(2,stride=2))\n",
        "          self.fc_model = nn.Sequential(nn.Linear(1024,256), nn.ReLU(), nn.Linear(256,10), nn.ReLU())\n",
        "        # set different activation frunction for task 3\n",
        "        if self.activation == \"tanh\":\n",
        "          self.cnn_model1 = nn.Sequential(nn.Conv2d(1,32,kernel_size=5,stride=1), nn.Tanh(), nn.MaxPool2d(2,stride=2), nn.Conv2d(32,64,kernel_size=5,stride=1), nn.Tanh(), nn.MaxPool2d(2,stride=2))\n",
        "          self.fc_model = nn.Sequential(nn.Linear(1024,1024), nn.Tanh(), nn.Linear(1024,256), nn.Tanh(), nn.Linear(256,10), nn.Tanh())\n",
        "        if self.activation == \"sigmoid\":\n",
        "          self.cnn_model1 = nn.Sequential(nn.Conv2d(1,32,kernel_size=5,stride=1), nn.Sigmoid(), nn.MaxPool2d(2,stride=2), nn.Conv2d(32,64,kernel_size=5,stride=1), nn.Sigmoid(), nn.MaxPool2d(2,stride=2))\n",
        "          self.fc_model = nn.Sequential(nn.Linear(1024,1024), nn.Sigmoid(),nn.Linear(1024,256), nn.Sigmoid(), nn.Linear(256,10), nn.Sigmoid())\n",
        "        if self.activation == \"elu\":\n",
        "          self.cnn_model1 = nn.Sequential(nn.Conv2d(1,32,kernel_size=5,stride=1), nn.ELU(), nn.MaxPool2d(2,stride=2), nn.Conv2d(32,64,kernel_size=5,stride=1), nn.ELU(), nn.MaxPool2d(2,stride=2))\n",
        "          self.fc_model = nn.Sequential(nn.Linear(1024,1024), nn.ELU(),nn.Linear(1024,256), nn.ELU(), nn.Linear(256,10), nn.ELU())\n",
        "        # set dropout layer\n",
        "        if self.dropout_rate != 0:\n",
        "          self.cnn_model1 = nn.Sequential(nn.Conv2d(1,32,kernel_size=5,stride=1), nn.ReLU(), nn.MaxPool2d(2,stride=2), nn.Conv2d(32,64,kernel_size=5,stride=1), nn.ReLU(), nn.MaxPool2d(2,stride=2))\n",
        "          self.fc_model = nn.Sequential(nn.Linear(1024,1024), nn.ReLU(),nn.Linear(1024,256), nn.ReLU(), nn.Linear(256,10), nn.ReLU(), nn.Dropout(self.dropout_rate))\n",
        "\n",
        "    def forward(self, t):\n",
        "\n",
        "        t = self.cnn_model1(t)\n",
        "        t = t.view(t.size(0), -1)\n",
        "        t = self.fc_model(t)\n",
        "\n",
        "        return t"
      ]
    },
    {
      "cell_type": "code",
      "execution_count": null,
      "metadata": {
        "id": "wGmJj-w0oaXf"
      },
      "outputs": [],
      "source": [
        "\n",
        "def train(model,x,y,criterion,optimizer):\n",
        "\n",
        "    # zero the parameter gradients\n",
        "    optimizer.zero_grad()\n",
        "    # forward + backward + optimize\n",
        "    outputs = model(x)\n",
        "    # compute the loss\n",
        "    loss = criterion(outputs, y)\n",
        "    # calculate gradient\n",
        "    loss.backward()\n",
        "    # update parametres\n",
        "    optimizer.step()\n",
        "\n",
        "    return loss.item()\n",
        "\n",
        "def evaluation(model,loader):\n",
        "\n",
        "    # evaluation function\n",
        "    correct = 0\n",
        "    total = 0\n",
        "    # turn off dropout layer\n",
        "    model.eval()\n",
        "    # torch.no_grad prevents backward recording, reduces memory consumtion\n",
        "    with torch.no_grad():\n",
        "\n",
        "        for i, (images,labels) in enumerate(loader):\n",
        "            images, labels = images.to(device), labels.to(device)\n",
        "            # since no_grad is used, generate autograd for this part of evaluation\n",
        "            images = torch.autograd.Variable(images.float())\n",
        "            labels = torch.autograd.Variable(labels)\n",
        "\n",
        "            outputs = model(images)\n",
        "            # the class with highest value is chosen for prediction\n",
        "            # the result tuple of two output tensors (max, max_indices)\n",
        "            # take only indices\n",
        "            _, predicted = torch.max(outputs.data, 1)\n",
        "            total += labels.size(0)\n",
        "            correct += (predicted == labels).sum().item()\n",
        "\n",
        "    return correct / total if total > 0 else 0"
      ]
    },
    {
      "cell_type": "code",
      "execution_count": null,
      "metadata": {
        "id": "Z4OqUl8Sodbi"
      },
      "outputs": [],
      "source": [
        "def classify(device,model,data,criterion,optimizer,*params):\n",
        "    # Function to perform classifications with different parametres\n",
        "    num_epochs,num_classes,batch_size,learning_rate,activation = params\n",
        "    train_loader,test_loader = data\n",
        "    # define parametres\n",
        "    total_step = len(train_loader)\n",
        "    train_losses = []\n",
        "    train_accuracy = []\n",
        "    test_accuracy = []\n",
        "    tte = [] # time taken per epoch\n",
        "    loss_epoch_array = []\n",
        "\n",
        "    # start loop that goes through all epoch\n",
        "    for epoch in range(num_epochs):\n",
        "        loss_epoch = 0\n",
        "        tte_start = time.time()\n",
        "        # loop over batches\n",
        "        for i, (images,labels) in enumerate(train_loader):\n",
        "            # to ensure dropout is \"turned on\" while training, is set to 0 in all tasks but last\n",
        "            model.train()\n",
        "            # since no_grad is used, generate autograd for this part of evaluation\n",
        "            images, labels = images.to(device), labels.to(device)\n",
        "            images = torch.autograd.Variable(images.float())\n",
        "            labels = torch.autograd.Variable(labels)\n",
        "\n",
        "            loss = train(model,images,labels,criterion,optimizer)\n",
        "            loss_epoch += loss\n",
        "        # append the results and update time\n",
        "        train_losses.append(loss)\n",
        "        train_accuracy.append(evaluation(model,train_loader))\n",
        "        test_accuracy.append(evaluation(model,test_loader))\n",
        "        loss_epoch_array.append(loss_epoch)\n",
        "        tte_end = time.time()\n",
        "        elapsed_time = tte_end-tte_start\n",
        "        tte.append(elapsed_time)\n",
        "        # print results as soon as epoch ends\n",
        "        print ('Epoch [{}/{}] {:.2f} sec, loss_epoch: {:.2f} ,train_loss: {:.4f}, train_acc: {:.4f}, test_acc: {:.4f}'.format(epoch+1, num_epochs, elapsed_time,loss_epoch,train_losses[-1], train_accuracy[-1],test_accuracy[-1]))\n",
        "    # print final results\n",
        "    final_test_accuracy = evaluation(model,test_loader)\n",
        "    print('Test Accuracy of the model: {:.4f} %'.format(100 * final_test_accuracy))\n",
        "    print('Total Time taken: {:.3f} sec'.format(sum(tte)))\n",
        "    return train_losses, train_accuracy, test_accuracy, final_test_accuracy, elapsed_time, loss_epoch_array"
      ]
    },
    {
      "cell_type": "code",
      "source": [
        "def weights_init(m):\n",
        "  if isinstance(m, nn.Linear) or isinstance(m, nn.Conv2d):\n",
        "    torch.nn.init.xavier_uniform_(m.weight)"
      ],
      "metadata": {
        "id": "uE9G0OkGBUNj"
      },
      "execution_count": null,
      "outputs": []
    },
    {
      "cell_type": "markdown",
      "metadata": {
        "id": "P95my_F9wST4"
      },
      "source": [
        "For training, initialise your weights using the Xavier Uniform initialisation, use ReLU as the activation function, a learning rate of 0.1 with the SGD optimiser. Train neural network 30 epochs."
      ]
    },
    {
      "cell_type": "markdown",
      "metadata": {
        "id": "vI0H_y6TwlCJ"
      },
      "source": [
        " a) Obtain accuracy"
      ]
    },
    {
      "cell_type": "code",
      "execution_count": null,
      "metadata": {
        "colab": {
          "base_uri": "https://localhost:8080/"
        },
        "id": "i5XZJySJogzN",
        "outputId": "aa05fe62-4c09-42db-ed7c-7ee61ee54a57"
      },
      "outputs": [
        {
          "output_type": "stream",
          "name": "stdout",
          "text": [
            "Epoch [1/30] 31.83 sec, loss_epoch: 1667.68 ,train_loss: 0.3982, train_acc: 0.8568, test_acc: 0.8468\n",
            "Epoch [2/30] 23.52 sec, loss_epoch: 642.96 ,train_loss: 0.2733, train_acc: 0.8956, test_acc: 0.8807\n",
            "Epoch [3/30] 23.43 sec, loss_epoch: 540.29 ,train_loss: 0.2032, train_acc: 0.9086, test_acc: 0.8925\n",
            "Epoch [4/30] 23.86 sec, loss_epoch: 475.96 ,train_loss: 0.1991, train_acc: 0.9144, test_acc: 0.8957\n",
            "Epoch [5/30] 23.73 sec, loss_epoch: 427.18 ,train_loss: 0.2037, train_acc: 0.9204, test_acc: 0.8979\n",
            "Epoch [6/30] 23.61 sec, loss_epoch: 385.82 ,train_loss: 0.1848, train_acc: 0.9281, test_acc: 0.9015\n",
            "Epoch [7/30] 23.39 sec, loss_epoch: 348.72 ,train_loss: 0.1623, train_acc: 0.9345, test_acc: 0.9019\n",
            "Epoch [8/30] 23.78 sec, loss_epoch: 315.23 ,train_loss: 0.1484, train_acc: 0.9392, test_acc: 0.9048\n",
            "Epoch [9/30] 24.42 sec, loss_epoch: 283.92 ,train_loss: 0.1666, train_acc: 0.9394, test_acc: 0.9026\n",
            "Epoch [10/30] 24.41 sec, loss_epoch: 255.61 ,train_loss: 0.2073, train_acc: 0.9369, test_acc: 0.8981\n",
            "Epoch [11/30] 24.30 sec, loss_epoch: 232.28 ,train_loss: 0.2210, train_acc: 0.9377, test_acc: 0.8966\n",
            "Epoch [12/30] 23.74 sec, loss_epoch: 215.18 ,train_loss: 0.0874, train_acc: 0.9445, test_acc: 0.9002\n",
            "Epoch [13/30] 23.70 sec, loss_epoch: 195.87 ,train_loss: 0.1493, train_acc: 0.9367, test_acc: 0.8925\n",
            "Epoch [14/30] 23.71 sec, loss_epoch: 185.91 ,train_loss: 0.1084, train_acc: 0.9411, test_acc: 0.8920\n",
            "Epoch [15/30] 23.95 sec, loss_epoch: 174.72 ,train_loss: 0.1814, train_acc: 0.9469, test_acc: 0.8957\n",
            "Epoch [16/30] 23.76 sec, loss_epoch: 155.97 ,train_loss: 0.1438, train_acc: 0.9417, test_acc: 0.8893\n",
            "Epoch [17/30] 23.81 sec, loss_epoch: 155.38 ,train_loss: 0.2014, train_acc: 0.9501, test_acc: 0.8965\n",
            "Epoch [18/30] 23.85 sec, loss_epoch: 151.06 ,train_loss: 0.0587, train_acc: 0.9522, test_acc: 0.8992\n",
            "Epoch [19/30] 23.64 sec, loss_epoch: 137.64 ,train_loss: 0.1864, train_acc: 0.9548, test_acc: 0.8991\n",
            "Epoch [20/30] 23.59 sec, loss_epoch: 120.43 ,train_loss: 0.0403, train_acc: 0.9552, test_acc: 0.8984\n",
            "Epoch [21/30] 24.44 sec, loss_epoch: 127.69 ,train_loss: 0.1631, train_acc: 0.9549, test_acc: 0.8983\n",
            "Epoch [22/30] 23.76 sec, loss_epoch: 116.91 ,train_loss: 0.0141, train_acc: 0.9603, test_acc: 0.9033\n",
            "Epoch [23/30] 23.69 sec, loss_epoch: 113.82 ,train_loss: 0.1922, train_acc: 0.9584, test_acc: 0.8976\n",
            "Epoch [24/30] 23.65 sec, loss_epoch: 99.35 ,train_loss: 0.2044, train_acc: 0.9614, test_acc: 0.8976\n",
            "Epoch [25/30] 23.67 sec, loss_epoch: 104.99 ,train_loss: 0.0314, train_acc: 0.9625, test_acc: 0.8972\n",
            "Epoch [26/30] 23.73 sec, loss_epoch: 108.48 ,train_loss: 0.0373, train_acc: 0.9589, test_acc: 0.8972\n",
            "Epoch [27/30] 23.56 sec, loss_epoch: 99.56 ,train_loss: 0.0193, train_acc: 0.9649, test_acc: 0.8981\n",
            "Epoch [28/30] 23.75 sec, loss_epoch: 86.18 ,train_loss: 0.0265, train_acc: 0.9725, test_acc: 0.9058\n",
            "Epoch [29/30] 23.74 sec, loss_epoch: 76.18 ,train_loss: 0.1907, train_acc: 0.9660, test_acc: 0.8973\n",
            "Epoch [30/30] 23.58 sec, loss_epoch: 77.81 ,train_loss: 0.0230, train_acc: 0.9678, test_acc: 0.9005\n",
            "Test Accuracy of the model: 90.0500 %\n",
            "Total Time taken: 721.603 sec\n"
          ]
        }
      ],
      "source": [
        "result = []\n",
        "num_epochs = 30\n",
        "num_classes = 10\n",
        "batch_size = 100\n",
        "learning_rate = 0.1\n",
        "activation = \"relu\"\n",
        "dropout_rate = 0\n",
        "training_flag = True\n",
        "device = torch.device('cuda:0' if torch.cuda.is_available() else 'cpu')\n",
        "net = MyCNN(num_classes,activation=activation,dropout_rate=dropout_rate,training_flag=training_flag).to(device)\n",
        "# initialise weights\n",
        "net.apply(weights_init)\n",
        "\n",
        "criterion = nn.CrossEntropyLoss()\n",
        "optimizer = torch.optim.SGD(list(net.parameters()), lr=learning_rate)\n",
        "data = train_loader, test_loader\n",
        "[train_loader,test_loader] = data\n",
        "\n",
        "t_loss,t_acc,test_acc,final_test_accuracy,exec_time, loss_epoch_array = classify(device,net,data,criterion,optimizer,num_epochs,num_classes,batch_size,learning_rate,activation)\n",
        "end = [learning_rate,activation,dropout_rate,num_epochs,t_loss,t_acc,test_acc,final_test_accuracy,exec_time]\n",
        "result.append(end)"
      ]
    },
    {
      "cell_type": "markdown",
      "metadata": {
        "id": "xOHLRb7UwnRk"
      },
      "source": [
        "b) Plot Accuracy"
      ]
    },
    {
      "cell_type": "code",
      "execution_count": null,
      "metadata": {
        "id": "HLM5v__hokb9",
        "outputId": "7c08f019-47f3-415c-ef5e-9afeab183275",
        "colab": {
          "base_uri": "https://localhost:8080/",
          "height": 466
        }
      },
      "outputs": [
        {
          "output_type": "execute_result",
          "data": {
            "text/plain": [
              "<matplotlib.legend.Legend at 0x7f94232223e0>"
            ]
          },
          "metadata": {},
          "execution_count": 12
        },
        {
          "output_type": "display_data",
          "data": {
            "text/plain": [
              "<Figure size 640x480 with 1 Axes>"
            ],
            "image/png": "[encoded data removed]"
          },
          "metadata": {}
        }
      ],
      "source": [
        "plt.xlabel(\"Epoch\")\n",
        "plt.ylabel(\"Accuracy\")\n",
        "plt.plot(t_acc, \"r\")\n",
        "plt.plot(test_acc, \"b\")\n",
        "plt.gca().legend(('train','test'))"
      ]
    },
    {
      "cell_type": "markdown",
      "metadata": {
        "id": "UxaJJxpcwu9O"
      },
      "source": [
        "c) Plot of the train loss per epoch"
      ]
    },
    {
      "cell_type": "code",
      "execution_count": null,
      "metadata": {
        "id": "U0-otHniw2PZ",
        "outputId": "20d217e9-d599-48a5-96af-bb00f7f6efc2",
        "colab": {
          "base_uri": "https://localhost:8080/",
          "height": 466
        }
      },
      "outputs": [
        {
          "output_type": "execute_result",
          "data": {
            "text/plain": [
              "[<matplotlib.lines.Line2D at 0x7f94231d5b10>]"
            ]
          },
          "metadata": {},
          "execution_count": 13
        },
        {
          "output_type": "display_data",
          "data": {
            "text/plain": [
              "<Figure size 640x480 with 1 Axes>"
            ],
            "image/png": "[encoded data removed]"
          },
          "metadata": {}
        }
      ],
      "source": [
        "plt.xlabel(\"Epoch\")\n",
        "plt.ylabel(\"Loss\")\n",
        "plt.plot(loss_epoch_array)"
      ]
    },
    {
      "cell_type": "markdown",
      "metadata": {
        "id": "H_wBa0qTw2lL"
      },
      "source": [
        "3. Tanh, Sigmoid and ELU"
      ]
    },
    {
      "cell_type": "code",
      "execution_count": null,
      "metadata": {
        "id": "xdY4l21zw9_b",
        "outputId": "0e5b6833-bf62-4492-c728-02808f8c1e16",
        "colab": {
          "base_uri": "https://localhost:8080/"
        }
      },
      "outputs": [
        {
          "output_type": "stream",
          "name": "stdout",
          "text": [
            "tanh\n",
            "Epoch [1/30] 31.52 sec, loss_epoch: 2199.39 ,train_loss: 1.1078, train_acc: 0.7691, test_acc: 0.7609\n",
            "Epoch [2/30] 24.42 sec, loss_epoch: 1941.06 ,train_loss: 0.9702, train_acc: 0.8515, test_acc: 0.8400\n",
            "Epoch [3/30] 24.61 sec, loss_epoch: 1857.84 ,train_loss: 0.9120, train_acc: 0.8690, test_acc: 0.8585\n",
            "Epoch [4/30] 24.09 sec, loss_epoch: 1818.95 ,train_loss: 0.9021, train_acc: 0.8746, test_acc: 0.8630\n",
            "Epoch [5/30] 24.49 sec, loss_epoch: 1794.85 ,train_loss: 0.8912, train_acc: 0.8844, test_acc: 0.8738\n",
            "Epoch [6/30] 24.17 sec, loss_epoch: 1775.68 ,train_loss: 0.8747, train_acc: 0.8940, test_acc: 0.8842\n",
            "Epoch [7/30] 24.00 sec, loss_epoch: 1759.24 ,train_loss: 0.8731, train_acc: 0.8977, test_acc: 0.8847\n",
            "Epoch [8/30] 24.02 sec, loss_epoch: 1744.82 ,train_loss: 0.9185, train_acc: 0.9020, test_acc: 0.8859\n",
            "Epoch [9/30] 24.19 sec, loss_epoch: 1732.01 ,train_loss: 0.8543, train_acc: 0.9090, test_acc: 0.8919\n",
            "Epoch [10/30] 24.51 sec, loss_epoch: 1722.67 ,train_loss: 0.8788, train_acc: 0.9151, test_acc: 0.8955\n",
            "Epoch [11/30] 24.06 sec, loss_epoch: 1711.71 ,train_loss: 0.8576, train_acc: 0.9155, test_acc: 0.8953\n",
            "Epoch [12/30] 24.21 sec, loss_epoch: 1702.93 ,train_loss: 0.8546, train_acc: 0.9218, test_acc: 0.9000\n",
            "Epoch [13/30] 25.26 sec, loss_epoch: 1693.35 ,train_loss: 0.8694, train_acc: 0.9216, test_acc: 0.8981\n",
            "Epoch [14/30] 24.12 sec, loss_epoch: 1686.11 ,train_loss: 0.8566, train_acc: 0.9242, test_acc: 0.8986\n",
            "Epoch [15/30] 24.37 sec, loss_epoch: 1679.71 ,train_loss: 0.8595, train_acc: 0.9290, test_acc: 0.9033\n",
            "Epoch [16/30] 24.04 sec, loss_epoch: 1671.41 ,train_loss: 0.8577, train_acc: 0.9287, test_acc: 0.8990\n",
            "Epoch [17/30] 24.32 sec, loss_epoch: 1665.95 ,train_loss: 0.8506, train_acc: 0.9337, test_acc: 0.9031\n",
            "Epoch [18/30] 24.12 sec, loss_epoch: 1659.34 ,train_loss: 0.8702, train_acc: 0.9306, test_acc: 0.9017\n",
            "Epoch [19/30] 24.25 sec, loss_epoch: 1654.37 ,train_loss: 0.8715, train_acc: 0.9343, test_acc: 0.8984\n",
            "Epoch [20/30] 24.26 sec, loss_epoch: 1647.75 ,train_loss: 0.8618, train_acc: 0.9399, test_acc: 0.9042\n",
            "Epoch [21/30] 23.91 sec, loss_epoch: 1643.25 ,train_loss: 0.8603, train_acc: 0.9423, test_acc: 0.9058\n",
            "Epoch [22/30] 24.18 sec, loss_epoch: 1637.68 ,train_loss: 0.8536, train_acc: 0.9401, test_acc: 0.9026\n",
            "Epoch [23/30] 24.19 sec, loss_epoch: 1633.28 ,train_loss: 0.8934, train_acc: 0.9446, test_acc: 0.9076\n",
            "Epoch [24/30] 25.01 sec, loss_epoch: 1628.46 ,train_loss: 0.8543, train_acc: 0.9468, test_acc: 0.9077\n",
            "Epoch [25/30] 24.17 sec, loss_epoch: 1624.90 ,train_loss: 0.8488, train_acc: 0.9460, test_acc: 0.9054\n",
            "Epoch [26/30] 24.05 sec, loss_epoch: 1621.30 ,train_loss: 0.8507, train_acc: 0.9503, test_acc: 0.9086\n",
            "Epoch [27/30] 24.07 sec, loss_epoch: 1615.45 ,train_loss: 0.8495, train_acc: 0.9501, test_acc: 0.9073\n",
            "Epoch [28/30] 24.27 sec, loss_epoch: 1612.28 ,train_loss: 0.8503, train_acc: 0.9464, test_acc: 0.9017\n",
            "Epoch [29/30] 24.32 sec, loss_epoch: 1607.71 ,train_loss: 0.8592, train_acc: 0.9539, test_acc: 0.9069\n",
            "Epoch [30/30] 24.31 sec, loss_epoch: 1604.94 ,train_loss: 0.8604, train_acc: 0.9526, test_acc: 0.9062\n",
            "Test Accuracy of the model: 90.6200 %\n",
            "Total Time taken: 735.489 sec\n",
            "sigmoid\n",
            "Epoch [1/30] 24.18 sec, loss_epoch: 4321.70 ,train_loss: 2.3058, train_acc: 0.1000, test_acc: 0.1000\n",
            "Epoch [2/30] 24.02 sec, loss_epoch: 4319.14 ,train_loss: 2.3015, train_acc: 0.1000, test_acc: 0.1000\n",
            "Epoch [3/30] 24.20 sec, loss_epoch: 4318.14 ,train_loss: 2.3018, train_acc: 0.1000, test_acc: 0.1000\n",
            "Epoch [4/30] 25.17 sec, loss_epoch: 4317.81 ,train_loss: 2.3023, train_acc: 0.1000, test_acc: 0.1000\n",
            "Epoch [5/30] 24.38 sec, loss_epoch: 4317.66 ,train_loss: 2.3025, train_acc: 0.1000, test_acc: 0.1000\n",
            "Epoch [6/30] 24.18 sec, loss_epoch: 4317.58 ,train_loss: 2.3026, train_acc: 0.1000, test_acc: 0.1000\n",
            "Epoch [7/30] 24.10 sec, loss_epoch: 4317.53 ,train_loss: 2.3026, train_acc: 0.1000, test_acc: 0.1000\n",
            "Epoch [8/30] 24.36 sec, loss_epoch: 4317.49 ,train_loss: 2.3026, train_acc: 0.1000, test_acc: 0.1000\n",
            "Epoch [9/30] 24.02 sec, loss_epoch: 4317.47 ,train_loss: 2.3026, train_acc: 0.1000, test_acc: 0.1000\n",
            "Epoch [10/30] 24.11 sec, loss_epoch: 4317.45 ,train_loss: 2.3026, train_acc: 0.1000, test_acc: 0.1000\n",
            "Epoch [11/30] 24.00 sec, loss_epoch: 4317.43 ,train_loss: 2.3026, train_acc: 0.1000, test_acc: 0.1000\n",
            "Epoch [12/30] 24.25 sec, loss_epoch: 4317.42 ,train_loss: 2.3026, train_acc: 0.1000, test_acc: 0.1000\n",
            "Epoch [13/30] 24.22 sec, loss_epoch: 4317.41 ,train_loss: 2.3026, train_acc: 0.1000, test_acc: 0.1000\n",
            "Epoch [14/30] 24.42 sec, loss_epoch: 4317.41 ,train_loss: 2.3026, train_acc: 0.1000, test_acc: 0.1000\n",
            "Epoch [15/30] 25.31 sec, loss_epoch: 4317.40 ,train_loss: 2.3026, train_acc: 0.1000, test_acc: 0.1000\n",
            "Epoch [16/30] 24.21 sec, loss_epoch: 4317.39 ,train_loss: 2.3026, train_acc: 0.1000, test_acc: 0.1000\n",
            "Epoch [17/30] 24.11 sec, loss_epoch: 4317.39 ,train_loss: 2.3026, train_acc: 0.1000, test_acc: 0.1000\n",
            "Epoch [18/30] 24.55 sec, loss_epoch: 4317.39 ,train_loss: 2.3026, train_acc: 0.1000, test_acc: 0.1000\n",
            "Epoch [19/30] 24.19 sec, loss_epoch: 4317.38 ,train_loss: 2.3026, train_acc: 0.1000, test_acc: 0.1000\n",
            "Epoch [20/30] 24.18 sec, loss_epoch: 4317.38 ,train_loss: 2.3026, train_acc: 0.1000, test_acc: 0.1000\n",
            "Epoch [21/30] 24.02 sec, loss_epoch: 4317.38 ,train_loss: 2.3026, train_acc: 0.1000, test_acc: 0.1000\n",
            "Epoch [22/30] 24.38 sec, loss_epoch: 4317.37 ,train_loss: 2.3026, train_acc: 0.1000, test_acc: 0.1000\n",
            "Epoch [23/30] 24.22 sec, loss_epoch: 4317.37 ,train_loss: 2.3026, train_acc: 0.1000, test_acc: 0.1000\n",
            "Epoch [24/30] 24.28 sec, loss_epoch: 4317.37 ,train_loss: 2.3026, train_acc: 0.1000, test_acc: 0.1000\n",
            "Epoch [25/30] 24.41 sec, loss_epoch: 4317.37 ,train_loss: 2.3026, train_acc: 0.1000, test_acc: 0.1000\n",
            "Epoch [26/30] 25.12 sec, loss_epoch: 4317.37 ,train_loss: 2.3026, train_acc: 0.1000, test_acc: 0.1000\n",
            "Epoch [27/30] 24.25 sec, loss_epoch: 4317.37 ,train_loss: 2.3026, train_acc: 0.1000, test_acc: 0.1000\n",
            "Epoch [28/30] 24.36 sec, loss_epoch: 4317.36 ,train_loss: 2.3026, train_acc: 0.1000, test_acc: 0.1000\n",
            "Epoch [29/30] 24.40 sec, loss_epoch: 4317.36 ,train_loss: 2.3026, train_acc: 0.1000, test_acc: 0.1000\n",
            "Epoch [30/30] 24.22 sec, loss_epoch: 4317.36 ,train_loss: 2.3026, train_acc: 0.1000, test_acc: 0.1000\n",
            "Test Accuracy of the model: 10.0000 %\n",
            "Total Time taken: 729.807 sec\n",
            "elu\n",
            "Epoch [1/30] 24.39 sec, loss_epoch: 989.95 ,train_loss: 0.4167, train_acc: 0.8635, test_acc: 0.8519\n",
            "Epoch [2/30] 24.37 sec, loss_epoch: 637.74 ,train_loss: 0.3045, train_acc: 0.8918, test_acc: 0.8770\n",
            "Epoch [3/30] 24.27 sec, loss_epoch: 545.86 ,train_loss: 0.2602, train_acc: 0.9053, test_acc: 0.8903\n",
            "Epoch [4/30] 24.13 sec, loss_epoch: 484.59 ,train_loss: 0.2224, train_acc: 0.9134, test_acc: 0.8920\n",
            "Epoch [5/30] 24.51 sec, loss_epoch: 434.90 ,train_loss: 0.1887, train_acc: 0.9197, test_acc: 0.8974\n",
            "Epoch [6/30] 25.12 sec, loss_epoch: 391.06 ,train_loss: 0.1687, train_acc: 0.9244, test_acc: 0.8979\n",
            "Epoch [7/30] 24.30 sec, loss_epoch: 352.68 ,train_loss: 0.1635, train_acc: 0.9280, test_acc: 0.8959\n",
            "Epoch [8/30] 24.34 sec, loss_epoch: 317.61 ,train_loss: 0.1584, train_acc: 0.9325, test_acc: 0.8970\n",
            "Epoch [9/30] 24.16 sec, loss_epoch: 285.11 ,train_loss: 0.1334, train_acc: 0.9358, test_acc: 0.8982\n",
            "Epoch [10/30] 24.35 sec, loss_epoch: 263.36 ,train_loss: 0.1464, train_acc: 0.9403, test_acc: 0.8968\n",
            "Epoch [11/30] 24.07 sec, loss_epoch: 236.44 ,train_loss: 0.1646, train_acc: 0.9446, test_acc: 0.8973\n",
            "Epoch [12/30] 24.30 sec, loss_epoch: 229.13 ,train_loss: 0.2103, train_acc: 0.9427, test_acc: 0.8963\n",
            "Epoch [13/30] 24.50 sec, loss_epoch: 197.12 ,train_loss: 0.1481, train_acc: 0.9512, test_acc: 0.8997\n",
            "Epoch [14/30] 24.17 sec, loss_epoch: 189.47 ,train_loss: 0.1610, train_acc: 0.9494, test_acc: 0.8950\n",
            "Epoch [15/30] 24.26 sec, loss_epoch: 182.24 ,train_loss: 0.0865, train_acc: 0.9563, test_acc: 0.8992\n",
            "Epoch [16/30] 24.10 sec, loss_epoch: 166.42 ,train_loss: 0.2808, train_acc: 0.9589, test_acc: 0.8999\n",
            "Epoch [17/30] 25.24 sec, loss_epoch: 143.17 ,train_loss: 0.1267, train_acc: 0.9624, test_acc: 0.9014\n",
            "Epoch [18/30] 24.34 sec, loss_epoch: 147.00 ,train_loss: 0.1131, train_acc: 0.9558, test_acc: 0.8972\n",
            "Epoch [19/30] 24.25 sec, loss_epoch: 128.98 ,train_loss: 0.2158, train_acc: 0.9587, test_acc: 0.8961\n",
            "Epoch [20/30] 24.46 sec, loss_epoch: 137.49 ,train_loss: 0.0783, train_acc: 0.9568, test_acc: 0.8931\n",
            "Epoch [21/30] 24.48 sec, loss_epoch: 108.82 ,train_loss: 0.0186, train_acc: 0.9720, test_acc: 0.9089\n",
            "Epoch [22/30] 24.38 sec, loss_epoch: 101.33 ,train_loss: 0.0163, train_acc: 0.9740, test_acc: 0.9061\n",
            "Epoch [23/30] 24.15 sec, loss_epoch: 105.72 ,train_loss: 0.0398, train_acc: 0.9700, test_acc: 0.9004\n",
            "Epoch [24/30] 24.57 sec, loss_epoch: 102.69 ,train_loss: 0.0120, train_acc: 0.9692, test_acc: 0.9028\n",
            "Epoch [25/30] 24.89 sec, loss_epoch: 107.90 ,train_loss: 0.0758, train_acc: 0.9736, test_acc: 0.9052\n",
            "Epoch [26/30] 24.48 sec, loss_epoch: 93.18 ,train_loss: 0.1038, train_acc: 0.9674, test_acc: 0.9011\n",
            "Epoch [27/30] 24.52 sec, loss_epoch: 86.13 ,train_loss: 0.1651, train_acc: 0.9799, test_acc: 0.9052\n",
            "Epoch [28/30] 25.23 sec, loss_epoch: 88.28 ,train_loss: 0.0330, train_acc: 0.9728, test_acc: 0.9023\n",
            "Epoch [29/30] 24.28 sec, loss_epoch: 72.23 ,train_loss: 0.2843, train_acc: 0.9722, test_acc: 0.8995\n",
            "Epoch [30/30] 24.39 sec, loss_epoch: 79.37 ,train_loss: 0.2366, train_acc: 0.9734, test_acc: 0.9006\n",
            "Test Accuracy of the model: 90.0600 %\n",
            "Total Time taken: 732.986 sec\n"
          ]
        }
      ],
      "source": [
        "for activation in [\"tanh\",\"sigmoid\",\"elu\"]:\n",
        "    num_epochs = 30\n",
        "    num_classes = 10\n",
        "    batch_size = 100\n",
        "    learning_rate = 0.1\n",
        "    dropout_rate = 0\n",
        "    # activations = [\"tanh\",\"sigmoid\",\"elu\"]\n",
        "    print(activation)\n",
        "    training_flag = True\n",
        "    device = torch.device('cuda:0' if torch.cuda.is_available() else 'cpu')\n",
        "    net = MyCNN(num_classes,activation=activation,dropout_rate=dropout_rate,training_flag=training_flag).to(device)\n",
        "    criterion = nn.CrossEntropyLoss()\n",
        "    optimizer = torch.optim.SGD(net.parameters(), lr=learning_rate)\n",
        "    data = train_loader, test_loader\n",
        "    [train_loader,test_loader] = data\n",
        "\n",
        "    t_loss,t_acc,test_acc,final_test_accuracy,exec_time, loss_epoch_array = classify(device,net,data,criterion,optimizer,num_epochs,num_classes,batch_size,learning_rate,activation)\n",
        "    end = [learning_rate,activation,dropout_rate,num_epochs,t_loss,t_acc,test_acc,final_test_accuracy,exec_time]\n",
        "    result.append(end)"
      ]
    },
    {
      "cell_type": "markdown",
      "metadata": {
        "id": "2q0D2xU5w-Ri"
      },
      "source": [
        "4. 5 different learning rates: 0.001, 0.1, 0.5, 1, 10"
      ]
    },
    {
      "cell_type": "code",
      "execution_count": null,
      "metadata": {
        "id": "ChktPpz3xBp5",
        "colab": {
          "base_uri": "https://localhost:8080/"
        },
        "outputId": "116a578e-16bd-4a91-839f-ec012f89fd41"
      },
      "outputs": [
        {
          "output_type": "stream",
          "name": "stdout",
          "text": [
            "0.001\n",
            "Epoch [1/30] 24.41 sec, loss_epoch: 4258.80 ,train_loss: 2.2545, train_acc: 0.4548, test_acc: 0.4579\n",
            "Epoch [2/30] 24.35 sec, loss_epoch: 3761.81 ,train_loss: 1.9277, train_acc: 0.5085, test_acc: 0.5096\n",
            "Epoch [3/30] 24.30 sec, loss_epoch: 2717.85 ,train_loss: 1.6679, train_acc: 0.5910, test_acc: 0.5876\n",
            "Epoch [4/30] 24.13 sec, loss_epoch: 2364.67 ,train_loss: 1.6025, train_acc: 0.6099, test_acc: 0.6091\n",
            "Epoch [5/30] 24.38 sec, loss_epoch: 2246.19 ,train_loss: 1.5823, train_acc: 0.6186, test_acc: 0.6175\n",
            "Epoch [6/30] 24.18 sec, loss_epoch: 2189.87 ,train_loss: 1.5645, train_acc: 0.6240, test_acc: 0.6235\n",
            "Epoch [7/30] 24.18 sec, loss_epoch: 2152.78 ,train_loss: 1.5469, train_acc: 0.6283, test_acc: 0.6279\n",
            "Epoch [8/30] 24.60 sec, loss_epoch: 2123.40 ,train_loss: 1.5324, train_acc: 0.6320, test_acc: 0.6318\n",
            "Epoch [9/30] 24.95 sec, loss_epoch: 2098.46 ,train_loss: 1.5153, train_acc: 0.6352, test_acc: 0.6344\n",
            "Epoch [10/30] 24.18 sec, loss_epoch: 2076.22 ,train_loss: 1.5018, train_acc: 0.6383, test_acc: 0.6365\n",
            "Epoch [11/30] 24.28 sec, loss_epoch: 2056.06 ,train_loss: 1.4883, train_acc: 0.6405, test_acc: 0.6385\n",
            "Epoch [12/30] 24.35 sec, loss_epoch: 2037.43 ,train_loss: 1.4801, train_acc: 0.6427, test_acc: 0.6405\n",
            "Epoch [13/30] 24.28 sec, loss_epoch: 2019.13 ,train_loss: 1.4710, train_acc: 0.6446, test_acc: 0.6418\n",
            "Epoch [14/30] 24.39 sec, loss_epoch: 2001.91 ,train_loss: 1.4633, train_acc: 0.6461, test_acc: 0.6437\n",
            "Epoch [15/30] 24.43 sec, loss_epoch: 1986.62 ,train_loss: 1.4572, train_acc: 0.6474, test_acc: 0.6444\n",
            "Epoch [16/30] 24.47 sec, loss_epoch: 1972.41 ,train_loss: 1.4522, train_acc: 0.6486, test_acc: 0.6464\n",
            "Epoch [17/30] 24.08 sec, loss_epoch: 1959.58 ,train_loss: 1.4484, train_acc: 0.6495, test_acc: 0.6474\n",
            "Epoch [18/30] 24.37 sec, loss_epoch: 1947.98 ,train_loss: 1.4433, train_acc: 0.6492, test_acc: 0.6481\n",
            "Epoch [19/30] 24.70 sec, loss_epoch: 1937.45 ,train_loss: 1.4402, train_acc: 0.6502, test_acc: 0.6493\n",
            "Epoch [20/30] 24.48 sec, loss_epoch: 1927.66 ,train_loss: 1.4359, train_acc: 0.6510, test_acc: 0.6503\n",
            "Epoch [21/30] 24.08 sec, loss_epoch: 1918.51 ,train_loss: 1.4309, train_acc: 0.6525, test_acc: 0.6519\n",
            "Epoch [22/30] 24.32 sec, loss_epoch: 1909.84 ,train_loss: 1.4249, train_acc: 0.6536, test_acc: 0.6525\n",
            "Epoch [23/30] 24.23 sec, loss_epoch: 1901.42 ,train_loss: 1.4188, train_acc: 0.6543, test_acc: 0.6529\n",
            "Epoch [24/30] 24.21 sec, loss_epoch: 1893.33 ,train_loss: 1.4134, train_acc: 0.6551, test_acc: 0.6532\n",
            "Epoch [25/30] 24.18 sec, loss_epoch: 1756.83 ,train_loss: 1.1584, train_acc: 0.7228, test_acc: 0.7180\n",
            "Epoch [26/30] 23.98 sec, loss_epoch: 1667.89 ,train_loss: 1.1157, train_acc: 0.7248, test_acc: 0.7194\n",
            "Epoch [27/30] 24.07 sec, loss_epoch: 1645.46 ,train_loss: 1.0954, train_acc: 0.7269, test_acc: 0.7217\n",
            "Epoch [28/30] 24.37 sec, loss_epoch: 1629.08 ,train_loss: 1.0799, train_acc: 0.7284, test_acc: 0.7238\n",
            "Epoch [29/30] 24.28 sec, loss_epoch: 1615.30 ,train_loss: 1.0684, train_acc: 0.7299, test_acc: 0.7265\n",
            "Epoch [30/30] 24.51 sec, loss_epoch: 1602.89 ,train_loss: 1.0582, train_acc: 0.7314, test_acc: 0.7270\n",
            "Test Accuracy of the model: 72.7000 %\n",
            "Total Time taken: 729.699 sec\n",
            "0.5\n",
            "Epoch [1/30] 24.03 sec, loss_epoch: 3343.05 ,train_loss: 1.7280, train_acc: 0.3861, test_acc: 0.3826\n",
            "Epoch [2/30] 24.04 sec, loss_epoch: 3098.49 ,train_loss: 1.7277, train_acc: 0.3883, test_acc: 0.3852\n",
            "Epoch [3/30] 23.97 sec, loss_epoch: 3083.21 ,train_loss: 1.7302, train_acc: 0.3907, test_acc: 0.3891\n",
            "Epoch [4/30] 24.12 sec, loss_epoch: 3075.03 ,train_loss: 1.7294, train_acc: 0.3852, test_acc: 0.3840\n",
            "Epoch [5/30] 24.32 sec, loss_epoch: 3068.99 ,train_loss: 1.7276, train_acc: 0.3925, test_acc: 0.3896\n",
            "Epoch [6/30] 24.05 sec, loss_epoch: 3066.20 ,train_loss: 1.7281, train_acc: 0.3932, test_acc: 0.3902\n",
            "Epoch [7/30] 24.09 sec, loss_epoch: 3059.36 ,train_loss: 1.7296, train_acc: 0.3930, test_acc: 0.3906\n",
            "Epoch [8/30] 24.80 sec, loss_epoch: 3057.62 ,train_loss: 1.7287, train_acc: 0.3939, test_acc: 0.3897\n",
            "Epoch [9/30] 24.63 sec, loss_epoch: 3053.73 ,train_loss: 1.7276, train_acc: 0.3936, test_acc: 0.3893\n",
            "Epoch [10/30] 24.28 sec, loss_epoch: 3057.66 ,train_loss: 1.7274, train_acc: 0.3940, test_acc: 0.3906\n",
            "Epoch [11/30] 24.36 sec, loss_epoch: 3051.95 ,train_loss: 1.7289, train_acc: 0.3955, test_acc: 0.3915\n",
            "Epoch [12/30] 24.45 sec, loss_epoch: 3055.89 ,train_loss: 1.7277, train_acc: 0.3941, test_acc: 0.3889\n",
            "Epoch [13/30] 24.30 sec, loss_epoch: 3050.20 ,train_loss: 1.7282, train_acc: 0.3950, test_acc: 0.3916\n",
            "Epoch [14/30] 24.30 sec, loss_epoch: 3048.51 ,train_loss: 1.7297, train_acc: 0.3948, test_acc: 0.3901\n",
            "Epoch [15/30] 24.27 sec, loss_epoch: 3046.76 ,train_loss: 1.7269, train_acc: 0.3953, test_acc: 0.3901\n",
            "Epoch [16/30] 24.21 sec, loss_epoch: 3043.96 ,train_loss: 1.7314, train_acc: 0.3963, test_acc: 0.3913\n",
            "Epoch [17/30] 24.23 sec, loss_epoch: 3043.56 ,train_loss: 1.7305, train_acc: 0.3926, test_acc: 0.3894\n",
            "Epoch [18/30] 24.24 sec, loss_epoch: 3047.20 ,train_loss: 1.7271, train_acc: 0.3955, test_acc: 0.3916\n",
            "Epoch [19/30] 24.06 sec, loss_epoch: 3042.83 ,train_loss: 1.7270, train_acc: 0.3955, test_acc: 0.3901\n",
            "Epoch [20/30] 24.08 sec, loss_epoch: 3056.39 ,train_loss: 1.7271, train_acc: 0.3962, test_acc: 0.3916\n",
            "Epoch [21/30] 24.16 sec, loss_epoch: 3041.24 ,train_loss: 1.7269, train_acc: 0.3970, test_acc: 0.3912\n",
            "Epoch [22/30] 24.18 sec, loss_epoch: 3045.30 ,train_loss: 1.7273, train_acc: 0.3974, test_acc: 0.3904\n",
            "Epoch [23/30] 24.55 sec, loss_epoch: 3038.56 ,train_loss: 1.7269, train_acc: 0.3969, test_acc: 0.3904\n",
            "Epoch [24/30] 24.17 sec, loss_epoch: 3053.95 ,train_loss: 1.7270, train_acc: 0.3969, test_acc: 0.3910\n",
            "Epoch [25/30] 24.16 sec, loss_epoch: 3037.66 ,train_loss: 1.7269, train_acc: 0.3964, test_acc: 0.3906\n",
            "Epoch [26/30] 24.15 sec, loss_epoch: 3037.71 ,train_loss: 1.7270, train_acc: 0.3978, test_acc: 0.3912\n",
            "Epoch [27/30] 24.24 sec, loss_epoch: 3037.57 ,train_loss: 1.7296, train_acc: 0.3964, test_acc: 0.3905\n",
            "Epoch [28/30] 24.08 sec, loss_epoch: 3042.42 ,train_loss: 1.7269, train_acc: 0.3979, test_acc: 0.3915\n",
            "Epoch [29/30] 24.16 sec, loss_epoch: 3057.44 ,train_loss: 1.7271, train_acc: 0.3970, test_acc: 0.3910\n",
            "Epoch [30/30] 24.27 sec, loss_epoch: 3039.24 ,train_loss: 1.7281, train_acc: 0.3973, test_acc: 0.3912\n",
            "Test Accuracy of the model: 39.1200 %\n",
            "Total Time taken: 726.967 sec\n",
            "1\n",
            "Epoch [1/30] 24.20 sec, loss_epoch: 4316.36 ,train_loss: 2.3026, train_acc: 0.1000, test_acc: 0.1000\n",
            "Epoch [2/30] 23.95 sec, loss_epoch: 4317.35 ,train_loss: 2.3026, train_acc: 0.1000, test_acc: 0.1000\n",
            "Epoch [3/30] 24.05 sec, loss_epoch: 4317.35 ,train_loss: 2.3026, train_acc: 0.1000, test_acc: 0.1000\n",
            "Epoch [4/30] 24.94 sec, loss_epoch: 4317.35 ,train_loss: 2.3026, train_acc: 0.1000, test_acc: 0.1000\n",
            "Epoch [5/30] 24.07 sec, loss_epoch: 4317.35 ,train_loss: 2.3026, train_acc: 0.1000, test_acc: 0.1000\n",
            "Epoch [6/30] 23.87 sec, loss_epoch: 4317.35 ,train_loss: 2.3026, train_acc: 0.1000, test_acc: 0.1000\n",
            "Epoch [7/30] 24.18 sec, loss_epoch: 4317.35 ,train_loss: 2.3026, train_acc: 0.1000, test_acc: 0.1000\n",
            "Epoch [8/30] 24.21 sec, loss_epoch: 4317.35 ,train_loss: 2.3026, train_acc: 0.1000, test_acc: 0.1000\n",
            "Epoch [9/30] 24.03 sec, loss_epoch: 4317.35 ,train_loss: 2.3026, train_acc: 0.1000, test_acc: 0.1000\n",
            "Epoch [10/30] 23.95 sec, loss_epoch: 4317.35 ,train_loss: 2.3026, train_acc: 0.1000, test_acc: 0.1000\n",
            "Epoch [11/30] 24.24 sec, loss_epoch: 4317.35 ,train_loss: 2.3026, train_acc: 0.1000, test_acc: 0.1000\n",
            "Epoch [12/30] 24.00 sec, loss_epoch: 4317.35 ,train_loss: 2.3026, train_acc: 0.1000, test_acc: 0.1000\n",
            "Epoch [13/30] 24.16 sec, loss_epoch: 4317.35 ,train_loss: 2.3026, train_acc: 0.1000, test_acc: 0.1000\n",
            "Epoch [14/30] 23.77 sec, loss_epoch: 4317.35 ,train_loss: 2.3026, train_acc: 0.1000, test_acc: 0.1000\n",
            "Epoch [15/30] 24.95 sec, loss_epoch: 4317.35 ,train_loss: 2.3026, train_acc: 0.1000, test_acc: 0.1000\n",
            "Epoch [16/30] 23.95 sec, loss_epoch: 4317.35 ,train_loss: 2.3026, train_acc: 0.1000, test_acc: 0.1000\n",
            "Epoch [17/30] 24.19 sec, loss_epoch: 4317.35 ,train_loss: 2.3026, train_acc: 0.1000, test_acc: 0.1000\n",
            "Epoch [18/30] 24.09 sec, loss_epoch: 4317.35 ,train_loss: 2.3026, train_acc: 0.1000, test_acc: 0.1000\n",
            "Epoch [19/30] 23.89 sec, loss_epoch: 4317.35 ,train_loss: 2.3026, train_acc: 0.1000, test_acc: 0.1000\n",
            "Epoch [20/30] 23.94 sec, loss_epoch: 4317.35 ,train_loss: 2.3026, train_acc: 0.1000, test_acc: 0.1000\n",
            "Epoch [21/30] 24.17 sec, loss_epoch: 4317.35 ,train_loss: 2.3026, train_acc: 0.1000, test_acc: 0.1000\n",
            "Epoch [22/30] 24.07 sec, loss_epoch: 4317.35 ,train_loss: 2.3026, train_acc: 0.1000, test_acc: 0.1000\n",
            "Epoch [23/30] 23.93 sec, loss_epoch: 4317.35 ,train_loss: 2.3026, train_acc: 0.1000, test_acc: 0.1000\n",
            "Epoch [24/30] 23.98 sec, loss_epoch: 4317.35 ,train_loss: 2.3026, train_acc: 0.1000, test_acc: 0.1000\n",
            "Epoch [25/30] 24.30 sec, loss_epoch: 4317.35 ,train_loss: 2.3026, train_acc: 0.1000, test_acc: 0.1000\n",
            "Epoch [26/30] 24.23 sec, loss_epoch: 4317.35 ,train_loss: 2.3026, train_acc: 0.1000, test_acc: 0.1000\n",
            "Epoch [27/30] 24.82 sec, loss_epoch: 4317.35 ,train_loss: 2.3026, train_acc: 0.1000, test_acc: 0.1000\n",
            "Epoch [28/30] 24.12 sec, loss_epoch: 4317.35 ,train_loss: 2.3026, train_acc: 0.1000, test_acc: 0.1000\n",
            "Epoch [29/30] 24.13 sec, loss_epoch: 4317.35 ,train_loss: 2.3026, train_acc: 0.1000, test_acc: 0.1000\n",
            "Epoch [30/30] 23.86 sec, loss_epoch: 4317.35 ,train_loss: 2.3026, train_acc: 0.1000, test_acc: 0.1000\n",
            "Test Accuracy of the model: 10.0000 %\n",
            "Total Time taken: 724.262 sec\n",
            "10\n",
            "Epoch [1/30] 24.37 sec, loss_epoch: 10986337.94 ,train_loss: 2.3026, train_acc: 0.1000, test_acc: 0.1000\n",
            "Epoch [2/30] 24.24 sec, loss_epoch: 4317.35 ,train_loss: 2.3026, train_acc: 0.1000, test_acc: 0.1000\n",
            "Epoch [3/30] 24.13 sec, loss_epoch: 4317.35 ,train_loss: 2.3026, train_acc: 0.1000, test_acc: 0.1000\n",
            "Epoch [4/30] 24.03 sec, loss_epoch: 4317.35 ,train_loss: 2.3026, train_acc: 0.1000, test_acc: 0.1000\n",
            "Epoch [5/30] 24.29 sec, loss_epoch: 4317.35 ,train_loss: 2.3026, train_acc: 0.1000, test_acc: 0.1000\n",
            "Epoch [6/30] 24.47 sec, loss_epoch: 4317.35 ,train_loss: 2.3026, train_acc: 0.1000, test_acc: 0.1000\n",
            "Epoch [7/30] 24.05 sec, loss_epoch: 4317.35 ,train_loss: 2.3026, train_acc: 0.1000, test_acc: 0.1000\n",
            "Epoch [8/30] 25.25 sec, loss_epoch: 4317.35 ,train_loss: 2.3026, train_acc: 0.1000, test_acc: 0.1000\n",
            "Epoch [9/30] 24.46 sec, loss_epoch: 4317.35 ,train_loss: 2.3026, train_acc: 0.1000, test_acc: 0.1000\n",
            "Epoch [10/30] 23.99 sec, loss_epoch: 4317.35 ,train_loss: 2.3026, train_acc: 0.1000, test_acc: 0.1000\n",
            "Epoch [11/30] 24.17 sec, loss_epoch: 4317.35 ,train_loss: 2.3026, train_acc: 0.1000, test_acc: 0.1000\n",
            "Epoch [12/30] 24.18 sec, loss_epoch: 4317.35 ,train_loss: 2.3026, train_acc: 0.1000, test_acc: 0.1000\n",
            "Epoch [13/30] 24.11 sec, loss_epoch: 4317.35 ,train_loss: 2.3026, train_acc: 0.1000, test_acc: 0.1000\n",
            "Epoch [14/30] 23.92 sec, loss_epoch: 4317.35 ,train_loss: 2.3026, train_acc: 0.1000, test_acc: 0.1000\n",
            "Epoch [15/30] 24.18 sec, loss_epoch: 4317.35 ,train_loss: 2.3026, train_acc: 0.1000, test_acc: 0.1000\n",
            "Epoch [16/30] 24.07 sec, loss_epoch: 4317.35 ,train_loss: 2.3026, train_acc: 0.1000, test_acc: 0.1000\n",
            "Epoch [17/30] 24.20 sec, loss_epoch: 4317.35 ,train_loss: 2.3026, train_acc: 0.1000, test_acc: 0.1000\n",
            "Epoch [18/30] 24.23 sec, loss_epoch: 4317.35 ,train_loss: 2.3026, train_acc: 0.1000, test_acc: 0.1000\n",
            "Epoch [19/30] 24.29 sec, loss_epoch: 4317.35 ,train_loss: 2.3026, train_acc: 0.1000, test_acc: 0.1000\n",
            "Epoch [20/30] 24.66 sec, loss_epoch: 4317.35 ,train_loss: 2.3026, train_acc: 0.1000, test_acc: 0.1000\n",
            "Epoch [21/30] 24.32 sec, loss_epoch: 4317.35 ,train_loss: 2.3026, train_acc: 0.1000, test_acc: 0.1000\n",
            "Epoch [22/30] 24.37 sec, loss_epoch: 4317.35 ,train_loss: 2.3026, train_acc: 0.1000, test_acc: 0.1000\n",
            "Epoch [23/30] 24.90 sec, loss_epoch: 4317.35 ,train_loss: 2.3026, train_acc: 0.1000, test_acc: 0.1000\n",
            "Epoch [24/30] 24.42 sec, loss_epoch: 4317.35 ,train_loss: 2.3026, train_acc: 0.1000, test_acc: 0.1000\n",
            "Epoch [25/30] 24.46 sec, loss_epoch: 4317.35 ,train_loss: 2.3026, train_acc: 0.1000, test_acc: 0.1000\n",
            "Epoch [26/30] 24.25 sec, loss_epoch: 4317.35 ,train_loss: 2.3026, train_acc: 0.1000, test_acc: 0.1000\n",
            "Epoch [27/30] 24.49 sec, loss_epoch: 4317.35 ,train_loss: 2.3026, train_acc: 0.1000, test_acc: 0.1000\n",
            "Epoch [28/30] 24.48 sec, loss_epoch: 4317.35 ,train_loss: 2.3026, train_acc: 0.1000, test_acc: 0.1000\n",
            "Epoch [29/30] 24.30 sec, loss_epoch: 4317.35 ,train_loss: 2.3026, train_acc: 0.1000, test_acc: 0.1000\n",
            "Epoch [30/30] 24.29 sec, loss_epoch: 4317.35 ,train_loss: 2.3026, train_acc: 0.1000, test_acc: 0.1000\n",
            "Test Accuracy of the model: 10.0000 %\n",
            "Total Time taken: 729.550 sec\n"
          ]
        }
      ],
      "source": [
        "for learning_rate in [0.001,0.5,1,10]:\n",
        "    num_epochs = 30\n",
        "    num_classes = 10\n",
        "    batch_size = 100\n",
        "#     learning_rate = 0.1\n",
        "    activation = \"relu\"\n",
        "    dropout_rate = 0\n",
        "    print(learning_rate)\n",
        "    training_flag = True\n",
        "    device = torch.device('cuda:0' if torch.cuda.is_available() else 'cpu')\n",
        "    net = MyCNN(num_classes,activation=activation,dropout_rate=dropout_rate,training_flag=training_flag).to(device)\n",
        "    criterion = nn.CrossEntropyLoss()\n",
        "    optimizer = torch.optim.SGD(net.parameters(), lr=learning_rate)\n",
        "    data = train_loader, test_loader\n",
        "    [train_loader,test_loader] = data\n",
        "\n",
        "    t_loss,t_acc,test_acc,final_test_accuracy,exec_time, loss_epoch_array = classify(device,net,data,criterion,optimizer,num_epochs,num_classes,batch_size,learning_rate,activation)\n",
        "    end = [learning_rate,activation,dropout_rate,num_epochs,t_loss,t_acc,test_acc,final_test_accuracy,exec_time]\n",
        "    result.append(end)"
      ]
    },
    {
      "cell_type": "raw",
      "metadata": {
        "id": "RzrFGZ6vxCdl"
      },
      "source": [
        "5. Dropout of 0.3 rate on the second fully connected layer"
      ]
    },
    {
      "cell_type": "code",
      "execution_count": null,
      "metadata": {
        "id": "vibjOGgExJgx",
        "colab": {
          "base_uri": "https://localhost:8080/"
        },
        "outputId": "931f194a-7c50-4d04-eeaf-d75abc7b6cd9"
      },
      "outputs": [
        {
          "output_type": "stream",
          "name": "stdout",
          "text": [
            "Epoch [1/30] 25.21 sec, loss_epoch: 2354.46 ,train_loss: 1.1638, train_acc: 0.8538, test_acc: 0.8442\n",
            "Epoch [2/30] 24.47 sec, loss_epoch: 1895.04 ,train_loss: 0.9518, train_acc: 0.8874, test_acc: 0.8764\n",
            "Epoch [3/30] 24.87 sec, loss_epoch: 1825.90 ,train_loss: 0.8751, train_acc: 0.8991, test_acc: 0.8853\n",
            "Epoch [4/30] 24.85 sec, loss_epoch: 1734.15 ,train_loss: 1.0095, train_acc: 0.9138, test_acc: 0.8970\n",
            "Epoch [5/30] 24.52 sec, loss_epoch: 1727.23 ,train_loss: 1.0546, train_acc: 0.9191, test_acc: 0.8996\n",
            "Epoch [6/30] 24.47 sec, loss_epoch: 1703.55 ,train_loss: 0.6132, train_acc: 0.9187, test_acc: 0.8964\n",
            "Epoch [7/30] 24.59 sec, loss_epoch: 1655.48 ,train_loss: 0.9272, train_acc: 0.9285, test_acc: 0.9004\n",
            "Epoch [8/30] 24.50 sec, loss_epoch: 1635.19 ,train_loss: 0.8049, train_acc: 0.9275, test_acc: 0.8991\n",
            "Epoch [9/30] 24.52 sec, loss_epoch: 1607.27 ,train_loss: 1.1932, train_acc: 0.9251, test_acc: 0.8954\n",
            "Epoch [10/30] 24.53 sec, loss_epoch: 1589.57 ,train_loss: 0.5552, train_acc: 0.9315, test_acc: 0.8970\n",
            "Epoch [11/30] 24.53 sec, loss_epoch: 1574.15 ,train_loss: 0.6455, train_acc: 0.9437, test_acc: 0.9038\n",
            "Epoch [12/30] 25.01 sec, loss_epoch: 1560.57 ,train_loss: 0.8538, train_acc: 0.9479, test_acc: 0.9098\n",
            "Epoch [13/30] 24.47 sec, loss_epoch: 1522.31 ,train_loss: 0.2925, train_acc: 0.9379, test_acc: 0.8991\n",
            "Epoch [14/30] 24.81 sec, loss_epoch: 1498.93 ,train_loss: 1.0386, train_acc: 0.9511, test_acc: 0.9064\n",
            "Epoch [15/30] 24.59 sec, loss_epoch: 1504.27 ,train_loss: 0.5794, train_acc: 0.9518, test_acc: 0.9058\n",
            "Epoch [16/30] 24.51 sec, loss_epoch: 1486.55 ,train_loss: 0.7495, train_acc: 0.9524, test_acc: 0.9035\n",
            "Epoch [17/30] 24.53 sec, loss_epoch: 1488.22 ,train_loss: 0.8104, train_acc: 0.9581, test_acc: 0.9056\n",
            "Epoch [18/30] 24.73 sec, loss_epoch: 1458.80 ,train_loss: 0.7854, train_acc: 0.9636, test_acc: 0.9068\n",
            "Epoch [19/30] 24.36 sec, loss_epoch: 1454.99 ,train_loss: 0.7846, train_acc: 0.9621, test_acc: 0.9046\n",
            "Epoch [20/30] 24.62 sec, loss_epoch: 1439.61 ,train_loss: 0.7739, train_acc: 0.9626, test_acc: 0.9038\n",
            "Epoch [21/30] 24.64 sec, loss_epoch: 1435.65 ,train_loss: 0.8919, train_acc: 0.9722, test_acc: 0.9105\n",
            "Epoch [22/30] 24.39 sec, loss_epoch: 1422.72 ,train_loss: 0.7574, train_acc: 0.9659, test_acc: 0.9058\n",
            "Epoch [23/30] 24.64 sec, loss_epoch: 1420.90 ,train_loss: 0.8815, train_acc: 0.9631, test_acc: 0.9040\n",
            "Epoch [24/30] 25.23 sec, loss_epoch: 1418.55 ,train_loss: 0.8562, train_acc: 0.9715, test_acc: 0.9083\n",
            "Epoch [25/30] 24.80 sec, loss_epoch: 1390.33 ,train_loss: 1.0229, train_acc: 0.9702, test_acc: 0.9056\n",
            "Epoch [26/30] 24.32 sec, loss_epoch: 1414.62 ,train_loss: 0.7150, train_acc: 0.9728, test_acc: 0.9079\n",
            "Epoch [27/30] 24.49 sec, loss_epoch: 1400.01 ,train_loss: 0.8118, train_acc: 0.9690, test_acc: 0.9041\n",
            "Epoch [28/30] 24.55 sec, loss_epoch: 1414.87 ,train_loss: 0.3093, train_acc: 0.9749, test_acc: 0.9082\n",
            "Epoch [29/30] 24.56 sec, loss_epoch: 1393.69 ,train_loss: 0.7441, train_acc: 0.9663, test_acc: 0.9030\n",
            "Epoch [30/30] 24.49 sec, loss_epoch: 1377.93 ,train_loss: 0.6567, train_acc: 0.9752, test_acc: 0.9051\n",
            "Test Accuracy of the model: 90.5100 %\n",
            "Total Time taken: 738.812 sec\n"
          ]
        }
      ],
      "source": [
        "result = []\n",
        "num_epochs = 30\n",
        "num_classes = 10\n",
        "batch_size = 100\n",
        "learning_rate = 0.1\n",
        "activation = \"relu\"\n",
        "dropout_rate = 0.3\n",
        "training_flag = True\n",
        "device = torch.device('cuda:0' if torch.cuda.is_available() else 'cpu')\n",
        "net = MyCNN(num_classes,activation=activation,dropout_rate=dropout_rate,training_flag=training_flag).to(device)\n",
        "criterion = nn.CrossEntropyLoss()\n",
        "optimizer = torch.optim.SGD(net.parameters(), lr=learning_rate)\n",
        "data = train_loader, test_loader\n",
        "[train_loader,test_loader] = data\n",
        "\n",
        "t_loss,t_acc,test_acc,final_test_accuracy,exec_time, loss_epoch_array = classify(device,net,data,criterion,optimizer,num_epochs,num_classes,batch_size,learning_rate,activation)\n",
        "end = [learning_rate,activation,dropout_rate,num_epochs,t_loss,t_acc,test_acc,final_test_accuracy,exec_time]\n",
        "result.append(end)"
      ]
    }
  ],
  "metadata": {
    "colab": {
      "provenance": []
    },
    "kernelspec": {
      "display_name": "Python 3 (ipykernel)",
      "language": "python",
      "name": "python3"
    },
    "language_info": {
      "codemirror_mode": {
        "name": "ipython",
        "version": 3
      },
      "file_extension": ".py",
      "mimetype": "text/x-python",
      "name": "python",
      "nbconvert_exporter": "python",
      "pygments_lexer": "ipython3",
      "version": "3.8.8"
    },
    "accelerator": "GPU"
  },
  "nbformat": 4,
  "nbformat_minor": 0
}