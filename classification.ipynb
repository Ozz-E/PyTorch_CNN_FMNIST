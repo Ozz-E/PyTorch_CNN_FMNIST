{
  "cells": [
    {
      "cell_type": "markdown",
      "metadata": {
        "id": "view-in-github",
        "colab_type": "text"
      },
      "source": [
        "<a href=\"https://colab.research.google.com/github/Ozz-E/Lost_Closet_Classification/blob/main/classification.ipynb\" target=\"_parent\"><img src=\"https://colab.research.google.com/assets/colab-badge.svg\" alt=\"Open In Colab\"/></a>"
      ]
    },
    {
      "cell_type": "markdown",
      "metadata": {
        "id": "FtOcJpnmLHTU"
      },
      "source": [
        "3. Lost in the closet (Classification)"
      ]
    },
    {
      "cell_type": "code",
      "execution_count": null,
      "metadata": {
        "id": "J3MY10f8LNQQ",
        "colab": {
          "base_uri": "https://localhost:8080/",
          "height": 431,
          "referenced_widgets": [
            "579a0bc321a64b35930355aa378dd03c",
            "dc9272790db0486a9385d8a08873a3bc",
            "39bb32fe400d40289cf69534d4673a8f",
            "e06d17de7aaa400696e16bf6ede2bec7",
            "97015fcfad094dfc8ed154025ee28512",
            "660af365a66e426985d5fb0122320fe0",
            "3263862c00634f2f8448b1bb0f07574d",
            "caad84bb0db3405d8cd04bc4092b4b9f",
            "4b52699fc0484e1f9bde9567333d0260",
            "fdd07bf407954134939486d10a069524",
            "3e1cc318d7aa45de9774336dd0f722c8",
            "3f6f037e5ad64a46acaa9652f3419cd8",
            "30fef6f3d78a496fba5ad6132160e07a",
            "c3ba5608a85f4baa9c785509ad9fd4f7",
            "2103b7bb334b41a998d30b599b3fbb67",
            "561b4724609842498930830366823c4a",
            "76e4cf8b21464d3a9385695f14275b72",
            "7500793fec274fbf8fc74b0c30a9fd58",
            "77dc802e75f645ae81e99d6a3e82efd8",
            "fef0b1405a974c1383773f00a5d8202c",
            "1117d009be8947838a1e455e4a018aa0",
            "c7687193ceaa4f1fb7f729635810ba4d",
            "6246b162adf34394ba9ad59610b22019",
            "5470b76ee21747729aa334302e7109e9",
            "e8aef71ada3040a8b48c6846a2f013ec",
            "fa329a4eb0ab4ec3b984ca71b552005f",
            "636f92bd150948dab0df3b30eba3a09b",
            "a5fd2b6652624021a538699b56daff38",
            "5dc117a37ecd462fa10018166953d018",
            "734e55a7f5274e8496207a5ba2ce45e5",
            "3341112aaad645409815e02299b0f103",
            "ab1032428ec4459f8c5ccd7a064349f5",
            "d1d8c1d9d0f14826b8a548acda93bdbc",
            "ede08d0867bc4405a487be63aa8f3f19",
            "ace07b814f954ea79b7f5e445da95fb0",
            "ed5f28e05734465ab35f7ea74da98733",
            "6c47466f7fd54772b4f8f3bad62844ec",
            "ff4c39b8283d4067872e3e83770c0fe9",
            "85af7d44697e4b3897946eb8d03f51dd",
            "7b3263580530485ab8f64ae52fc17b52",
            "449f5847fb5e45359bd9a9ee79cea260",
            "604c9124103f46259bc7b382a78f0667",
            "21887f4dcda64d82be49dc18ac5923ea",
            "981df59038234ed4a9c7e4a803e39ebb"
          ]
        },
        "outputId": "569dc399-5f8b-4b79-c489-bcad1a3ab2c3"
      },
      "outputs": [
        {
          "output_type": "stream",
          "name": "stdout",
          "text": [
            "Downloading http://fashion-mnist.s3-website.eu-central-1.amazonaws.com/train-images-idx3-ubyte.gz\n",
            "Downloading http://fashion-mnist.s3-website.eu-central-1.amazonaws.com/train-images-idx3-ubyte.gz to ./FashionMNIST/raw/train-images-idx3-ubyte.gz\n"
          ]
        },
        {
          "output_type": "display_data",
          "data": {
            "text/plain": [
              "  0%|          | 0/26421880 [00:00<?, ?it/s]"
            ],
            "application/vnd.jupyter.widget-view+json": {
              "version_major": 2,
              "version_minor": 0,
              "model_id": "579a0bc321a64b35930355aa378dd03c"
            }
          },
          "metadata": {}
        },
        {
          "output_type": "stream",
          "name": "stdout",
          "text": [
            "Extracting ./FashionMNIST/raw/train-images-idx3-ubyte.gz to ./FashionMNIST/raw\n",
            "\n",
            "Downloading http://fashion-mnist.s3-website.eu-central-1.amazonaws.com/train-labels-idx1-ubyte.gz\n",
            "Downloading http://fashion-mnist.s3-website.eu-central-1.amazonaws.com/train-labels-idx1-ubyte.gz to ./FashionMNIST/raw/train-labels-idx1-ubyte.gz\n"
          ]
        },
        {
          "output_type": "display_data",
          "data": {
            "text/plain": [
              "  0%|          | 0/29515 [00:00<?, ?it/s]"
            ],
            "application/vnd.jupyter.widget-view+json": {
              "version_major": 2,
              "version_minor": 0,
              "model_id": "3f6f037e5ad64a46acaa9652f3419cd8"
            }
          },
          "metadata": {}
        },
        {
          "output_type": "stream",
          "name": "stdout",
          "text": [
            "Extracting ./FashionMNIST/raw/train-labels-idx1-ubyte.gz to ./FashionMNIST/raw\n",
            "\n",
            "Downloading http://fashion-mnist.s3-website.eu-central-1.amazonaws.com/t10k-images-idx3-ubyte.gz\n",
            "Downloading http://fashion-mnist.s3-website.eu-central-1.amazonaws.com/t10k-images-idx3-ubyte.gz to ./FashionMNIST/raw/t10k-images-idx3-ubyte.gz\n"
          ]
        },
        {
          "output_type": "display_data",
          "data": {
            "text/plain": [
              "  0%|          | 0/4422102 [00:00<?, ?it/s]"
            ],
            "application/vnd.jupyter.widget-view+json": {
              "version_major": 2,
              "version_minor": 0,
              "model_id": "6246b162adf34394ba9ad59610b22019"
            }
          },
          "metadata": {}
        },
        {
          "output_type": "stream",
          "name": "stdout",
          "text": [
            "Extracting ./FashionMNIST/raw/t10k-images-idx3-ubyte.gz to ./FashionMNIST/raw\n",
            "\n",
            "Downloading http://fashion-mnist.s3-website.eu-central-1.amazonaws.com/t10k-labels-idx1-ubyte.gz\n",
            "Downloading http://fashion-mnist.s3-website.eu-central-1.amazonaws.com/t10k-labels-idx1-ubyte.gz to ./FashionMNIST/raw/t10k-labels-idx1-ubyte.gz\n"
          ]
        },
        {
          "output_type": "display_data",
          "data": {
            "text/plain": [
              "  0%|          | 0/5148 [00:00<?, ?it/s]"
            ],
            "application/vnd.jupyter.widget-view+json": {
              "version_major": 2,
              "version_minor": 0,
              "model_id": "ede08d0867bc4405a487be63aa8f3f19"
            }
          },
          "metadata": {}
        },
        {
          "output_type": "stream",
          "name": "stdout",
          "text": [
            "Extracting ./FashionMNIST/raw/t10k-labels-idx1-ubyte.gz to ./FashionMNIST/raw\n",
            "\n"
          ]
        }
      ],
      "source": [
        "import torchvision\n",
        "import torchvision.transforms as transforms\n",
        "import torch\n",
        "import torch.nn as nn\n",
        "import time\n",
        "import matplotlib.pyplot as plt\n",
        "import numpy as np\n",
        "import random\n",
        "\n",
        "train_set = torchvision.datasets.FashionMNIST(root = \".\", train=True, download=True, transform=transforms.ToTensor())\n",
        "test_set = torchvision.datasets.FashionMNIST(root = \".\", train=False, download=True, transform=transforms.ToTensor())\n",
        "train_loader = torch.utils.data.DataLoader(train_set, batch_size=32, shuffle=False)\n",
        "test_loader = torch.utils.data.DataLoader(test_set, batch_size=32, shuffle=False)\n",
        "# Fix the seed to be able to get the same randomness across runs and\n",
        "# hence reproducible outcomes\n",
        "torch.manual_seed(0)\n",
        "random.seed(0)\n",
        "np.random.seed(0)\n",
        "# If you are using CuDNN , otherwise you can just ignore\n",
        "torch.cuda.manual_seed(0)\n",
        "torch.backends.cudnn.deterministic=True\n",
        "torch.backends.cudnn.benchmark=False"
      ]
    },
    {
      "cell_type": "markdown",
      "metadata": {
        "id": "hpFI2RfMa1X5"
      },
      "source": [
        "Visualise data for the first element of the batch:\n",
        "(since the batch is set will allways display same picture)"
      ]
    },
    {
      "cell_type": "code",
      "execution_count": null,
      "metadata": {
        "colab": {
          "base_uri": "https://localhost:8080/",
          "height": 319
        },
        "id": "NMJTw7beeBKo",
        "outputId": "dbcb3e42-9890-4c1d-be61-f09e5d2e4565"
      },
      "outputs": [
        {
          "output_type": "stream",
          "name": "stdout",
          "text": [
            "Label is: 9\n",
            "Dimension of input data: torch.Size([32, 1, 28, 28])\n",
            "Dimension of labels: torch.Size([32])\n"
          ]
        },
        {
          "output_type": "display_data",
          "data": {
            "text/plain": [
              "<Figure size 432x288 with 1 Axes>"
            ],
            "image/png": "[encoded data removed]"
          },
          "metadata": {
            "needs_background": "light"
          }
        }
      ],
      "source": [
        "input_data, label = next(iter(train_loader))\n",
        "plt.imshow(input_data[0,:,:,:].numpy().reshape(28,28), cmap=\"gray_r\");\n",
        "print(\"Label is: {}\".format(label[0]))\n",
        "print(\"Dimension of input data: {}\".format(input_data.size()))\n",
        "print(\"Dimension of labels: {}\".format(label.size()))"
      ]
    },
    {
      "cell_type": "code",
      "execution_count": null,
      "metadata": {
        "id": "UzDb7to1a1X6"
      },
      "outputs": [],
      "source": []
    },
    {
      "cell_type": "code",
      "execution_count": null,
      "metadata": {
        "colab": {
          "base_uri": "https://localhost:8080/",
          "height": 482
        },
        "id": "LNaKvxotkNoR",
        "outputId": "c1159fd9-68c2-488c-e6d3-715a305b29bc"
      },
      "outputs": [
        {
          "output_type": "display_data",
          "data": {
            "text/plain": [
              "<Figure size 576x576 with 9 Axes>"
            ],
            "image/png": "[encoded data removed]"
          },
          "metadata": {
            "needs_background": "light"
          }
        }
      ],
      "source": [
        "labels_map = {0 : 'T-Shirt', 1 : 'Trouser', 2 : 'Pullover', 3 : 'Dress', 4 : 'Coat', 5 : 'Sandal', 6 : 'Shirt',\n",
        "              7 : 'Sneaker', 8 : 'Bag', 9 : 'Ankle Boot'};\n",
        "fig = plt.figure(figsize=(8,8));\n",
        "columns = 3;\n",
        "rows = 3;\n",
        "for i in range(1, columns*rows +1):\n",
        "    img_xy = np.random.randint(len(train_set));\n",
        "    img = train_set[img_xy][0][0,:,:]\n",
        "    fig.add_subplot(rows, columns, i)\n",
        "    plt.title(labels_map[train_set[img_xy][1]])\n",
        "    plt.axis('off')\n",
        "    plt.imshow(img, cmap='gray')"
      ]
    },
    {
      "cell_type": "markdown",
      "metadata": {
        "id": "SnOwuziFv7ez"
      },
      "source": [
        "1) Given the problem, what is the most appropriate loss function to use?"
      ]
    },
    {
      "cell_type": "markdown",
      "metadata": {
        "id": "l4aOvvdPwJnh"
      },
      "source": [
        "2) Create and train a Convolutional Neural Network corresponding to the following architecture: \n",
        "\n",
        "    1. Input image size: 28 × 28 × 1 (height × width × number of channels).\n",
        "    2. First convolutional layer: Kernel size (5 × 5), Stride size (1 × 1) and 32 output channels. Activation function.\n",
        "    3. Max pooling layer: Kernel size (2 × 2) and Stride size (2 × 2).\n",
        "    4. Second convolutional layer: Kernel size (5×5), Stride size (1 × 1) and 64 output channels. Activation function.\n",
        "    5. Max pooling layer: Kernel size (2 × 2) and Stride size (2 × 2).\n",
        "    6. First fully-connected layer with input size being the output size of max pooling layer in 5.(flattened, i.e. 1024) and output size 1024. Activation function.\n",
        "    7. Second fully-connected layer with input size being the output size of fully connected layer in (i.e. 1024) and output size 256. Activation function.\n",
        "    8. Output layer with input size being the output size of fully-connected layer in 7. (i.e. 256) and output size 10."
      ]
    },
    {
      "cell_type": "code",
      "execution_count": 17,
      "metadata": {
        "id": "LgGQmeDBkStV"
      },
      "outputs": [],
      "source": [
        "# Build the neural network, expand on top of nn.Module\n",
        "class MyCNN(nn.Module):\n",
        "    def __init__(self,num_classes=10,activation=\"relu\",dropout_rate=0,training_flag=True):\n",
        "        super(MyCNN, self).__init__()\n",
        "\n",
        "        self.num_classes = num_classes # 10 here\n",
        "        self.activation = activation # which activation function to employ\n",
        "        self.dropout_rate = dropout_rate # if dropout then  how much\n",
        "        self.training_flag = training_flag # if dropout then trainable or not\n",
        "\n",
        "        if self.activation == \"relu\":\n",
        "          self.cnn_model1 = nn.Sequential(nn.Conv2d(1,32,kernel_size=5,stride=1), nn.ReLU(), nn.MaxPool2d(2,stride=2), nn.Conv2d(32,64,kernel_size=5,stride=1), nn.ReLU(), nn.MaxPool2d(2,stride=2))\n",
        "          self.fc_model = nn.Sequential(nn.Linear(1024,256), nn.ReLU(), nn.Linear(256,10), nn.ReLU())\n",
        "        # set different activation frunction for task 3\n",
        "        if self.activation == \"tanh\":\n",
        "          self.cnn_model1 = nn.Sequential(nn.Conv2d(1,32,kernel_size=5,stride=1), nn.Tanh(), nn.MaxPool2d(2,stride=2), nn.Conv2d(32,64,kernel_size=5,stride=1), nn.Tanh(), nn.MaxPool2d(2,stride=2))\n",
        "          self.fc_model = nn.Sequential(nn.Linear(1024,256), nn.Tanh(), nn.Linear(256,10), nn.Tanh())\n",
        "        if self.activation == \"sigmoid\":\n",
        "          self.cnn_model1 = nn.Sequential(nn.Conv2d(1,32,kernel_size=5,stride=1), nn.Sigmoid(), nn.MaxPool2d(2,stride=2), nn.Conv2d(32,64,kernel_size=5,stride=1), nn.Sigmoid(), nn.MaxPool2d(2,stride=2))\n",
        "          self.fc_model = nn.Sequential(nn.Linear(1024,256), nn.Sigmoid(), nn.Linear(256,10), nn.Sigmoid())\n",
        "        if self.activation == \"elu\":\n",
        "          self.cnn_model1 = nn.Sequential(nn.Conv2d(1,32,kernel_size=5,stride=1), nn.ELU(), nn.MaxPool2d(2,stride=2), nn.Conv2d(32,64,kernel_size=5,stride=1), nn.ELU(), nn.MaxPool2d(2,stride=2))\n",
        "          self.fc_model = nn.Sequential(nn.Linear(1024,256), nn.ELU(), nn.Linear(256,10), nn.ELU())\n",
        "        # set dropout layer\n",
        "        if self.dropout_rate != 0:\n",
        "          self.cnn_model1 = nn.Sequential(nn.Conv2d(1,32,kernel_size=5,stride=1), nn.ReLU(), nn.MaxPool2d(2,stride=2), nn.Conv2d(32,64,kernel_size=5,stride=1), nn.ReLU(), nn.MaxPool2d(2,stride=2))\n",
        "          self.fc_model = nn.Sequential(nn.Linear(1024,256), nn.ReLU(), nn.Dropout(self.dropout_rate), nn.Linear(256,10), nn.ReLU(), nn.Dropout(self.dropout_rate))          \n",
        "\n",
        "    def forward(self, t):\n",
        "\n",
        "        t = self.cnn_model1(t)\n",
        "        t = t.view(t.size(0), -1)\n",
        "        t = self.fc_model(t)\n",
        "\n",
        "        return t"
      ]
    },
    {
      "cell_type": "code",
      "execution_count": 18,
      "metadata": {
        "id": "wGmJj-w0oaXf"
      },
      "outputs": [],
      "source": [
        "\n",
        "def train(model,x,y,criterion,optimizer):\n",
        "\n",
        "    # zero the parameter gradients\n",
        "    optimizer.zero_grad()\n",
        "    # forward + backward + optimize\n",
        "    outputs = model(x)\n",
        "    # compute the loss\n",
        "    loss = criterion(outputs, y)\n",
        "    # calculate gradient\n",
        "    loss.backward()\n",
        "    # update parametres\n",
        "    optimizer.step()\n",
        "\n",
        "    return loss.item()\n",
        "\n",
        "def evaluation(model,loader):\n",
        "\n",
        "    # evaluation function\n",
        "    correct = 0\n",
        "    total = 0\n",
        "    # turn off dropout layer\n",
        "    model.eval()\n",
        "    # torch.no_grad prevents backward recording, reduces memory consumtion\n",
        "    with torch.no_grad():\n",
        "    \n",
        "        for i, (images,labels) in enumerate(loader):\n",
        "            images, labels = images.to(device), labels.to(device)\n",
        "            # since no_grad is used, generate autograd for this part of evaluation\n",
        "            images = torch.autograd.Variable(images.float())\n",
        "            labels = torch.autograd.Variable(labels)\n",
        "\n",
        "            outputs = model(images)\n",
        "            # the class with highest value is chosen for prediction\n",
        "            # the result tuple of two output tensors (max, max_indices)\n",
        "            # take only indices\n",
        "            _, predicted = torch.max(outputs.data, 1)\n",
        "            total += labels.size(0)\n",
        "            correct += (predicted == labels).sum().item()\n",
        "    \n",
        "    return correct / total if total > 0 else 0"
      ]
    },
    {
      "cell_type": "code",
      "execution_count": 19,
      "metadata": {
        "id": "Z4OqUl8Sodbi"
      },
      "outputs": [],
      "source": [
        "def classify(device,model,data,criterion,optimizer,*params):\n",
        "    # Function to perform classifications with different parametres\n",
        "    num_epochs,num_classes,batch_size,learning_rate,activation = params\n",
        "    train_loader,test_loader = data\n",
        "    # define parametres\n",
        "    total_step = len(train_loader)\n",
        "    train_losses = []\n",
        "    train_accuracy = []\n",
        "    test_accuracy = []\n",
        "    tte = [] # time taken per epoch\n",
        "    loss_epoch_array = []\n",
        "\n",
        "    # start loop that goes through all epoch\n",
        "    for epoch in range(num_epochs):\n",
        "        loss_epoch = 0\n",
        "        tte_start = time.time()\n",
        "        # loop over batches\n",
        "        for i, (images,labels) in enumerate(train_loader):\n",
        "            # to ensure dropout is \"turned on\" while training, is set to 0 in all tasks but last\n",
        "            model.train()\n",
        "            # since no_grad is used, generate autograd for this part of evaluation\n",
        "            images, labels = images.to(device), labels.to(device)\n",
        "            images = torch.autograd.Variable(images.float())\n",
        "            labels = torch.autograd.Variable(labels)\n",
        "\n",
        "            loss = train(model,images,labels,criterion,optimizer)\n",
        "            loss_epoch += loss\n",
        "        # append the results and update time\n",
        "        train_losses.append(loss)\n",
        "        train_accuracy.append(evaluation(model,train_loader))\n",
        "        test_accuracy.append(evaluation(model,test_loader))\n",
        "        loss_epoch_array.append(loss_epoch)\n",
        "        tte_end = time.time()\n",
        "        elapsed_time = tte_end-tte_start\n",
        "        tte.append(elapsed_time)\n",
        "        # print results as soon as epoch ends\n",
        "        print ('Epoch [{}/{}] {:.2f} sec, loss_epoch: {:.2f} ,train_loss: {:.4f}, train_acc: {:.4f}, test_acc: {:.4f}'.format(epoch+1, num_epochs, elapsed_time,loss_epoch,train_losses[-1], train_accuracy[-1],test_accuracy[-1]))\n",
        "    # print final results\n",
        "    final_test_accuracy = evaluation(model,test_loader)\n",
        "    print('Test Accuracy of the model: {:.4f} %'.format(100 * final_test_accuracy))\n",
        "    print('Total Time taken: {:.3f} sec'.format(sum(tte)))\n",
        "    return train_losses, train_accuracy, test_accuracy, final_test_accuracy, elapsed_time, loss_epoch_array"
      ]
    },
    {
      "cell_type": "code",
      "source": [
        "def weights_init(m):\n",
        "  if isinstance(m, nn.Linear) or isinstance(m, nn.Conv2d):\n",
        "    torch.nn.init.xavier_normal_(m.weight)"
      ],
      "metadata": {
        "id": "uE9G0OkGBUNj"
      },
      "execution_count": 20,
      "outputs": []
    },
    {
      "cell_type": "markdown",
      "metadata": {
        "id": "P95my_F9wST4"
      },
      "source": [
        "For training, initialise your weights using the Xavier Uniform initialisation, use ReLU as the activation function, a learning rate of 0.1 with the SGD optimiser. Train neural network 30 epochs."
      ]
    },
    {
      "cell_type": "markdown",
      "metadata": {
        "id": "vI0H_y6TwlCJ"
      },
      "source": [
        " a) Obtain accuracy"
      ]
    },
    {
      "cell_type": "code",
      "execution_count": 21,
      "metadata": {
        "colab": {
          "base_uri": "https://localhost:8080/"
        },
        "id": "i5XZJySJogzN",
        "outputId": "832d19f9-887d-4796-b670-7bb2842265d8"
      },
      "outputs": [
        {
          "output_type": "stream",
          "name": "stdout",
          "text": [
            "Epoch [1/30] 25.71 sec, loss_epoch: 1051.73 ,train_loss: 0.4131, train_acc: 0.8659, test_acc: 0.8513\n",
            "Epoch [2/30] 22.08 sec, loss_epoch: 631.99 ,train_loss: 0.3147, train_acc: 0.8909, test_acc: 0.8755\n",
            "Epoch [3/30] 22.76 sec, loss_epoch: 541.64 ,train_loss: 0.3022, train_acc: 0.8997, test_acc: 0.8794\n",
            "Epoch [4/30] 20.95 sec, loss_epoch: 483.75 ,train_loss: 0.2917, train_acc: 0.9096, test_acc: 0.8934\n",
            "Epoch [5/30] 20.67 sec, loss_epoch: 438.69 ,train_loss: 0.2404, train_acc: 0.9174, test_acc: 0.8953\n",
            "Epoch [6/30] 20.09 sec, loss_epoch: 400.21 ,train_loss: 0.2125, train_acc: 0.9215, test_acc: 0.8979\n",
            "Epoch [7/30] 20.35 sec, loss_epoch: 363.45 ,train_loss: 0.2547, train_acc: 0.9250, test_acc: 0.8960\n",
            "Epoch [8/30] 20.14 sec, loss_epoch: 330.52 ,train_loss: 0.2115, train_acc: 0.9292, test_acc: 0.8990\n",
            "Epoch [9/30] 20.11 sec, loss_epoch: 300.35 ,train_loss: 0.2168, train_acc: 0.9285, test_acc: 0.8987\n",
            "Epoch [10/30] 20.34 sec, loss_epoch: 275.41 ,train_loss: 0.1627, train_acc: 0.9383, test_acc: 0.9009\n",
            "Epoch [11/30] 19.95 sec, loss_epoch: 250.81 ,train_loss: 0.1696, train_acc: 0.9337, test_acc: 0.8937\n",
            "Epoch [12/30] 20.13 sec, loss_epoch: 231.86 ,train_loss: 0.3283, train_acc: 0.9376, test_acc: 0.8981\n",
            "Epoch [13/30] 20.16 sec, loss_epoch: 214.10 ,train_loss: 0.1395, train_acc: 0.9389, test_acc: 0.8944\n",
            "Epoch [14/30] 19.58 sec, loss_epoch: 196.51 ,train_loss: 0.1007, train_acc: 0.9416, test_acc: 0.8968\n",
            "Epoch [15/30] 20.71 sec, loss_epoch: 193.07 ,train_loss: 0.1175, train_acc: 0.9413, test_acc: 0.8922\n",
            "Epoch [16/30] 20.03 sec, loss_epoch: 177.03 ,train_loss: 0.0921, train_acc: 0.9385, test_acc: 0.8920\n",
            "Epoch [17/30] 19.41 sec, loss_epoch: 167.99 ,train_loss: 0.0559, train_acc: 0.9496, test_acc: 0.8976\n",
            "Epoch [18/30] 20.13 sec, loss_epoch: 162.40 ,train_loss: 0.1695, train_acc: 0.9483, test_acc: 0.8918\n",
            "Epoch [19/30] 20.10 sec, loss_epoch: 147.85 ,train_loss: 0.0503, train_acc: 0.9531, test_acc: 0.8961\n",
            "Epoch [20/30] 19.50 sec, loss_epoch: 150.06 ,train_loss: 0.1879, train_acc: 0.9473, test_acc: 0.8948\n",
            "Epoch [21/30] 20.19 sec, loss_epoch: 141.33 ,train_loss: 0.0521, train_acc: 0.9522, test_acc: 0.8959\n",
            "Epoch [22/30] 19.89 sec, loss_epoch: 129.54 ,train_loss: 0.0887, train_acc: 0.9533, test_acc: 0.8925\n",
            "Epoch [23/30] 19.42 sec, loss_epoch: 123.40 ,train_loss: 0.1023, train_acc: 0.9518, test_acc: 0.8921\n",
            "Epoch [24/30] 19.91 sec, loss_epoch: 126.29 ,train_loss: 0.0763, train_acc: 0.9474, test_acc: 0.8888\n",
            "Epoch [25/30] 19.41 sec, loss_epoch: 115.40 ,train_loss: 0.0613, train_acc: 0.9626, test_acc: 0.8980\n",
            "Epoch [26/30] 19.93 sec, loss_epoch: 114.31 ,train_loss: 0.0354, train_acc: 0.9519, test_acc: 0.8929\n",
            "Epoch [27/30] 19.98 sec, loss_epoch: 107.52 ,train_loss: 0.0264, train_acc: 0.9525, test_acc: 0.8922\n",
            "Epoch [28/30] 19.85 sec, loss_epoch: 104.40 ,train_loss: 0.0907, train_acc: 0.9535, test_acc: 0.8926\n",
            "Epoch [29/30] 19.93 sec, loss_epoch: 101.95 ,train_loss: 0.0343, train_acc: 0.9542, test_acc: 0.8927\n",
            "Epoch [30/30] 20.14 sec, loss_epoch: 104.82 ,train_loss: 0.1781, train_acc: 0.9478, test_acc: 0.8883\n",
            "Test Accuracy of the model: 88.8300 %\n",
            "Total Time taken: 611.527 sec\n"
          ]
        }
      ],
      "source": [
        "result = []\n",
        "num_epochs = 30\n",
        "num_classes = 10\n",
        "batch_size = 100\n",
        "learning_rate = 0.1\n",
        "activation = \"relu\"\n",
        "dropout_rate = 0\n",
        "training_flag = True\n",
        "device = torch.device('cuda:0' if torch.cuda.is_available() else 'cpu')\n",
        "net = MyCNN(num_classes,activation=activation,dropout_rate=dropout_rate,training_flag=training_flag).to(device)\n",
        "# initialise weights\n",
        "net.apply(weights_init)\n",
        "\n",
        "criterion = nn.CrossEntropyLoss()\n",
        "optimizer = torch.optim.SGD(list(net.parameters()), lr=learning_rate)\n",
        "data = train_loader, test_loader\n",
        "[train_loader,test_loader] = data \n",
        "\n",
        "t_loss,t_acc,test_acc,final_test_accuracy,exec_time, loss_epoch_array = classify(device,net,data,criterion,optimizer,num_epochs,num_classes,batch_size,learning_rate,activation)\n",
        "end = [learning_rate,activation,dropout_rate,num_epochs,t_loss,t_acc,test_acc,final_test_accuracy,exec_time]\n",
        "result.append(end)"
      ]
    },
    {
      "cell_type": "markdown",
      "metadata": {
        "id": "xOHLRb7UwnRk"
      },
      "source": [
        "b) Plot Accuracy"
      ]
    },
    {
      "cell_type": "code",
      "execution_count": 22,
      "metadata": {
        "id": "HLM5v__hokb9",
        "outputId": "a50223b2-6360-4df0-e228-a111aa61b5dc",
        "colab": {
          "base_uri": "https://localhost:8080/",
          "height": 297
        }
      },
      "outputs": [
        {
          "output_type": "execute_result",
          "data": {
            "text/plain": [
              "<matplotlib.legend.Legend at 0x7f512b47d0d0>"
            ]
          },
          "metadata": {},
          "execution_count": 22
        },
        {
          "output_type": "display_data",
          "data": {
            "text/plain": [
              "<Figure size 432x288 with 1 Axes>"
            ],
            "image/png": "[encoded data removed]"
          },
          "metadata": {
            "needs_background": "light"
          }
        }
      ],
      "source": [
        "plt.xlabel(\"Epoch\")\n",
        "plt.ylabel(\"Accuracy\")\n",
        "plt.plot(t_acc, \"r\")\n",
        "plt.plot(test_acc, \"b\")\n",
        "plt.gca().legend(('train','test'))"
      ]
    },
    {
      "cell_type": "markdown",
      "metadata": {
        "id": "UxaJJxpcwu9O"
      },
      "source": [
        "c) Plot of the train loss per epoch"
      ]
    },
    {
      "cell_type": "code",
      "execution_count": 23,
      "metadata": {
        "id": "U0-otHniw2PZ",
        "outputId": "4b34085a-01e1-4be4-c0eb-403b1d820d19",
        "colab": {
          "base_uri": "https://localhost:8080/",
          "height": 297
        }
      },
      "outputs": [
        {
          "output_type": "execute_result",
          "data": {
            "text/plain": [
              "[<matplotlib.lines.Line2D at 0x7f512b302c10>]"
            ]
          },
          "metadata": {},
          "execution_count": 23
        },
        {
          "output_type": "display_data",
          "data": {
            "text/plain": [
              "<Figure size 432x288 with 1 Axes>"
            ],
            "image/png": "[encoded data removed]"
          },
          "metadata": {
            "needs_background": "light"
          }
        }
      ],
      "source": [
        "plt.xlabel(\"Epoch\")\n",
        "plt.ylabel(\"Loss\")\n",
        "plt.plot(loss_epoch_array)"
      ]
    },
    {
      "cell_type": "markdown",
      "metadata": {
        "id": "H_wBa0qTw2lL"
      },
      "source": [
        "3. Tanh, Sigmoid and ELU"
      ]
    },
    {
      "cell_type": "code",
      "execution_count": 24,
      "metadata": {
        "id": "xdY4l21zw9_b",
        "outputId": "042abc70-7acd-42a4-ba17-cd044c1d1db6",
        "colab": {
          "base_uri": "https://localhost:8080/"
        }
      },
      "outputs": [
        {
          "output_type": "stream",
          "name": "stdout",
          "text": [
            "tanh\n",
            "Epoch [1/30] 19.45 sec, loss_epoch: 2164.16 ,train_loss: 1.0695, train_acc: 0.7702, test_acc: 0.7632\n",
            "Epoch [2/30] 19.84 sec, loss_epoch: 1929.24 ,train_loss: 0.9701, train_acc: 0.8514, test_acc: 0.8387\n",
            "Epoch [3/30] 20.06 sec, loss_epoch: 1854.65 ,train_loss: 0.9262, train_acc: 0.8665, test_acc: 0.8555\n",
            "Epoch [4/30] 19.36 sec, loss_epoch: 1816.50 ,train_loss: 0.9086, train_acc: 0.8765, test_acc: 0.8660\n",
            "Epoch [5/30] 19.97 sec, loss_epoch: 1790.71 ,train_loss: 0.8861, train_acc: 0.8868, test_acc: 0.8750\n",
            "Epoch [6/30] 20.07 sec, loss_epoch: 1770.42 ,train_loss: 0.8778, train_acc: 0.8935, test_acc: 0.8801\n",
            "Epoch [7/30] 19.27 sec, loss_epoch: 1753.10 ,train_loss: 0.9208, train_acc: 0.9000, test_acc: 0.8872\n",
            "Epoch [8/30] 20.10 sec, loss_epoch: 1737.92 ,train_loss: 0.8743, train_acc: 0.9023, test_acc: 0.8879\n",
            "Epoch [9/30] 19.57 sec, loss_epoch: 1724.96 ,train_loss: 0.9226, train_acc: 0.9048, test_acc: 0.8882\n",
            "Epoch [10/30] 19.71 sec, loss_epoch: 1713.78 ,train_loss: 0.9171, train_acc: 0.9102, test_acc: 0.8902\n",
            "Epoch [11/30] 20.48 sec, loss_epoch: 1703.14 ,train_loss: 0.8976, train_acc: 0.9166, test_acc: 0.8944\n",
            "Epoch [12/30] 19.27 sec, loss_epoch: 1694.25 ,train_loss: 0.8969, train_acc: 0.9195, test_acc: 0.8965\n",
            "Epoch [13/30] 19.88 sec, loss_epoch: 1684.13 ,train_loss: 0.8747, train_acc: 0.9221, test_acc: 0.8978\n",
            "Epoch [14/30] 19.89 sec, loss_epoch: 1674.94 ,train_loss: 0.9117, train_acc: 0.9251, test_acc: 0.8997\n",
            "Epoch [15/30] 19.28 sec, loss_epoch: 1666.67 ,train_loss: 0.9033, train_acc: 0.9255, test_acc: 0.8967\n",
            "Epoch [16/30] 20.04 sec, loss_epoch: 1658.39 ,train_loss: 0.8983, train_acc: 0.9305, test_acc: 0.9002\n",
            "Epoch [17/30] 19.76 sec, loss_epoch: 1650.96 ,train_loss: 0.8558, train_acc: 0.9344, test_acc: 0.9016\n",
            "Epoch [18/30] 19.45 sec, loss_epoch: 1644.73 ,train_loss: 0.8951, train_acc: 0.9363, test_acc: 0.9030\n",
            "Epoch [19/30] 19.94 sec, loss_epoch: 1636.75 ,train_loss: 0.8699, train_acc: 0.9383, test_acc: 0.9039\n",
            "Epoch [20/30] 19.37 sec, loss_epoch: 1631.28 ,train_loss: 0.8963, train_acc: 0.9391, test_acc: 0.9020\n",
            "Epoch [21/30] 20.53 sec, loss_epoch: 1626.51 ,train_loss: 0.8646, train_acc: 0.9395, test_acc: 0.9039\n",
            "Epoch [22/30] 20.04 sec, loss_epoch: 1620.14 ,train_loss: 0.8465, train_acc: 0.9419, test_acc: 0.9030\n",
            "Epoch [23/30] 19.45 sec, loss_epoch: 1616.24 ,train_loss: 0.8858, train_acc: 0.9433, test_acc: 0.9032\n",
            "Epoch [24/30] 20.66 sec, loss_epoch: 1612.21 ,train_loss: 0.8622, train_acc: 0.9452, test_acc: 0.9041\n",
            "Epoch [25/30] 20.05 sec, loss_epoch: 1608.54 ,train_loss: 0.8428, train_acc: 0.9473, test_acc: 0.9047\n",
            "Epoch [26/30] 19.47 sec, loss_epoch: 1602.37 ,train_loss: 0.8479, train_acc: 0.9477, test_acc: 0.9040\n",
            "Epoch [27/30] 20.06 sec, loss_epoch: 1599.40 ,train_loss: 0.8513, train_acc: 0.9499, test_acc: 0.9058\n",
            "Epoch [28/30] 19.94 sec, loss_epoch: 1596.53 ,train_loss: 0.8483, train_acc: 0.9501, test_acc: 0.9059\n",
            "Epoch [29/30] 19.55 sec, loss_epoch: 1592.65 ,train_loss: 0.8463, train_acc: 0.9522, test_acc: 0.9067\n",
            "Epoch [30/30] 19.92 sec, loss_epoch: 1590.02 ,train_loss: 0.8518, train_acc: 0.9556, test_acc: 0.9090\n",
            "Test Accuracy of the model: 90.9000 %\n",
            "Total Time taken: 594.423 sec\n",
            "sigmoid\n",
            "Epoch [1/30] 19.94 sec, loss_epoch: 4320.90 ,train_loss: 2.3065, train_acc: 0.1000, test_acc: 0.1000\n",
            "Epoch [2/30] 19.30 sec, loss_epoch: 4281.89 ,train_loss: 2.1004, train_acc: 0.4241, test_acc: 0.4244\n",
            "Epoch [3/30] 19.96 sec, loss_epoch: 3537.12 ,train_loss: 1.7919, train_acc: 0.4905, test_acc: 0.4912\n",
            "Epoch [4/30] 19.63 sec, loss_epoch: 3340.25 ,train_loss: 1.7623, train_acc: 0.5261, test_acc: 0.5228\n",
            "Epoch [5/30] 19.85 sec, loss_epoch: 3273.34 ,train_loss: 1.7389, train_acc: 0.5471, test_acc: 0.5429\n",
            "Epoch [6/30] 21.03 sec, loss_epoch: 3237.59 ,train_loss: 1.7167, train_acc: 0.5509, test_acc: 0.5468\n",
            "Epoch [7/30] 19.67 sec, loss_epoch: 3209.79 ,train_loss: 1.7035, train_acc: 0.5673, test_acc: 0.5614\n",
            "Epoch [8/30] 20.06 sec, loss_epoch: 3175.57 ,train_loss: 1.6683, train_acc: 0.5848, test_acc: 0.5789\n",
            "Epoch [9/30] 20.15 sec, loss_epoch: 3148.76 ,train_loss: 1.6573, train_acc: 0.6020, test_acc: 0.5950\n",
            "Epoch [10/30] 19.58 sec, loss_epoch: 3134.09 ,train_loss: 1.6495, train_acc: 0.6135, test_acc: 0.6084\n",
            "Epoch [11/30] 20.24 sec, loss_epoch: 3121.57 ,train_loss: 1.6435, train_acc: 0.6224, test_acc: 0.6188\n",
            "Epoch [12/30] 20.14 sec, loss_epoch: 3110.09 ,train_loss: 1.6373, train_acc: 0.6264, test_acc: 0.6240\n",
            "Epoch [13/30] 19.66 sec, loss_epoch: 3100.39 ,train_loss: 1.6315, train_acc: 0.6286, test_acc: 0.6255\n",
            "Epoch [14/30] 20.02 sec, loss_epoch: 3092.08 ,train_loss: 1.6270, train_acc: 0.6295, test_acc: 0.6247\n",
            "Epoch [15/30] 19.60 sec, loss_epoch: 3084.70 ,train_loss: 1.6250, train_acc: 0.6300, test_acc: 0.6251\n",
            "Epoch [16/30] 19.91 sec, loss_epoch: 3077.78 ,train_loss: 1.6261, train_acc: 0.6307, test_acc: 0.6250\n",
            "Epoch [17/30] 19.89 sec, loss_epoch: 3070.83 ,train_loss: 1.6261, train_acc: 0.6319, test_acc: 0.6273\n",
            "Epoch [18/30] 19.41 sec, loss_epoch: 3064.18 ,train_loss: 1.6235, train_acc: 0.6336, test_acc: 0.6270\n",
            "Epoch [19/30] 20.48 sec, loss_epoch: 3058.33 ,train_loss: 1.6197, train_acc: 0.6357, test_acc: 0.6289\n",
            "Epoch [20/30] 19.71 sec, loss_epoch: 3053.22 ,train_loss: 1.6158, train_acc: 0.6372, test_acc: 0.6300\n",
            "Epoch [21/30] 19.23 sec, loss_epoch: 3048.67 ,train_loss: 1.6120, train_acc: 0.6387, test_acc: 0.6317\n",
            "Epoch [22/30] 19.86 sec, loss_epoch: 3044.55 ,train_loss: 1.6085, train_acc: 0.6410, test_acc: 0.6328\n",
            "Epoch [23/30] 19.90 sec, loss_epoch: 3040.72 ,train_loss: 1.6055, train_acc: 0.6433, test_acc: 0.6333\n",
            "Epoch [24/30] 19.46 sec, loss_epoch: 3037.13 ,train_loss: 1.6028, train_acc: 0.6456, test_acc: 0.6366\n",
            "Epoch [25/30] 19.67 sec, loss_epoch: 3033.75 ,train_loss: 1.6003, train_acc: 0.6479, test_acc: 0.6388\n",
            "Epoch [26/30] 19.30 sec, loss_epoch: 3030.60 ,train_loss: 1.5981, train_acc: 0.6490, test_acc: 0.6409\n",
            "Epoch [27/30] 19.80 sec, loss_epoch: 3027.64 ,train_loss: 1.5960, train_acc: 0.6512, test_acc: 0.6418\n",
            "Epoch [28/30] 19.70 sec, loss_epoch: 3024.85 ,train_loss: 1.5939, train_acc: 0.6527, test_acc: 0.6424\n",
            "Epoch [29/30] 19.19 sec, loss_epoch: 3022.21 ,train_loss: 1.5919, train_acc: 0.6551, test_acc: 0.6441\n",
            "Epoch [30/30] 19.84 sec, loss_epoch: 3019.72 ,train_loss: 1.5901, train_acc: 0.6574, test_acc: 0.6458\n",
            "Test Accuracy of the model: 64.5800 %\n",
            "Total Time taken: 594.152 sec\n",
            "elu\n",
            "Epoch [1/30] 20.65 sec, loss_epoch: 954.27 ,train_loss: 0.3933, train_acc: 0.8700, test_acc: 0.8588\n",
            "Epoch [2/30] 19.30 sec, loss_epoch: 615.28 ,train_loss: 0.2920, train_acc: 0.8967, test_acc: 0.8841\n",
            "Epoch [3/30] 19.82 sec, loss_epoch: 527.60 ,train_loss: 0.2699, train_acc: 0.9099, test_acc: 0.8940\n",
            "Epoch [4/30] 19.11 sec, loss_epoch: 468.66 ,train_loss: 0.2614, train_acc: 0.9179, test_acc: 0.8981\n",
            "Epoch [5/30] 19.90 sec, loss_epoch: 420.90 ,train_loss: 0.2419, train_acc: 0.9254, test_acc: 0.9002\n",
            "Epoch [6/30] 19.66 sec, loss_epoch: 378.32 ,train_loss: 0.2339, train_acc: 0.9313, test_acc: 0.9001\n",
            "Epoch [7/30] 19.24 sec, loss_epoch: 337.84 ,train_loss: 0.2204, train_acc: 0.9357, test_acc: 0.9032\n",
            "Epoch [8/30] 19.96 sec, loss_epoch: 298.87 ,train_loss: 0.2035, train_acc: 0.9413, test_acc: 0.9025\n",
            "Epoch [9/30] 19.62 sec, loss_epoch: 262.68 ,train_loss: 0.2080, train_acc: 0.9479, test_acc: 0.9028\n",
            "Epoch [10/30] 19.58 sec, loss_epoch: 229.09 ,train_loss: 0.1797, train_acc: 0.9497, test_acc: 0.9042\n",
            "Epoch [11/30] 20.01 sec, loss_epoch: 203.27 ,train_loss: 0.1407, train_acc: 0.9530, test_acc: 0.9030\n",
            "Epoch [12/30] 19.16 sec, loss_epoch: 192.13 ,train_loss: 0.2227, train_acc: 0.9528, test_acc: 0.8958\n",
            "Epoch [13/30] 20.02 sec, loss_epoch: 179.07 ,train_loss: 0.2379, train_acc: 0.9558, test_acc: 0.9020\n",
            "Epoch [14/30] 20.33 sec, loss_epoch: 171.23 ,train_loss: 0.1620, train_acc: 0.9625, test_acc: 0.9021\n",
            "Epoch [15/30] 19.42 sec, loss_epoch: 156.96 ,train_loss: 0.1489, train_acc: 0.9628, test_acc: 0.9010\n",
            "Epoch [16/30] 19.90 sec, loss_epoch: 141.16 ,train_loss: 0.1367, train_acc: 0.9680, test_acc: 0.9028\n",
            "Epoch [17/30] 19.22 sec, loss_epoch: 140.66 ,train_loss: 0.0489, train_acc: 0.9677, test_acc: 0.9017\n",
            "Epoch [18/30] 19.69 sec, loss_epoch: 115.00 ,train_loss: 0.0654, train_acc: 0.9703, test_acc: 0.9032\n",
            "Epoch [19/30] 19.97 sec, loss_epoch: 121.13 ,train_loss: 0.0514, train_acc: 0.9721, test_acc: 0.8999\n",
            "Epoch [20/30] 19.09 sec, loss_epoch: 112.69 ,train_loss: 0.3104, train_acc: 0.9668, test_acc: 0.8984\n",
            "Epoch [21/30] 19.95 sec, loss_epoch: 92.28 ,train_loss: 0.1243, train_acc: 0.9753, test_acc: 0.9013\n",
            "Epoch [22/30] 20.00 sec, loss_epoch: 101.15 ,train_loss: 0.0942, train_acc: 0.9694, test_acc: 0.9003\n",
            "Epoch [23/30] 19.06 sec, loss_epoch: 93.68 ,train_loss: 0.0122, train_acc: 0.9750, test_acc: 0.9018\n",
            "Epoch [24/30] 19.87 sec, loss_epoch: 90.50 ,train_loss: 0.0320, train_acc: 0.9787, test_acc: 0.9067\n",
            "Epoch [25/30] 19.30 sec, loss_epoch: 67.66 ,train_loss: 0.0398, train_acc: 0.9802, test_acc: 0.9064\n",
            "Epoch [26/30] 20.06 sec, loss_epoch: 64.60 ,train_loss: 0.0558, train_acc: 0.9736, test_acc: 0.9000\n",
            "Epoch [27/30] 19.94 sec, loss_epoch: 71.33 ,train_loss: 0.1252, train_acc: 0.9811, test_acc: 0.9049\n",
            "Epoch [28/30] 20.05 sec, loss_epoch: 74.14 ,train_loss: 0.0025, train_acc: 0.9814, test_acc: 0.9044\n",
            "Epoch [29/30] 19.96 sec, loss_epoch: 86.36 ,train_loss: 0.0352, train_acc: 0.9748, test_acc: 0.8977\n",
            "Epoch [30/30] 19.95 sec, loss_epoch: 82.94 ,train_loss: 0.0080, train_acc: 0.9834, test_acc: 0.9046\n",
            "Test Accuracy of the model: 90.4600 %\n",
            "Total Time taken: 591.789 sec\n"
          ]
        }
      ],
      "source": [
        "for activation in [\"tanh\",\"sigmoid\",\"elu\"]:\n",
        "    num_epochs = 30\n",
        "    num_classes = 10\n",
        "    batch_size = 100\n",
        "    learning_rate = 0.1\n",
        "    dropout_rate = 0\n",
        "    # activations = [\"tanh\",\"sigmoid\",\"elu\"]\n",
        "    print(activation)\n",
        "    training_flag = True\n",
        "    device = torch.device('cuda:0' if torch.cuda.is_available() else 'cpu')\n",
        "    net = MyCNN(num_classes,activation=activation,dropout_rate=dropout_rate,training_flag=training_flag).to(device)\n",
        "    criterion = nn.CrossEntropyLoss()\n",
        "    optimizer = torch.optim.SGD(net.parameters(), lr=learning_rate)\n",
        "    data = train_loader, test_loader\n",
        "    [train_loader,test_loader] = data \n",
        "\n",
        "    t_loss,t_acc,test_acc,final_test_accuracy,exec_time, loss_epoch_array = classify(device,net,data,criterion,optimizer,num_epochs,num_classes,batch_size,learning_rate,activation)\n",
        "    end = [learning_rate,activation,dropout_rate,num_epochs,t_loss,t_acc,test_acc,final_test_accuracy,exec_time]\n",
        "    result.append(end)"
      ]
    },
    {
      "cell_type": "markdown",
      "metadata": {
        "id": "2q0D2xU5w-Ri"
      },
      "source": [
        "4. 5 different learning rates: 0.001, 0.1, 0.5, 1, 10"
      ]
    },
    {
      "cell_type": "code",
      "execution_count": 25,
      "metadata": {
        "id": "ChktPpz3xBp5",
        "colab": {
          "base_uri": "https://localhost:8080/"
        },
        "outputId": "4c6276f7-94aa-4dc7-b25c-de88c9685d52"
      },
      "outputs": [
        {
          "output_type": "stream",
          "name": "stdout",
          "text": [
            "0.001\n",
            "Epoch [1/30] 19.21 sec, loss_epoch: 4298.99 ,train_loss: 2.2729, train_acc: 0.2908, test_acc: 0.2891\n",
            "Epoch [2/30] 19.82 sec, loss_epoch: 4182.22 ,train_loss: 2.1230, train_acc: 0.3048, test_acc: 0.2995\n",
            "Epoch [3/30] 19.51 sec, loss_epoch: 3773.39 ,train_loss: 1.8328, train_acc: 0.3482, test_acc: 0.3455\n",
            "Epoch [4/30] 19.53 sec, loss_epoch: 3382.56 ,train_loss: 1.6458, train_acc: 0.3940, test_acc: 0.3848\n",
            "Epoch [5/30] 19.79 sec, loss_epoch: 3146.98 ,train_loss: 1.5128, train_acc: 0.3969, test_acc: 0.3885\n",
            "Epoch [6/30] 19.18 sec, loss_epoch: 3008.73 ,train_loss: 1.4284, train_acc: 0.4020, test_acc: 0.3932\n",
            "Epoch [7/30] 19.80 sec, loss_epoch: 2925.99 ,train_loss: 1.3846, train_acc: 0.4073, test_acc: 0.3985\n",
            "Epoch [8/30] 19.92 sec, loss_epoch: 2869.91 ,train_loss: 1.3640, train_acc: 0.4112, test_acc: 0.4032\n",
            "Epoch [9/30] 19.19 sec, loss_epoch: 2826.40 ,train_loss: 1.3520, train_acc: 0.4159, test_acc: 0.4086\n",
            "Epoch [10/30] 19.85 sec, loss_epoch: 2788.79 ,train_loss: 1.3447, train_acc: 0.4195, test_acc: 0.4111\n",
            "Epoch [11/30] 20.13 sec, loss_epoch: 2755.20 ,train_loss: 1.3368, train_acc: 0.4237, test_acc: 0.4154\n",
            "Epoch [12/30] 19.59 sec, loss_epoch: 2724.96 ,train_loss: 1.3309, train_acc: 0.4280, test_acc: 0.4203\n",
            "Epoch [13/30] 19.81 sec, loss_epoch: 2697.78 ,train_loss: 1.3226, train_acc: 0.4322, test_acc: 0.4245\n",
            "Epoch [14/30] 19.16 sec, loss_epoch: 2673.37 ,train_loss: 1.3138, train_acc: 0.4358, test_acc: 0.4294\n",
            "Epoch [15/30] 19.71 sec, loss_epoch: 2651.46 ,train_loss: 1.3044, train_acc: 0.4399, test_acc: 0.4326\n",
            "Epoch [16/30] 19.95 sec, loss_epoch: 2631.57 ,train_loss: 1.2943, train_acc: 0.4436, test_acc: 0.4354\n",
            "Epoch [17/30] 19.33 sec, loss_epoch: 2613.45 ,train_loss: 1.2862, train_acc: 0.4477, test_acc: 0.4385\n",
            "Epoch [18/30] 19.72 sec, loss_epoch: 2596.88 ,train_loss: 1.2784, train_acc: 0.4514, test_acc: 0.4417\n",
            "Epoch [19/30] 19.18 sec, loss_epoch: 2581.50 ,train_loss: 1.2694, train_acc: 0.4553, test_acc: 0.4470\n",
            "Epoch [20/30] 19.62 sec, loss_epoch: 2567.16 ,train_loss: 1.2607, train_acc: 0.4585, test_acc: 0.4507\n",
            "Epoch [21/30] 19.86 sec, loss_epoch: 2553.70 ,train_loss: 1.2526, train_acc: 0.4615, test_acc: 0.4549\n",
            "Epoch [22/30] 19.12 sec, loss_epoch: 2541.05 ,train_loss: 1.2436, train_acc: 0.4643, test_acc: 0.4577\n",
            "Epoch [23/30] 19.75 sec, loss_epoch: 2529.13 ,train_loss: 1.2372, train_acc: 0.4666, test_acc: 0.4593\n",
            "Epoch [24/30] 20.25 sec, loss_epoch: 2517.76 ,train_loss: 1.2301, train_acc: 0.4686, test_acc: 0.4616\n",
            "Epoch [25/30] 20.16 sec, loss_epoch: 2506.97 ,train_loss: 1.2235, train_acc: 0.4706, test_acc: 0.4632\n",
            "Epoch [26/30] 19.66 sec, loss_epoch: 2496.63 ,train_loss: 1.2194, train_acc: 0.4721, test_acc: 0.4651\n",
            "Epoch [27/30] 19.30 sec, loss_epoch: 2486.79 ,train_loss: 1.2158, train_acc: 0.4739, test_acc: 0.4676\n",
            "Epoch [28/30] 19.88 sec, loss_epoch: 2477.23 ,train_loss: 1.2132, train_acc: 0.4755, test_acc: 0.4698\n",
            "Epoch [29/30] 19.85 sec, loss_epoch: 2468.06 ,train_loss: 1.2103, train_acc: 0.4772, test_acc: 0.4714\n",
            "Epoch [30/30] 19.38 sec, loss_epoch: 2459.30 ,train_loss: 1.2073, train_acc: 0.4789, test_acc: 0.4729\n",
            "Test Accuracy of the model: 47.2900 %\n",
            "Total Time taken: 589.225 sec\n",
            "0.5\n",
            "Epoch [1/30] 19.90 sec, loss_epoch: 2697.16 ,train_loss: 0.9874, train_acc: 0.4836, test_acc: 0.4757\n",
            "Epoch [2/30] 19.70 sec, loss_epoch: 2305.22 ,train_loss: 0.9976, train_acc: 0.4926, test_acc: 0.4781\n",
            "Epoch [3/30] 19.23 sec, loss_epoch: 2245.83 ,train_loss: 0.9480, train_acc: 0.4972, test_acc: 0.4824\n",
            "Epoch [4/30] 19.75 sec, loss_epoch: 2209.18 ,train_loss: 0.8720, train_acc: 0.5010, test_acc: 0.4830\n",
            "Epoch [5/30] 19.29 sec, loss_epoch: 2183.19 ,train_loss: 0.9104, train_acc: 0.5062, test_acc: 0.4863\n",
            "Epoch [6/30] 19.97 sec, loss_epoch: 2164.52 ,train_loss: 0.9105, train_acc: 0.5154, test_acc: 0.4912\n",
            "Epoch [7/30] 19.95 sec, loss_epoch: 2143.22 ,train_loss: 0.8271, train_acc: 0.5226, test_acc: 0.4949\n",
            "Epoch [8/30] 19.85 sec, loss_epoch: 2142.54 ,train_loss: 0.8527, train_acc: 0.5070, test_acc: 0.4848\n",
            "Epoch [9/30] 19.97 sec, loss_epoch: 2130.93 ,train_loss: 0.9013, train_acc: 0.5269, test_acc: 0.4959\n",
            "Epoch [10/30] 20.00 sec, loss_epoch: 2113.58 ,train_loss: 0.8348, train_acc: 0.5207, test_acc: 0.4925\n",
            "Epoch [11/30] 19.48 sec, loss_epoch: 2123.22 ,train_loss: 0.8704, train_acc: 0.5224, test_acc: 0.4929\n",
            "Epoch [12/30] 19.93 sec, loss_epoch: 2128.15 ,train_loss: 0.8100, train_acc: 0.5232, test_acc: 0.4917\n",
            "Epoch [13/30] 19.52 sec, loss_epoch: 2104.87 ,train_loss: 0.8231, train_acc: 0.5208, test_acc: 0.4902\n",
            "Epoch [14/30] 19.61 sec, loss_epoch: 2098.45 ,train_loss: 0.8880, train_acc: 0.5192, test_acc: 0.4856\n",
            "Epoch [15/30] 19.93 sec, loss_epoch: 2075.38 ,train_loss: 0.8750, train_acc: 0.5302, test_acc: 0.4920\n",
            "Epoch [16/30] 19.15 sec, loss_epoch: 2090.21 ,train_loss: 1.0117, train_acc: 0.5180, test_acc: 0.4787\n",
            "Epoch [17/30] 20.10 sec, loss_epoch: 2092.12 ,train_loss: 0.8535, train_acc: 0.5312, test_acc: 0.4901\n",
            "Epoch [18/30] 19.81 sec, loss_epoch: 2034.48 ,train_loss: 0.7586, train_acc: 0.6155, test_acc: 0.5817\n",
            "Epoch [19/30] 19.43 sec, loss_epoch: 1763.93 ,train_loss: 0.7033, train_acc: 0.6233, test_acc: 0.5871\n",
            "Epoch [20/30] 19.98 sec, loss_epoch: 1686.51 ,train_loss: 0.6988, train_acc: 0.6256, test_acc: 0.5854\n",
            "Epoch [21/30] 19.50 sec, loss_epoch: 2499.98 ,train_loss: 2.3026, train_acc: 0.1000, test_acc: 0.1000\n",
            "Epoch [22/30] 20.43 sec, loss_epoch: 4317.35 ,train_loss: 2.3026, train_acc: 0.1000, test_acc: 0.1000\n",
            "Epoch [23/30] 19.96 sec, loss_epoch: 4317.35 ,train_loss: 2.3026, train_acc: 0.1000, test_acc: 0.1000\n",
            "Epoch [24/30] 19.11 sec, loss_epoch: 4317.35 ,train_loss: 2.3026, train_acc: 0.1000, test_acc: 0.1000\n",
            "Epoch [25/30] 19.87 sec, loss_epoch: 4317.35 ,train_loss: 2.3026, train_acc: 0.1000, test_acc: 0.1000\n",
            "Epoch [26/30] 19.88 sec, loss_epoch: 4317.35 ,train_loss: 2.3026, train_acc: 0.1000, test_acc: 0.1000\n",
            "Epoch [27/30] 19.38 sec, loss_epoch: 4317.35 ,train_loss: 2.3026, train_acc: 0.1000, test_acc: 0.1000\n",
            "Epoch [28/30] 19.90 sec, loss_epoch: 4317.35 ,train_loss: 2.3026, train_acc: 0.1000, test_acc: 0.1000\n",
            "Epoch [29/30] 19.97 sec, loss_epoch: 4317.35 ,train_loss: 2.3026, train_acc: 0.1000, test_acc: 0.1000\n",
            "Epoch [30/30] 19.62 sec, loss_epoch: 4317.35 ,train_loss: 2.3026, train_acc: 0.1000, test_acc: 0.1000\n",
            "Test Accuracy of the model: 10.0000 %\n",
            "Total Time taken: 592.170 sec\n",
            "1\n",
            "Epoch [1/30] 19.96 sec, loss_epoch: 4266.48 ,train_loss: 2.2524, train_acc: 0.1000, test_acc: 0.1000\n",
            "Epoch [2/30] 19.71 sec, loss_epoch: 4043.61 ,train_loss: 2.3436, train_acc: 0.1000, test_acc: 0.1000\n",
            "Epoch [3/30] 19.33 sec, loss_epoch: 4026.41 ,train_loss: 2.3269, train_acc: 0.1000, test_acc: 0.1000\n",
            "Epoch [4/30] 19.88 sec, loss_epoch: 4027.90 ,train_loss: 2.2523, train_acc: 0.1000, test_acc: 0.1000\n",
            "Epoch [5/30] 19.24 sec, loss_epoch: 4018.72 ,train_loss: 2.1711, train_acc: 0.1000, test_acc: 0.1000\n",
            "Epoch [6/30] 20.35 sec, loss_epoch: 4013.80 ,train_loss: 2.3296, train_acc: 0.1000, test_acc: 0.1000\n",
            "Epoch [7/30] 19.82 sec, loss_epoch: 4006.73 ,train_loss: 2.2584, train_acc: 0.1000, test_acc: 0.1000\n",
            "Epoch [8/30] 18.99 sec, loss_epoch: 4003.17 ,train_loss: 2.2860, train_acc: 0.1000, test_acc: 0.1000\n",
            "Epoch [9/30] 20.50 sec, loss_epoch: 4004.29 ,train_loss: 2.2296, train_acc: 0.1000, test_acc: 0.1000\n",
            "Epoch [10/30] 20.60 sec, loss_epoch: 3998.63 ,train_loss: 2.2073, train_acc: 0.1000, test_acc: 0.1000\n",
            "Epoch [11/30] 19.80 sec, loss_epoch: 3898.43 ,train_loss: 2.0173, train_acc: 0.1491, test_acc: 0.1419\n",
            "Epoch [12/30] 20.77 sec, loss_epoch: 3652.36 ,train_loss: 1.3801, train_acc: 0.2772, test_acc: 0.2675\n",
            "Epoch [13/30] 20.47 sec, loss_epoch: 3262.19 ,train_loss: 1.3933, train_acc: 0.2900, test_acc: 0.2759\n",
            "Epoch [14/30] 20.24 sec, loss_epoch: 3218.85 ,train_loss: 1.5148, train_acc: 0.2623, test_acc: 0.2546\n",
            "Epoch [15/30] 21.11 sec, loss_epoch: 3211.05 ,train_loss: 1.3913, train_acc: 0.2962, test_acc: 0.2844\n",
            "Epoch [16/30] 21.12 sec, loss_epoch: 3192.61 ,train_loss: 1.4314, train_acc: 0.2995, test_acc: 0.2865\n",
            "Epoch [17/30] 20.16 sec, loss_epoch: 3188.04 ,train_loss: 1.4827, train_acc: 0.3015, test_acc: 0.2889\n",
            "Epoch [18/30] 20.49 sec, loss_epoch: 3156.83 ,train_loss: 1.2840, train_acc: 0.3756, test_acc: 0.3565\n",
            "Epoch [19/30] 20.92 sec, loss_epoch: 2887.52 ,train_loss: 1.2526, train_acc: 0.3807, test_acc: 0.3616\n",
            "Epoch [20/30] 19.86 sec, loss_epoch: 2855.74 ,train_loss: 1.1399, train_acc: 0.3800, test_acc: 0.3634\n",
            "Epoch [21/30] 20.44 sec, loss_epoch: 2847.99 ,train_loss: 1.2475, train_acc: 0.3774, test_acc: 0.3599\n",
            "Epoch [22/30] 20.12 sec, loss_epoch: 2839.70 ,train_loss: 1.2411, train_acc: 0.3780, test_acc: 0.3647\n",
            "Epoch [23/30] 19.31 sec, loss_epoch: 2857.27 ,train_loss: 1.3532, train_acc: 0.3799, test_acc: 0.3630\n",
            "Epoch [24/30] 20.26 sec, loss_epoch: 2717.31 ,train_loss: 0.9925, train_acc: 0.4715, test_acc: 0.4539\n",
            "Epoch [25/30] 20.51 sec, loss_epoch: 2467.79 ,train_loss: 1.2416, train_acc: 0.4686, test_acc: 0.4528\n",
            "Epoch [26/30] 20.00 sec, loss_epoch: 2453.90 ,train_loss: 1.0378, train_acc: 0.4763, test_acc: 0.4563\n",
            "Epoch [27/30] 20.74 sec, loss_epoch: 2445.58 ,train_loss: 1.0025, train_acc: 0.4750, test_acc: 0.4568\n",
            "Epoch [28/30] 20.15 sec, loss_epoch: 2478.43 ,train_loss: 1.0505, train_acc: 0.4754, test_acc: 0.4550\n",
            "Epoch [29/30] 19.63 sec, loss_epoch: 2487.69 ,train_loss: 1.1798, train_acc: 0.4870, test_acc: 0.4737\n",
            "Epoch [30/30] 20.38 sec, loss_epoch: 2447.81 ,train_loss: 1.2138, train_acc: 0.5030, test_acc: 0.4866\n",
            "Test Accuracy of the model: 48.6600 %\n",
            "Total Time taken: 604.868 sec\n",
            "10\n",
            "Epoch [1/30] 20.23 sec, loss_epoch: nan ,train_loss: nan, train_acc: 0.1000, test_acc: 0.1000\n",
            "Epoch [2/30] 19.57 sec, loss_epoch: nan ,train_loss: nan, train_acc: 0.1000, test_acc: 0.1000\n",
            "Epoch [3/30] 21.09 sec, loss_epoch: nan ,train_loss: nan, train_acc: 0.1000, test_acc: 0.1000\n",
            "Epoch [4/30] 20.15 sec, loss_epoch: nan ,train_loss: nan, train_acc: 0.1000, test_acc: 0.1000\n",
            "Epoch [5/30] 19.49 sec, loss_epoch: nan ,train_loss: nan, train_acc: 0.1000, test_acc: 0.1000\n",
            "Epoch [6/30] 20.08 sec, loss_epoch: nan ,train_loss: nan, train_acc: 0.1000, test_acc: 0.1000\n",
            "Epoch [7/30] 20.13 sec, loss_epoch: nan ,train_loss: nan, train_acc: 0.1000, test_acc: 0.1000\n",
            "Epoch [8/30] 19.57 sec, loss_epoch: nan ,train_loss: nan, train_acc: 0.1000, test_acc: 0.1000\n",
            "Epoch [9/30] 20.31 sec, loss_epoch: nan ,train_loss: nan, train_acc: 0.1000, test_acc: 0.1000\n",
            "Epoch [10/30] 20.01 sec, loss_epoch: nan ,train_loss: nan, train_acc: 0.1000, test_acc: 0.1000\n",
            "Epoch [11/30] 19.75 sec, loss_epoch: nan ,train_loss: nan, train_acc: 0.1000, test_acc: 0.1000\n",
            "Epoch [12/30] 20.04 sec, loss_epoch: nan ,train_loss: nan, train_acc: 0.1000, test_acc: 0.1000\n",
            "Epoch [13/30] 19.71 sec, loss_epoch: nan ,train_loss: nan, train_acc: 0.1000, test_acc: 0.1000\n",
            "Epoch [14/30] 19.98 sec, loss_epoch: nan ,train_loss: nan, train_acc: 0.1000, test_acc: 0.1000\n",
            "Epoch [15/30] 20.01 sec, loss_epoch: nan ,train_loss: nan, train_acc: 0.1000, test_acc: 0.1000\n",
            "Epoch [16/30] 19.66 sec, loss_epoch: nan ,train_loss: nan, train_acc: 0.1000, test_acc: 0.1000\n",
            "Epoch [17/30] 20.93 sec, loss_epoch: nan ,train_loss: nan, train_acc: 0.1000, test_acc: 0.1000\n",
            "Epoch [18/30] 20.05 sec, loss_epoch: nan ,train_loss: nan, train_acc: 0.1000, test_acc: 0.1000\n",
            "Epoch [19/30] 19.47 sec, loss_epoch: nan ,train_loss: nan, train_acc: 0.1000, test_acc: 0.1000\n",
            "Epoch [20/30] 20.29 sec, loss_epoch: nan ,train_loss: nan, train_acc: 0.1000, test_acc: 0.1000\n",
            "Epoch [21/30] 20.07 sec, loss_epoch: nan ,train_loss: nan, train_acc: 0.1000, test_acc: 0.1000\n",
            "Epoch [22/30] 19.43 sec, loss_epoch: nan ,train_loss: nan, train_acc: 0.1000, test_acc: 0.1000\n",
            "Epoch [23/30] 20.02 sec, loss_epoch: nan ,train_loss: nan, train_acc: 0.1000, test_acc: 0.1000\n",
            "Epoch [24/30] 19.82 sec, loss_epoch: nan ,train_loss: nan, train_acc: 0.1000, test_acc: 0.1000\n",
            "Epoch [25/30] 19.93 sec, loss_epoch: nan ,train_loss: nan, train_acc: 0.1000, test_acc: 0.1000\n",
            "Epoch [26/30] 20.07 sec, loss_epoch: nan ,train_loss: nan, train_acc: 0.1000, test_acc: 0.1000\n",
            "Epoch [27/30] 19.48 sec, loss_epoch: nan ,train_loss: nan, train_acc: 0.1000, test_acc: 0.1000\n",
            "Epoch [28/30] 20.07 sec, loss_epoch: nan ,train_loss: nan, train_acc: 0.1000, test_acc: 0.1000\n",
            "Epoch [29/30] 20.10 sec, loss_epoch: nan ,train_loss: nan, train_acc: 0.1000, test_acc: 0.1000\n",
            "Epoch [30/30] 19.44 sec, loss_epoch: nan ,train_loss: nan, train_acc: 0.1000, test_acc: 0.1000\n",
            "Test Accuracy of the model: 10.0000 %\n",
            "Total Time taken: 598.928 sec\n"
          ]
        }
      ],
      "source": [
        "for learning_rate in [0.001,0.5,1,10]:\n",
        "    num_epochs = 30\n",
        "    num_classes = 10\n",
        "    batch_size = 100\n",
        "#     learning_rate = 0.1\n",
        "    activation = \"relu\"\n",
        "    dropout_rate = 0\n",
        "    print(learning_rate)\n",
        "    training_flag = True\n",
        "    device = torch.device('cuda:0' if torch.cuda.is_available() else 'cpu')\n",
        "    net = MyCNN(num_classes,activation=activation,dropout_rate=dropout_rate,training_flag=training_flag).to(device)\n",
        "    criterion = nn.CrossEntropyLoss()\n",
        "    optimizer = torch.optim.SGD(net.parameters(), lr=learning_rate)\n",
        "    data = train_loader, test_loader\n",
        "    [train_loader,test_loader] = data \n",
        "\n",
        "    t_loss,t_acc,test_acc,final_test_accuracy,exec_time, loss_epoch_array = classify(device,net,data,criterion,optimizer,num_epochs,num_classes,batch_size,learning_rate,activation)\n",
        "    end = [learning_rate,activation,dropout_rate,num_epochs,t_loss,t_acc,test_acc,final_test_accuracy,exec_time]\n",
        "    result.append(end)"
      ]
    },
    {
      "cell_type": "raw",
      "metadata": {
        "id": "RzrFGZ6vxCdl"
      },
      "source": [
        "5. Dropout of 0.3 rate on the second fully connected layer"
      ]
    },
    {
      "cell_type": "code",
      "execution_count": 26,
      "metadata": {
        "id": "vibjOGgExJgx",
        "colab": {
          "base_uri": "https://localhost:8080/"
        },
        "outputId": "b4c34f59-0996-489e-8564-3c47289acd70"
      },
      "outputs": [
        {
          "output_type": "stream",
          "name": "stdout",
          "text": [
            "Epoch [1/30] 21.12 sec, loss_epoch: 2674.95 ,train_loss: 1.4145, train_acc: 0.7666, test_acc: 0.7568\n",
            "Epoch [2/30] 20.77 sec, loss_epoch: 1974.41 ,train_loss: 0.9587, train_acc: 0.8826, test_acc: 0.8721\n",
            "Epoch [3/30] 19.78 sec, loss_epoch: 1858.38 ,train_loss: 0.8771, train_acc: 0.8971, test_acc: 0.8846\n",
            "Epoch [4/30] 20.35 sec, loss_epoch: 1803.90 ,train_loss: 0.9671, train_acc: 0.8985, test_acc: 0.8842\n",
            "Epoch [5/30] 20.33 sec, loss_epoch: 1773.94 ,train_loss: 0.8763, train_acc: 0.9154, test_acc: 0.8938\n",
            "Epoch [6/30] 19.79 sec, loss_epoch: 1760.02 ,train_loss: 0.9726, train_acc: 0.9188, test_acc: 0.8965\n",
            "Epoch [7/30] 20.38 sec, loss_epoch: 1726.61 ,train_loss: 1.0100, train_acc: 0.9251, test_acc: 0.9030\n",
            "Epoch [8/30] 20.41 sec, loss_epoch: 1708.00 ,train_loss: 1.0848, train_acc: 0.9261, test_acc: 0.9023\n",
            "Epoch [9/30] 19.82 sec, loss_epoch: 1694.65 ,train_loss: 0.9207, train_acc: 0.9248, test_acc: 0.9000\n",
            "Epoch [10/30] 20.61 sec, loss_epoch: 1675.69 ,train_loss: 1.1194, train_acc: 0.9366, test_acc: 0.9067\n",
            "Epoch [11/30] 20.54 sec, loss_epoch: 1657.91 ,train_loss: 1.1128, train_acc: 0.9347, test_acc: 0.9021\n",
            "Epoch [12/30] 19.98 sec, loss_epoch: 1634.35 ,train_loss: 1.0648, train_acc: 0.9422, test_acc: 0.9128\n",
            "Epoch [13/30] 20.81 sec, loss_epoch: 1618.01 ,train_loss: 0.8756, train_acc: 0.9461, test_acc: 0.9097\n",
            "Epoch [14/30] 21.34 sec, loss_epoch: 1610.62 ,train_loss: 0.9519, train_acc: 0.9453, test_acc: 0.9079\n",
            "Epoch [15/30] 19.74 sec, loss_epoch: 1608.54 ,train_loss: 1.2921, train_acc: 0.9466, test_acc: 0.9082\n",
            "Epoch [16/30] 20.45 sec, loss_epoch: 1580.27 ,train_loss: 0.8635, train_acc: 0.9495, test_acc: 0.9102\n",
            "Epoch [17/30] 20.29 sec, loss_epoch: 1580.57 ,train_loss: 0.9289, train_acc: 0.9510, test_acc: 0.9118\n",
            "Epoch [18/30] 19.60 sec, loss_epoch: 1559.77 ,train_loss: 0.9661, train_acc: 0.9510, test_acc: 0.9084\n",
            "Epoch [19/30] 20.32 sec, loss_epoch: 1563.63 ,train_loss: 0.6901, train_acc: 0.9524, test_acc: 0.9081\n",
            "Epoch [20/30] 20.13 sec, loss_epoch: 1548.52 ,train_loss: 0.7654, train_acc: 0.9545, test_acc: 0.9091\n",
            "Epoch [21/30] 19.55 sec, loss_epoch: 1535.32 ,train_loss: 0.7935, train_acc: 0.9603, test_acc: 0.9125\n",
            "Epoch [22/30] 20.29 sec, loss_epoch: 1528.61 ,train_loss: 1.0088, train_acc: 0.9606, test_acc: 0.9135\n",
            "Epoch [23/30] 20.21 sec, loss_epoch: 1524.00 ,train_loss: 0.7524, train_acc: 0.9522, test_acc: 0.9081\n",
            "Epoch [24/30] 19.63 sec, loss_epoch: 1527.18 ,train_loss: 1.0088, train_acc: 0.9646, test_acc: 0.9127\n",
            "Epoch [25/30] 20.40 sec, loss_epoch: 1529.71 ,train_loss: 0.4916, train_acc: 0.9603, test_acc: 0.9087\n",
            "Epoch [26/30] 20.40 sec, loss_epoch: 1507.91 ,train_loss: 0.7567, train_acc: 0.9662, test_acc: 0.9145\n",
            "Epoch [27/30] 19.77 sec, loss_epoch: 1495.83 ,train_loss: 1.0862, train_acc: 0.9670, test_acc: 0.9140\n",
            "Epoch [28/30] 20.95 sec, loss_epoch: 1507.89 ,train_loss: 0.6324, train_acc: 0.9695, test_acc: 0.9161\n",
            "Epoch [29/30] 20.36 sec, loss_epoch: 1498.87 ,train_loss: 0.4224, train_acc: 0.9669, test_acc: 0.9128\n",
            "Epoch [30/30] 19.60 sec, loss_epoch: 1494.82 ,train_loss: 0.7412, train_acc: 0.9643, test_acc: 0.9081\n",
            "Test Accuracy of the model: 90.8100 %\n",
            "Total Time taken: 607.743 sec\n"
          ]
        }
      ],
      "source": [
        "result = []\n",
        "num_epochs = 30\n",
        "num_classes = 10\n",
        "batch_size = 100\n",
        "learning_rate = 0.1\n",
        "activation = \"relu\"\n",
        "dropout_rate = 0.3\n",
        "training_flag = True\n",
        "device = torch.device('cuda:0' if torch.cuda.is_available() else 'cpu')\n",
        "net = MyCNN(num_classes,activation=activation,dropout_rate=dropout_rate,training_flag=training_flag).to(device)\n",
        "criterion = nn.CrossEntropyLoss()\n",
        "optimizer = torch.optim.SGD(net.parameters(), lr=learning_rate)\n",
        "data = train_loader, test_loader\n",
        "[train_loader,test_loader] = data \n",
        "\n",
        "t_loss,t_acc,test_acc,final_test_accuracy,exec_time, loss_epoch_array = classify(device,net,data,criterion,optimizer,num_epochs,num_classes,batch_size,learning_rate,activation)\n",
        "end = [learning_rate,activation,dropout_rate,num_epochs,t_loss,t_acc,test_acc,final_test_accuracy,exec_time]\n",
        "result.append(end)"
      ]
    }
  ],
  "metadata": {
    "colab": {
      "provenance": [],
      "include_colab_link": true
    },
    "kernelspec": {
      "display_name": "Python 3 (ipykernel)",
      "language": "python",
      "name": "python3"
    },
    "language_info": {
      "codemirror_mode": {
        "name": "ipython",
        "version": 3
      },
      "file_extension": ".py",
      "mimetype": "text/x-python",
      "name": "python",
      "nbconvert_exporter": "python",
      "pygments_lexer": "ipython3",
      "version": "3.8.8"
    },
    "accelerator": "GPU",
    "widgets": {
      "application/vnd.jupyter.widget-state+json": {
        "579a0bc321a64b35930355aa378dd03c": {
          "model_module": "@jupyter-widgets/controls",
          "model_name": "HBoxModel",
          "model_module_version": "1.5.0",
          "state": {
            "_dom_classes": [],
            "_model_module": "@jupyter-widgets/controls",
            "_model_module_version": "1.5.0",
            "_model_name": "HBoxModel",
            "_view_count": null,
            "_view_module": "@jupyter-widgets/controls",
            "_view_module_version": "1.5.0",
            "_view_name": "HBoxView",
            "box_style": "",
            "children": [
              "IPY_MODEL_dc9272790db0486a9385d8a08873a3bc",
              "IPY_MODEL_39bb32fe400d40289cf69534d4673a8f",
              "IPY_MODEL_e06d17de7aaa400696e16bf6ede2bec7"
            ],
            "layout": "IPY_MODEL_97015fcfad094dfc8ed154025ee28512"
          }
        },
        "dc9272790db0486a9385d8a08873a3bc": {
          "model_module": "@jupyter-widgets/controls",
          "model_name": "HTMLModel",
          "model_module_version": "1.5.0",
          "state": {
            "_dom_classes": [],
            "_model_module": "@jupyter-widgets/controls",
            "_model_module_version": "1.5.0",
            "_model_name": "HTMLModel",
            "_view_count": null,
            "_view_module": "@jupyter-widgets/controls",
            "_view_module_version": "1.5.0",
            "_view_name": "HTMLView",
            "description": "",
            "description_tooltip": null,
            "layout": "IPY_MODEL_660af365a66e426985d5fb0122320fe0",
            "placeholder": "​",
            "style": "IPY_MODEL_3263862c00634f2f8448b1bb0f07574d",
            "value": "100%"
          }
        },
        "39bb32fe400d40289cf69534d4673a8f": {
          "model_module": "@jupyter-widgets/controls",
          "model_name": "FloatProgressModel",
          "model_module_version": "1.5.0",
          "state": {
            "_dom_classes": [],
            "_model_module": "@jupyter-widgets/controls",
            "_model_module_version": "1.5.0",
            "_model_name": "FloatProgressModel",
            "_view_count": null,
            "_view_module": "@jupyter-widgets/controls",
            "_view_module_version": "1.5.0",
            "_view_name": "ProgressView",
            "bar_style": "success",
            "description": "",
            "description_tooltip": null,
            "layout": "IPY_MODEL_caad84bb0db3405d8cd04bc4092b4b9f",
            "max": 26421880,
            "min": 0,
            "orientation": "horizontal",
            "style": "IPY_MODEL_4b52699fc0484e1f9bde9567333d0260",
            "value": 26421880
          }
        },
        "e06d17de7aaa400696e16bf6ede2bec7": {
          "model_module": "@jupyter-widgets/controls",
          "model_name": "HTMLModel",
          "model_module_version": "1.5.0",
          "state": {
            "_dom_classes": [],
            "_model_module": "@jupyter-widgets/controls",
            "_model_module_version": "1.5.0",
            "_model_name": "HTMLModel",
            "_view_count": null,
            "_view_module": "@jupyter-widgets/controls",
            "_view_module_version": "1.5.0",
            "_view_name": "HTMLView",
            "description": "",
            "description_tooltip": null,
            "layout": "IPY_MODEL_fdd07bf407954134939486d10a069524",
            "placeholder": "​",
            "style": "IPY_MODEL_3e1cc318d7aa45de9774336dd0f722c8",
            "value": " 26421880/26421880 [00:00&lt;00:00, 98191037.06it/s]"
          }
        },
        "97015fcfad094dfc8ed154025ee28512": {
          "model_module": "@jupyter-widgets/base",
          "model_name": "LayoutModel",
          "model_module_version": "1.2.0",
          "state": {
            "_model_module": "@jupyter-widgets/base",
            "_model_module_version": "1.2.0",
            "_model_name": "LayoutModel",
            "_view_count": null,
            "_view_module": "@jupyter-widgets/base",
            "_view_module_version": "1.2.0",
            "_view_name": "LayoutView",
            "align_content": null,
            "align_items": null,
            "align_self": null,
            "border": null,
            "bottom": null,
            "display": null,
            "flex": null,
            "flex_flow": null,
            "grid_area": null,
            "grid_auto_columns": null,
            "grid_auto_flow": null,
            "grid_auto_rows": null,
            "grid_column": null,
            "grid_gap": null,
            "grid_row": null,
            "grid_template_areas": null,
            "grid_template_columns": null,
            "grid_template_rows": null,
            "height": null,
            "justify_content": null,
            "justify_items": null,
            "left": null,
            "margin": null,
            "max_height": null,
            "max_width": null,
            "min_height": null,
            "min_width": null,
            "object_fit": null,
            "object_position": null,
            "order": null,
            "overflow": null,
            "overflow_x": null,
            "overflow_y": null,
            "padding": null,
            "right": null,
            "top": null,
            "visibility": null,
            "width": null
          }
        },
        "660af365a66e426985d5fb0122320fe0": {
          "model_module": "@jupyter-widgets/base",
          "model_name": "LayoutModel",
          "model_module_version": "1.2.0",
          "state": {
            "_model_module": "@jupyter-widgets/base",
            "_model_module_version": "1.2.0",
            "_model_name": "LayoutModel",
            "_view_count": null,
            "_view_module": "@jupyter-widgets/base",
            "_view_module_version": "1.2.0",
            "_view_name": "LayoutView",
            "align_content": null,
            "align_items": null,
            "align_self": null,
            "border": null,
            "bottom": null,
            "display": null,
            "flex": null,
            "flex_flow": null,
            "grid_area": null,
            "grid_auto_columns": null,
            "grid_auto_flow": null,
            "grid_auto_rows": null,
            "grid_column": null,
            "grid_gap": null,
            "grid_row": null,
            "grid_template_areas": null,
            "grid_template_columns": null,
            "grid_template_rows": null,
            "height": null,
            "justify_content": null,
            "justify_items": null,
            "left": null,
            "margin": null,
            "max_height": null,
            "max_width": null,
            "min_height": null,
            "min_width": null,
            "object_fit": null,
            "object_position": null,
            "order": null,
            "overflow": null,
            "overflow_x": null,
            "overflow_y": null,
            "padding": null,
            "right": null,
            "top": null,
            "visibility": null,
            "width": null
          }
        },
        "3263862c00634f2f8448b1bb0f07574d": {
          "model_module": "@jupyter-widgets/controls",
          "model_name": "DescriptionStyleModel",
          "model_module_version": "1.5.0",
          "state": {
            "_model_module": "@jupyter-widgets/controls",
            "_model_module_version": "1.5.0",
            "_model_name": "DescriptionStyleModel",
            "_view_count": null,
            "_view_module": "@jupyter-widgets/base",
            "_view_module_version": "1.2.0",
            "_view_name": "StyleView",
            "description_width": ""
          }
        },
        "caad84bb0db3405d8cd04bc4092b4b9f": {
          "model_module": "@jupyter-widgets/base",
          "model_name": "LayoutModel",
          "model_module_version": "1.2.0",
          "state": {
            "_model_module": "@jupyter-widgets/base",
            "_model_module_version": "1.2.0",
            "_model_name": "LayoutModel",
            "_view_count": null,
            "_view_module": "@jupyter-widgets/base",
            "_view_module_version": "1.2.0",
            "_view_name": "LayoutView",
            "align_content": null,
            "align_items": null,
            "align_self": null,
            "border": null,
            "bottom": null,
            "display": null,
            "flex": null,
            "flex_flow": null,
            "grid_area": null,
            "grid_auto_columns": null,
            "grid_auto_flow": null,
            "grid_auto_rows": null,
            "grid_column": null,
            "grid_gap": null,
            "grid_row": null,
            "grid_template_areas": null,
            "grid_template_columns": null,
            "grid_template_rows": null,
            "height": null,
            "justify_content": null,
            "justify_items": null,
            "left": null,
            "margin": null,
            "max_height": null,
            "max_width": null,
            "min_height": null,
            "min_width": null,
            "object_fit": null,
            "object_position": null,
            "order": null,
            "overflow": null,
            "overflow_x": null,
            "overflow_y": null,
            "padding": null,
            "right": null,
            "top": null,
            "visibility": null,
            "width": null
          }
        },
        "4b52699fc0484e1f9bde9567333d0260": {
          "model_module": "@jupyter-widgets/controls",
          "model_name": "ProgressStyleModel",
          "model_module_version": "1.5.0",
          "state": {
            "_model_module": "@jupyter-widgets/controls",
            "_model_module_version": "1.5.0",
            "_model_name": "ProgressStyleModel",
            "_view_count": null,
            "_view_module": "@jupyter-widgets/base",
            "_view_module_version": "1.2.0",
            "_view_name": "StyleView",
            "bar_color": null,
            "description_width": ""
          }
        },
        "fdd07bf407954134939486d10a069524": {
          "model_module": "@jupyter-widgets/base",
          "model_name": "LayoutModel",
          "model_module_version": "1.2.0",
          "state": {
            "_model_module": "@jupyter-widgets/base",
            "_model_module_version": "1.2.0",
            "_model_name": "LayoutModel",
            "_view_count": null,
            "_view_module": "@jupyter-widgets/base",
            "_view_module_version": "1.2.0",
            "_view_name": "LayoutView",
            "align_content": null,
            "align_items": null,
            "align_self": null,
            "border": null,
            "bottom": null,
            "display": null,
            "flex": null,
            "flex_flow": null,
            "grid_area": null,
            "grid_auto_columns": null,
            "grid_auto_flow": null,
            "grid_auto_rows": null,
            "grid_column": null,
            "grid_gap": null,
            "grid_row": null,
            "grid_template_areas": null,
            "grid_template_columns": null,
            "grid_template_rows": null,
            "height": null,
            "justify_content": null,
            "justify_items": null,
            "left": null,
            "margin": null,
            "max_height": null,
            "max_width": null,
            "min_height": null,
            "min_width": null,
            "object_fit": null,
            "object_position": null,
            "order": null,
            "overflow": null,
            "overflow_x": null,
            "overflow_y": null,
            "padding": null,
            "right": null,
            "top": null,
            "visibility": null,
            "width": null
          }
        },
        "3e1cc318d7aa45de9774336dd0f722c8": {
          "model_module": "@jupyter-widgets/controls",
          "model_name": "DescriptionStyleModel",
          "model_module_version": "1.5.0",
          "state": {
            "_model_module": "@jupyter-widgets/controls",
            "_model_module_version": "1.5.0",
            "_model_name": "DescriptionStyleModel",
            "_view_count": null,
            "_view_module": "@jupyter-widgets/base",
            "_view_module_version": "1.2.0",
            "_view_name": "StyleView",
            "description_width": ""
          }
        },
        "3f6f037e5ad64a46acaa9652f3419cd8": {
          "model_module": "@jupyter-widgets/controls",
          "model_name": "HBoxModel",
          "model_module_version": "1.5.0",
          "state": {
            "_dom_classes": [],
            "_model_module": "@jupyter-widgets/controls",
            "_model_module_version": "1.5.0",
            "_model_name": "HBoxModel",
            "_view_count": null,
            "_view_module": "@jupyter-widgets/controls",
            "_view_module_version": "1.5.0",
            "_view_name": "HBoxView",
            "box_style": "",
            "children": [
              "IPY_MODEL_30fef6f3d78a496fba5ad6132160e07a",
              "IPY_MODEL_c3ba5608a85f4baa9c785509ad9fd4f7",
              "IPY_MODEL_2103b7bb334b41a998d30b599b3fbb67"
            ],
            "layout": "IPY_MODEL_561b4724609842498930830366823c4a"
          }
        },
        "30fef6f3d78a496fba5ad6132160e07a": {
          "model_module": "@jupyter-widgets/controls",
          "model_name": "HTMLModel",
          "model_module_version": "1.5.0",
          "state": {
            "_dom_classes": [],
            "_model_module": "@jupyter-widgets/controls",
            "_model_module_version": "1.5.0",
            "_model_name": "HTMLModel",
            "_view_count": null,
            "_view_module": "@jupyter-widgets/controls",
            "_view_module_version": "1.5.0",
            "_view_name": "HTMLView",
            "description": "",
            "description_tooltip": null,
            "layout": "IPY_MODEL_76e4cf8b21464d3a9385695f14275b72",
            "placeholder": "​",
            "style": "IPY_MODEL_7500793fec274fbf8fc74b0c30a9fd58",
            "value": "100%"
          }
        },
        "c3ba5608a85f4baa9c785509ad9fd4f7": {
          "model_module": "@jupyter-widgets/controls",
          "model_name": "FloatProgressModel",
          "model_module_version": "1.5.0",
          "state": {
            "_dom_classes": [],
            "_model_module": "@jupyter-widgets/controls",
            "_model_module_version": "1.5.0",
            "_model_name": "FloatProgressModel",
            "_view_count": null,
            "_view_module": "@jupyter-widgets/controls",
            "_view_module_version": "1.5.0",
            "_view_name": "ProgressView",
            "bar_style": "success",
            "description": "",
            "description_tooltip": null,
            "layout": "IPY_MODEL_77dc802e75f645ae81e99d6a3e82efd8",
            "max": 29515,
            "min": 0,
            "orientation": "horizontal",
            "style": "IPY_MODEL_fef0b1405a974c1383773f00a5d8202c",
            "value": 29515
          }
        },
        "2103b7bb334b41a998d30b599b3fbb67": {
          "model_module": "@jupyter-widgets/controls",
          "model_name": "HTMLModel",
          "model_module_version": "1.5.0",
          "state": {
            "_dom_classes": [],
            "_model_module": "@jupyter-widgets/controls",
            "_model_module_version": "1.5.0",
            "_model_name": "HTMLModel",
            "_view_count": null,
            "_view_module": "@jupyter-widgets/controls",
            "_view_module_version": "1.5.0",
            "_view_name": "HTMLView",
            "description": "",
            "description_tooltip": null,
            "layout": "IPY_MODEL_1117d009be8947838a1e455e4a018aa0",
            "placeholder": "​",
            "style": "IPY_MODEL_c7687193ceaa4f1fb7f729635810ba4d",
            "value": " 29515/29515 [00:00&lt;00:00, 808065.87it/s]"
          }
        },
        "561b4724609842498930830366823c4a": {
          "model_module": "@jupyter-widgets/base",
          "model_name": "LayoutModel",
          "model_module_version": "1.2.0",
          "state": {
            "_model_module": "@jupyter-widgets/base",
            "_model_module_version": "1.2.0",
            "_model_name": "LayoutModel",
            "_view_count": null,
            "_view_module": "@jupyter-widgets/base",
            "_view_module_version": "1.2.0",
            "_view_name": "LayoutView",
            "align_content": null,
            "align_items": null,
            "align_self": null,
            "border": null,
            "bottom": null,
            "display": null,
            "flex": null,
            "flex_flow": null,
            "grid_area": null,
            "grid_auto_columns": null,
            "grid_auto_flow": null,
            "grid_auto_rows": null,
            "grid_column": null,
            "grid_gap": null,
            "grid_row": null,
            "grid_template_areas": null,
            "grid_template_columns": null,
            "grid_template_rows": null,
            "height": null,
            "justify_content": null,
            "justify_items": null,
            "left": null,
            "margin": null,
            "max_height": null,
            "max_width": null,
            "min_height": null,
            "min_width": null,
            "object_fit": null,
            "object_position": null,
            "order": null,
            "overflow": null,
            "overflow_x": null,
            "overflow_y": null,
            "padding": null,
            "right": null,
            "top": null,
            "visibility": null,
            "width": null
          }
        },
        "76e4cf8b21464d3a9385695f14275b72": {
          "model_module": "@jupyter-widgets/base",
          "model_name": "LayoutModel",
          "model_module_version": "1.2.0",
          "state": {
            "_model_module": "@jupyter-widgets/base",
            "_model_module_version": "1.2.0",
            "_model_name": "LayoutModel",
            "_view_count": null,
            "_view_module": "@jupyter-widgets/base",
            "_view_module_version": "1.2.0",
            "_view_name": "LayoutView",
            "align_content": null,
            "align_items": null,
            "align_self": null,
            "border": null,
            "bottom": null,
            "display": null,
            "flex": null,
            "flex_flow": null,
            "grid_area": null,
            "grid_auto_columns": null,
            "grid_auto_flow": null,
            "grid_auto_rows": null,
            "grid_column": null,
            "grid_gap": null,
            "grid_row": null,
            "grid_template_areas": null,
            "grid_template_columns": null,
            "grid_template_rows": null,
            "height": null,
            "justify_content": null,
            "justify_items": null,
            "left": null,
            "margin": null,
            "max_height": null,
            "max_width": null,
            "min_height": null,
            "min_width": null,
            "object_fit": null,
            "object_position": null,
            "order": null,
            "overflow": null,
            "overflow_x": null,
            "overflow_y": null,
            "padding": null,
            "right": null,
            "top": null,
            "visibility": null,
            "width": null
          }
        },
        "7500793fec274fbf8fc74b0c30a9fd58": {
          "model_module": "@jupyter-widgets/controls",
          "model_name": "DescriptionStyleModel",
          "model_module_version": "1.5.0",
          "state": {
            "_model_module": "@jupyter-widgets/controls",
            "_model_module_version": "1.5.0",
            "_model_name": "DescriptionStyleModel",
            "_view_count": null,
            "_view_module": "@jupyter-widgets/base",
            "_view_module_version": "1.2.0",
            "_view_name": "StyleView",
            "description_width": ""
          }
        },
        "77dc802e75f645ae81e99d6a3e82efd8": {
          "model_module": "@jupyter-widgets/base",
          "model_name": "LayoutModel",
          "model_module_version": "1.2.0",
          "state": {
            "_model_module": "@jupyter-widgets/base",
            "_model_module_version": "1.2.0",
            "_model_name": "LayoutModel",
            "_view_count": null,
            "_view_module": "@jupyter-widgets/base",
            "_view_module_version": "1.2.0",
            "_view_name": "LayoutView",
            "align_content": null,
            "align_items": null,
            "align_self": null,
            "border": null,
            "bottom": null,
            "display": null,
            "flex": null,
            "flex_flow": null,
            "grid_area": null,
            "grid_auto_columns": null,
            "grid_auto_flow": null,
            "grid_auto_rows": null,
            "grid_column": null,
            "grid_gap": null,
            "grid_row": null,
            "grid_template_areas": null,
            "grid_template_columns": null,
            "grid_template_rows": null,
            "height": null,
            "justify_content": null,
            "justify_items": null,
            "left": null,
            "margin": null,
            "max_height": null,
            "max_width": null,
            "min_height": null,
            "min_width": null,
            "object_fit": null,
            "object_position": null,
            "order": null,
            "overflow": null,
            "overflow_x": null,
            "overflow_y": null,
            "padding": null,
            "right": null,
            "top": null,
            "visibility": null,
            "width": null
          }
        },
        "fef0b1405a974c1383773f00a5d8202c": {
          "model_module": "@jupyter-widgets/controls",
          "model_name": "ProgressStyleModel",
          "model_module_version": "1.5.0",
          "state": {
            "_model_module": "@jupyter-widgets/controls",
            "_model_module_version": "1.5.0",
            "_model_name": "ProgressStyleModel",
            "_view_count": null,
            "_view_module": "@jupyter-widgets/base",
            "_view_module_version": "1.2.0",
            "_view_name": "StyleView",
            "bar_color": null,
            "description_width": ""
          }
        },
        "1117d009be8947838a1e455e4a018aa0": {
          "model_module": "@jupyter-widgets/base",
          "model_name": "LayoutModel",
          "model_module_version": "1.2.0",
          "state": {
            "_model_module": "@jupyter-widgets/base",
            "_model_module_version": "1.2.0",
            "_model_name": "LayoutModel",
            "_view_count": null,
            "_view_module": "@jupyter-widgets/base",
            "_view_module_version": "1.2.0",
            "_view_name": "LayoutView",
            "align_content": null,
            "align_items": null,
            "align_self": null,
            "border": null,
            "bottom": null,
            "display": null,
            "flex": null,
            "flex_flow": null,
            "grid_area": null,
            "grid_auto_columns": null,
            "grid_auto_flow": null,
            "grid_auto_rows": null,
            "grid_column": null,
            "grid_gap": null,
            "grid_row": null,
            "grid_template_areas": null,
            "grid_template_columns": null,
            "grid_template_rows": null,
            "height": null,
            "justify_content": null,
            "justify_items": null,
            "left": null,
            "margin": null,
            "max_height": null,
            "max_width": null,
            "min_height": null,
            "min_width": null,
            "object_fit": null,
            "object_position": null,
            "order": null,
            "overflow": null,
            "overflow_x": null,
            "overflow_y": null,
            "padding": null,
            "right": null,
            "top": null,
            "visibility": null,
            "width": null
          }
        },
        "c7687193ceaa4f1fb7f729635810ba4d": {
          "model_module": "@jupyter-widgets/controls",
          "model_name": "DescriptionStyleModel",
          "model_module_version": "1.5.0",
          "state": {
            "_model_module": "@jupyter-widgets/controls",
            "_model_module_version": "1.5.0",
            "_model_name": "DescriptionStyleModel",
            "_view_count": null,
            "_view_module": "@jupyter-widgets/base",
            "_view_module_version": "1.2.0",
            "_view_name": "StyleView",
            "description_width": ""
          }
        },
        "6246b162adf34394ba9ad59610b22019": {
          "model_module": "@jupyter-widgets/controls",
          "model_name": "HBoxModel",
          "model_module_version": "1.5.0",
          "state": {
            "_dom_classes": [],
            "_model_module": "@jupyter-widgets/controls",
            "_model_module_version": "1.5.0",
            "_model_name": "HBoxModel",
            "_view_count": null,
            "_view_module": "@jupyter-widgets/controls",
            "_view_module_version": "1.5.0",
            "_view_name": "HBoxView",
            "box_style": "",
            "children": [
              "IPY_MODEL_5470b76ee21747729aa334302e7109e9",
              "IPY_MODEL_e8aef71ada3040a8b48c6846a2f013ec",
              "IPY_MODEL_fa329a4eb0ab4ec3b984ca71b552005f"
            ],
            "layout": "IPY_MODEL_636f92bd150948dab0df3b30eba3a09b"
          }
        },
        "5470b76ee21747729aa334302e7109e9": {
          "model_module": "@jupyter-widgets/controls",
          "model_name": "HTMLModel",
          "model_module_version": "1.5.0",
          "state": {
            "_dom_classes": [],
            "_model_module": "@jupyter-widgets/controls",
            "_model_module_version": "1.5.0",
            "_model_name": "HTMLModel",
            "_view_count": null,
            "_view_module": "@jupyter-widgets/controls",
            "_view_module_version": "1.5.0",
            "_view_name": "HTMLView",
            "description": "",
            "description_tooltip": null,
            "layout": "IPY_MODEL_a5fd2b6652624021a538699b56daff38",
            "placeholder": "​",
            "style": "IPY_MODEL_5dc117a37ecd462fa10018166953d018",
            "value": "100%"
          }
        },
        "e8aef71ada3040a8b48c6846a2f013ec": {
          "model_module": "@jupyter-widgets/controls",
          "model_name": "FloatProgressModel",
          "model_module_version": "1.5.0",
          "state": {
            "_dom_classes": [],
            "_model_module": "@jupyter-widgets/controls",
            "_model_module_version": "1.5.0",
            "_model_name": "FloatProgressModel",
            "_view_count": null,
            "_view_module": "@jupyter-widgets/controls",
            "_view_module_version": "1.5.0",
            "_view_name": "ProgressView",
            "bar_style": "success",
            "description": "",
            "description_tooltip": null,
            "layout": "IPY_MODEL_734e55a7f5274e8496207a5ba2ce45e5",
            "max": 4422102,
            "min": 0,
            "orientation": "horizontal",
            "style": "IPY_MODEL_3341112aaad645409815e02299b0f103",
            "value": 4422102
          }
        },
        "fa329a4eb0ab4ec3b984ca71b552005f": {
          "model_module": "@jupyter-widgets/controls",
          "model_name": "HTMLModel",
          "model_module_version": "1.5.0",
          "state": {
            "_dom_classes": [],
            "_model_module": "@jupyter-widgets/controls",
            "_model_module_version": "1.5.0",
            "_model_name": "HTMLModel",
            "_view_count": null,
            "_view_module": "@jupyter-widgets/controls",
            "_view_module_version": "1.5.0",
            "_view_name": "HTMLView",
            "description": "",
            "description_tooltip": null,
            "layout": "IPY_MODEL_ab1032428ec4459f8c5ccd7a064349f5",
            "placeholder": "​",
            "style": "IPY_MODEL_d1d8c1d9d0f14826b8a548acda93bdbc",
            "value": " 4422102/4422102 [00:00&lt;00:00, 8845770.87it/s]"
          }
        },
        "636f92bd150948dab0df3b30eba3a09b": {
          "model_module": "@jupyter-widgets/base",
          "model_name": "LayoutModel",
          "model_module_version": "1.2.0",
          "state": {
            "_model_module": "@jupyter-widgets/base",
            "_model_module_version": "1.2.0",
            "_model_name": "LayoutModel",
            "_view_count": null,
            "_view_module": "@jupyter-widgets/base",
            "_view_module_version": "1.2.0",
            "_view_name": "LayoutView",
            "align_content": null,
            "align_items": null,
            "align_self": null,
            "border": null,
            "bottom": null,
            "display": null,
            "flex": null,
            "flex_flow": null,
            "grid_area": null,
            "grid_auto_columns": null,
            "grid_auto_flow": null,
            "grid_auto_rows": null,
            "grid_column": null,
            "grid_gap": null,
            "grid_row": null,
            "grid_template_areas": null,
            "grid_template_columns": null,
            "grid_template_rows": null,
            "height": null,
            "justify_content": null,
            "justify_items": null,
            "left": null,
            "margin": null,
            "max_height": null,
            "max_width": null,
            "min_height": null,
            "min_width": null,
            "object_fit": null,
            "object_position": null,
            "order": null,
            "overflow": null,
            "overflow_x": null,
            "overflow_y": null,
            "padding": null,
            "right": null,
            "top": null,
            "visibility": null,
            "width": null
          }
        },
        "a5fd2b6652624021a538699b56daff38": {
          "model_module": "@jupyter-widgets/base",
          "model_name": "LayoutModel",
          "model_module_version": "1.2.0",
          "state": {
            "_model_module": "@jupyter-widgets/base",
            "_model_module_version": "1.2.0",
            "_model_name": "LayoutModel",
            "_view_count": null,
            "_view_module": "@jupyter-widgets/base",
            "_view_module_version": "1.2.0",
            "_view_name": "LayoutView",
            "align_content": null,
            "align_items": null,
            "align_self": null,
            "border": null,
            "bottom": null,
            "display": null,
            "flex": null,
            "flex_flow": null,
            "grid_area": null,
            "grid_auto_columns": null,
            "grid_auto_flow": null,
            "grid_auto_rows": null,
            "grid_column": null,
            "grid_gap": null,
            "grid_row": null,
            "grid_template_areas": null,
            "grid_template_columns": null,
            "grid_template_rows": null,
            "height": null,
            "justify_content": null,
            "justify_items": null,
            "left": null,
            "margin": null,
            "max_height": null,
            "max_width": null,
            "min_height": null,
            "min_width": null,
            "object_fit": null,
            "object_position": null,
            "order": null,
            "overflow": null,
            "overflow_x": null,
            "overflow_y": null,
            "padding": null,
            "right": null,
            "top": null,
            "visibility": null,
            "width": null
          }
        },
        "5dc117a37ecd462fa10018166953d018": {
          "model_module": "@jupyter-widgets/controls",
          "model_name": "DescriptionStyleModel",
          "model_module_version": "1.5.0",
          "state": {
            "_model_module": "@jupyter-widgets/controls",
            "_model_module_version": "1.5.0",
            "_model_name": "DescriptionStyleModel",
            "_view_count": null,
            "_view_module": "@jupyter-widgets/base",
            "_view_module_version": "1.2.0",
            "_view_name": "StyleView",
            "description_width": ""
          }
        },
        "734e55a7f5274e8496207a5ba2ce45e5": {
          "model_module": "@jupyter-widgets/base",
          "model_name": "LayoutModel",
          "model_module_version": "1.2.0",
          "state": {
            "_model_module": "@jupyter-widgets/base",
            "_model_module_version": "1.2.0",
            "_model_name": "LayoutModel",
            "_view_count": null,
            "_view_module": "@jupyter-widgets/base",
            "_view_module_version": "1.2.0",
            "_view_name": "LayoutView",
            "align_content": null,
            "align_items": null,
            "align_self": null,
            "border": null,
            "bottom": null,
            "display": null,
            "flex": null,
            "flex_flow": null,
            "grid_area": null,
            "grid_auto_columns": null,
            "grid_auto_flow": null,
            "grid_auto_rows": null,
            "grid_column": null,
            "grid_gap": null,
            "grid_row": null,
            "grid_template_areas": null,
            "grid_template_columns": null,
            "grid_template_rows": null,
            "height": null,
            "justify_content": null,
            "justify_items": null,
            "left": null,
            "margin": null,
            "max_height": null,
            "max_width": null,
            "min_height": null,
            "min_width": null,
            "object_fit": null,
            "object_position": null,
            "order": null,
            "overflow": null,
            "overflow_x": null,
            "overflow_y": null,
            "padding": null,
            "right": null,
            "top": null,
            "visibility": null,
            "width": null
          }
        },
        "3341112aaad645409815e02299b0f103": {
          "model_module": "@jupyter-widgets/controls",
          "model_name": "ProgressStyleModel",
          "model_module_version": "1.5.0",
          "state": {
            "_model_module": "@jupyter-widgets/controls",
            "_model_module_version": "1.5.0",
            "_model_name": "ProgressStyleModel",
            "_view_count": null,
            "_view_module": "@jupyter-widgets/base",
            "_view_module_version": "1.2.0",
            "_view_name": "StyleView",
            "bar_color": null,
            "description_width": ""
          }
        },
        "ab1032428ec4459f8c5ccd7a064349f5": {
          "model_module": "@jupyter-widgets/base",
          "model_name": "LayoutModel",
          "model_module_version": "1.2.0",
          "state": {
            "_model_module": "@jupyter-widgets/base",
            "_model_module_version": "1.2.0",
            "_model_name": "LayoutModel",
            "_view_count": null,
            "_view_module": "@jupyter-widgets/base",
            "_view_module_version": "1.2.0",
            "_view_name": "LayoutView",
            "align_content": null,
            "align_items": null,
            "align_self": null,
            "border": null,
            "bottom": null,
            "display": null,
            "flex": null,
            "flex_flow": null,
            "grid_area": null,
            "grid_auto_columns": null,
            "grid_auto_flow": null,
            "grid_auto_rows": null,
            "grid_column": null,
            "grid_gap": null,
            "grid_row": null,
            "grid_template_areas": null,
            "grid_template_columns": null,
            "grid_template_rows": null,
            "height": null,
            "justify_content": null,
            "justify_items": null,
            "left": null,
            "margin": null,
            "max_height": null,
            "max_width": null,
            "min_height": null,
            "min_width": null,
            "object_fit": null,
            "object_position": null,
            "order": null,
            "overflow": null,
            "overflow_x": null,
            "overflow_y": null,
            "padding": null,
            "right": null,
            "top": null,
            "visibility": null,
            "width": null
          }
        },
        "d1d8c1d9d0f14826b8a548acda93bdbc": {
          "model_module": "@jupyter-widgets/controls",
          "model_name": "DescriptionStyleModel",
          "model_module_version": "1.5.0",
          "state": {
            "_model_module": "@jupyter-widgets/controls",
            "_model_module_version": "1.5.0",
            "_model_name": "DescriptionStyleModel",
            "_view_count": null,
            "_view_module": "@jupyter-widgets/base",
            "_view_module_version": "1.2.0",
            "_view_name": "StyleView",
            "description_width": ""
          }
        },
        "ede08d0867bc4405a487be63aa8f3f19": {
          "model_module": "@jupyter-widgets/controls",
          "model_name": "HBoxModel",
          "model_module_version": "1.5.0",
          "state": {
            "_dom_classes": [],
            "_model_module": "@jupyter-widgets/controls",
            "_model_module_version": "1.5.0",
            "_model_name": "HBoxModel",
            "_view_count": null,
            "_view_module": "@jupyter-widgets/controls",
            "_view_module_version": "1.5.0",
            "_view_name": "HBoxView",
            "box_style": "",
            "children": [
              "IPY_MODEL_ace07b814f954ea79b7f5e445da95fb0",
              "IPY_MODEL_ed5f28e05734465ab35f7ea74da98733",
              "IPY_MODEL_6c47466f7fd54772b4f8f3bad62844ec"
            ],
            "layout": "IPY_MODEL_ff4c39b8283d4067872e3e83770c0fe9"
          }
        },
        "ace07b814f954ea79b7f5e445da95fb0": {
          "model_module": "@jupyter-widgets/controls",
          "model_name": "HTMLModel",
          "model_module_version": "1.5.0",
          "state": {
            "_dom_classes": [],
            "_model_module": "@jupyter-widgets/controls",
            "_model_module_version": "1.5.0",
            "_model_name": "HTMLModel",
            "_view_count": null,
            "_view_module": "@jupyter-widgets/controls",
            "_view_module_version": "1.5.0",
            "_view_name": "HTMLView",
            "description": "",
            "description_tooltip": null,
            "layout": "IPY_MODEL_85af7d44697e4b3897946eb8d03f51dd",
            "placeholder": "​",
            "style": "IPY_MODEL_7b3263580530485ab8f64ae52fc17b52",
            "value": "100%"
          }
        },
        "ed5f28e05734465ab35f7ea74da98733": {
          "model_module": "@jupyter-widgets/controls",
          "model_name": "FloatProgressModel",
          "model_module_version": "1.5.0",
          "state": {
            "_dom_classes": [],
            "_model_module": "@jupyter-widgets/controls",
            "_model_module_version": "1.5.0",
            "_model_name": "FloatProgressModel",
            "_view_count": null,
            "_view_module": "@jupyter-widgets/controls",
            "_view_module_version": "1.5.0",
            "_view_name": "ProgressView",
            "bar_style": "success",
            "description": "",
            "description_tooltip": null,
            "layout": "IPY_MODEL_449f5847fb5e45359bd9a9ee79cea260",
            "max": 5148,
            "min": 0,
            "orientation": "horizontal",
            "style": "IPY_MODEL_604c9124103f46259bc7b382a78f0667",
            "value": 5148
          }
        },
        "6c47466f7fd54772b4f8f3bad62844ec": {
          "model_module": "@jupyter-widgets/controls",
          "model_name": "HTMLModel",
          "model_module_version": "1.5.0",
          "state": {
            "_dom_classes": [],
            "_model_module": "@jupyter-widgets/controls",
            "_model_module_version": "1.5.0",
            "_model_name": "HTMLModel",
            "_view_count": null,
            "_view_module": "@jupyter-widgets/controls",
            "_view_module_version": "1.5.0",
            "_view_name": "HTMLView",
            "description": "",
            "description_tooltip": null,
            "layout": "IPY_MODEL_21887f4dcda64d82be49dc18ac5923ea",
            "placeholder": "​",
            "style": "IPY_MODEL_981df59038234ed4a9c7e4a803e39ebb",
            "value": " 5148/5148 [00:00&lt;00:00, 129556.51it/s]"
          }
        },
        "ff4c39b8283d4067872e3e83770c0fe9": {
          "model_module": "@jupyter-widgets/base",
          "model_name": "LayoutModel",
          "model_module_version": "1.2.0",
          "state": {
            "_model_module": "@jupyter-widgets/base",
            "_model_module_version": "1.2.0",
            "_model_name": "LayoutModel",
            "_view_count": null,
            "_view_module": "@jupyter-widgets/base",
            "_view_module_version": "1.2.0",
            "_view_name": "LayoutView",
            "align_content": null,
            "align_items": null,
            "align_self": null,
            "border": null,
            "bottom": null,
            "display": null,
            "flex": null,
            "flex_flow": null,
            "grid_area": null,
            "grid_auto_columns": null,
            "grid_auto_flow": null,
            "grid_auto_rows": null,
            "grid_column": null,
            "grid_gap": null,
            "grid_row": null,
            "grid_template_areas": null,
            "grid_template_columns": null,
            "grid_template_rows": null,
            "height": null,
            "justify_content": null,
            "justify_items": null,
            "left": null,
            "margin": null,
            "max_height": null,
            "max_width": null,
            "min_height": null,
            "min_width": null,
            "object_fit": null,
            "object_position": null,
            "order": null,
            "overflow": null,
            "overflow_x": null,
            "overflow_y": null,
            "padding": null,
            "right": null,
            "top": null,
            "visibility": null,
            "width": null
          }
        },
        "85af7d44697e4b3897946eb8d03f51dd": {
          "model_module": "@jupyter-widgets/base",
          "model_name": "LayoutModel",
          "model_module_version": "1.2.0",
          "state": {
            "_model_module": "@jupyter-widgets/base",
            "_model_module_version": "1.2.0",
            "_model_name": "LayoutModel",
            "_view_count": null,
            "_view_module": "@jupyter-widgets/base",
            "_view_module_version": "1.2.0",
            "_view_name": "LayoutView",
            "align_content": null,
            "align_items": null,
            "align_self": null,
            "border": null,
            "bottom": null,
            "display": null,
            "flex": null,
            "flex_flow": null,
            "grid_area": null,
            "grid_auto_columns": null,
            "grid_auto_flow": null,
            "grid_auto_rows": null,
            "grid_column": null,
            "grid_gap": null,
            "grid_row": null,
            "grid_template_areas": null,
            "grid_template_columns": null,
            "grid_template_rows": null,
            "height": null,
            "justify_content": null,
            "justify_items": null,
            "left": null,
            "margin": null,
            "max_height": null,
            "max_width": null,
            "min_height": null,
            "min_width": null,
            "object_fit": null,
            "object_position": null,
            "order": null,
            "overflow": null,
            "overflow_x": null,
            "overflow_y": null,
            "padding": null,
            "right": null,
            "top": null,
            "visibility": null,
            "width": null
          }
        },
        "7b3263580530485ab8f64ae52fc17b52": {
          "model_module": "@jupyter-widgets/controls",
          "model_name": "DescriptionStyleModel",
          "model_module_version": "1.5.0",
          "state": {
            "_model_module": "@jupyter-widgets/controls",
            "_model_module_version": "1.5.0",
            "_model_name": "DescriptionStyleModel",
            "_view_count": null,
            "_view_module": "@jupyter-widgets/base",
            "_view_module_version": "1.2.0",
            "_view_name": "StyleView",
            "description_width": ""
          }
        },
        "449f5847fb5e45359bd9a9ee79cea260": {
          "model_module": "@jupyter-widgets/base",
          "model_name": "LayoutModel",
          "model_module_version": "1.2.0",
          "state": {
            "_model_module": "@jupyter-widgets/base",
            "_model_module_version": "1.2.0",
            "_model_name": "LayoutModel",
            "_view_count": null,
            "_view_module": "@jupyter-widgets/base",
            "_view_module_version": "1.2.0",
            "_view_name": "LayoutView",
            "align_content": null,
            "align_items": null,
            "align_self": null,
            "border": null,
            "bottom": null,
            "display": null,
            "flex": null,
            "flex_flow": null,
            "grid_area": null,
            "grid_auto_columns": null,
            "grid_auto_flow": null,
            "grid_auto_rows": null,
            "grid_column": null,
            "grid_gap": null,
            "grid_row": null,
            "grid_template_areas": null,
            "grid_template_columns": null,
            "grid_template_rows": null,
            "height": null,
            "justify_content": null,
            "justify_items": null,
            "left": null,
            "margin": null,
            "max_height": null,
            "max_width": null,
            "min_height": null,
            "min_width": null,
            "object_fit": null,
            "object_position": null,
            "order": null,
            "overflow": null,
            "overflow_x": null,
            "overflow_y": null,
            "padding": null,
            "right": null,
            "top": null,
            "visibility": null,
            "width": null
          }
        },
        "604c9124103f46259bc7b382a78f0667": {
          "model_module": "@jupyter-widgets/controls",
          "model_name": "ProgressStyleModel",
          "model_module_version": "1.5.0",
          "state": {
            "_model_module": "@jupyter-widgets/controls",
            "_model_module_version": "1.5.0",
            "_model_name": "ProgressStyleModel",
            "_view_count": null,
            "_view_module": "@jupyter-widgets/base",
            "_view_module_version": "1.2.0",
            "_view_name": "StyleView",
            "bar_color": null,
            "description_width": ""
          }
        },
        "21887f4dcda64d82be49dc18ac5923ea": {
          "model_module": "@jupyter-widgets/base",
          "model_name": "LayoutModel",
          "model_module_version": "1.2.0",
          "state": {
            "_model_module": "@jupyter-widgets/base",
            "_model_module_version": "1.2.0",
            "_model_name": "LayoutModel",
            "_view_count": null,
            "_view_module": "@jupyter-widgets/base",
            "_view_module_version": "1.2.0",
            "_view_name": "LayoutView",
            "align_content": null,
            "align_items": null,
            "align_self": null,
            "border": null,
            "bottom": null,
            "display": null,
            "flex": null,
            "flex_flow": null,
            "grid_area": null,
            "grid_auto_columns": null,
            "grid_auto_flow": null,
            "grid_auto_rows": null,
            "grid_column": null,
            "grid_gap": null,
            "grid_row": null,
            "grid_template_areas": null,
            "grid_template_columns": null,
            "grid_template_rows": null,
            "height": null,
            "justify_content": null,
            "justify_items": null,
            "left": null,
            "margin": null,
            "max_height": null,
            "max_width": null,
            "min_height": null,
            "min_width": null,
            "object_fit": null,
            "object_position": null,
            "order": null,
            "overflow": null,
            "overflow_x": null,
            "overflow_y": null,
            "padding": null,
            "right": null,
            "top": null,
            "visibility": null,
            "width": null
          }
        },
        "981df59038234ed4a9c7e4a803e39ebb": {
          "model_module": "@jupyter-widgets/controls",
          "model_name": "DescriptionStyleModel",
          "model_module_version": "1.5.0",
          "state": {
            "_model_module": "@jupyter-widgets/controls",
            "_model_module_version": "1.5.0",
            "_model_name": "DescriptionStyleModel",
            "_view_count": null,
            "_view_module": "@jupyter-widgets/base",
            "_view_module_version": "1.2.0",
            "_view_name": "StyleView",
            "description_width": ""
          }
        }
      }
    }
  },
  "nbformat": 4,
  "nbformat_minor": 0
}