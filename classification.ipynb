{
  "cells": [
    {
      "cell_type": "markdown",
      "metadata": {
        "id": "view-in-github",
        "colab_type": "text"
      },
      "source": [
        "<a href=\"https://colab.research.google.com/github/Ozz-E/PyTorch_CNN_FMNIST/blob/main/classification.ipynb\" target=\"_parent\"><img src=\"https://colab.research.google.com/assets/colab-badge.svg\" alt=\"Open In Colab\"/></a>"
      ]
    },
    {
      "cell_type": "markdown",
      "metadata": {
        "id": "FtOcJpnmLHTU"
      },
      "source": [
        "3. Lost in the closet (Classification)"
      ]
    },
    {
      "cell_type": "code",
      "execution_count": 2,
      "metadata": {
        "id": "J3MY10f8LNQQ",
        "colab": {
          "base_uri": "https://localhost:8080/"
        },
        "outputId": "a67ffdbb-e60c-46b7-e713-6cfd43194a7b"
      },
      "outputs": [
        {
          "output_type": "stream",
          "name": "stdout",
          "text": [
            "Downloading http://fashion-mnist.s3-website.eu-central-1.amazonaws.com/train-images-idx3-ubyte.gz\n",
            "Downloading http://fashion-mnist.s3-website.eu-central-1.amazonaws.com/train-images-idx3-ubyte.gz to ./FashionMNIST/raw/train-images-idx3-ubyte.gz\n"
          ]
        },
        {
          "output_type": "stream",
          "name": "stderr",
          "text": [
            "100%|██████████| 26421880/26421880 [00:01<00:00, 16025646.06it/s]\n"
          ]
        },
        {
          "output_type": "stream",
          "name": "stdout",
          "text": [
            "Extracting ./FashionMNIST/raw/train-images-idx3-ubyte.gz to ./FashionMNIST/raw\n",
            "\n",
            "Downloading http://fashion-mnist.s3-website.eu-central-1.amazonaws.com/train-labels-idx1-ubyte.gz\n",
            "Downloading http://fashion-mnist.s3-website.eu-central-1.amazonaws.com/train-labels-idx1-ubyte.gz to ./FashionMNIST/raw/train-labels-idx1-ubyte.gz\n"
          ]
        },
        {
          "output_type": "stream",
          "name": "stderr",
          "text": [
            "100%|██████████| 29515/29515 [00:00<00:00, 273248.93it/s]\n"
          ]
        },
        {
          "output_type": "stream",
          "name": "stdout",
          "text": [
            "Extracting ./FashionMNIST/raw/train-labels-idx1-ubyte.gz to ./FashionMNIST/raw\n",
            "\n",
            "Downloading http://fashion-mnist.s3-website.eu-central-1.amazonaws.com/t10k-images-idx3-ubyte.gz\n",
            "Downloading http://fashion-mnist.s3-website.eu-central-1.amazonaws.com/t10k-images-idx3-ubyte.gz to ./FashionMNIST/raw/t10k-images-idx3-ubyte.gz\n"
          ]
        },
        {
          "output_type": "stream",
          "name": "stderr",
          "text": [
            "100%|██████████| 4422102/4422102 [00:00<00:00, 5097527.73it/s]\n"
          ]
        },
        {
          "output_type": "stream",
          "name": "stdout",
          "text": [
            "Extracting ./FashionMNIST/raw/t10k-images-idx3-ubyte.gz to ./FashionMNIST/raw\n",
            "\n",
            "Downloading http://fashion-mnist.s3-website.eu-central-1.amazonaws.com/t10k-labels-idx1-ubyte.gz\n",
            "Downloading http://fashion-mnist.s3-website.eu-central-1.amazonaws.com/t10k-labels-idx1-ubyte.gz to ./FashionMNIST/raw/t10k-labels-idx1-ubyte.gz\n"
          ]
        },
        {
          "output_type": "stream",
          "name": "stderr",
          "text": [
            "100%|██████████| 5148/5148 [00:00<00:00, 6197553.67it/s]"
          ]
        },
        {
          "output_type": "stream",
          "name": "stdout",
          "text": [
            "Extracting ./FashionMNIST/raw/t10k-labels-idx1-ubyte.gz to ./FashionMNIST/raw\n",
            "\n"
          ]
        },
        {
          "output_type": "stream",
          "name": "stderr",
          "text": [
            "\n"
          ]
        }
      ],
      "source": [
        "import torchvision\n",
        "import torchvision.transforms as transforms\n",
        "import torch\n",
        "import torch.nn as nn\n",
        "import time\n",
        "import matplotlib.pyplot as plt\n",
        "import numpy as np\n",
        "import random\n",
        "\n",
        "train_set = torchvision.datasets.FashionMNIST(root = \".\", train=True, download=True, transform=transforms.ToTensor())\n",
        "test_set = torchvision.datasets.FashionMNIST(root = \".\", train=False, download=True, transform=transforms.ToTensor())\n",
        "train_loader = torch.utils.data.DataLoader(train_set, batch_size=32, shuffle=False)\n",
        "test_loader = torch.utils.data.DataLoader(test_set, batch_size=32, shuffle=False)\n",
        "# Fix the seed to be able to get the same randomness across runs and\n",
        "# hence reproducible outcomes\n",
        "torch.manual_seed(0)\n",
        "random.seed(0)\n",
        "np.random.seed(0)\n",
        "# If you are using CuDNN , otherwise you can just ignore\n",
        "torch.cuda.manual_seed(0)\n",
        "torch.backends.cudnn.deterministic=True\n",
        "torch.backends.cudnn.benchmark=False"
      ]
    },
    {
      "cell_type": "markdown",
      "metadata": {
        "id": "hpFI2RfMa1X5"
      },
      "source": [
        "Visualise data for the first element of the batch:\n",
        "(since the batch is set will allways display same picture)"
      ]
    },
    {
      "cell_type": "code",
      "execution_count": 3,
      "metadata": {
        "colab": {
          "base_uri": "https://localhost:8080/",
          "height": 482
        },
        "id": "NMJTw7beeBKo",
        "outputId": "c808ee06-a9ff-4530-c107-1ef64c877567"
      },
      "outputs": [
        {
          "output_type": "stream",
          "name": "stdout",
          "text": [
            "Label is: 9\n",
            "Dimension of input data: torch.Size([32, 1, 28, 28])\n",
            "Dimension of labels: torch.Size([32])\n"
          ]
        },
        {
          "output_type": "display_data",
          "data": {
            "text/plain": [
              "<Figure size 640x480 with 1 Axes>"
            ],
            "image/png": "[encoded data removed]"
          },
          "metadata": {}
        }
      ],
      "source": [
        "input_data, label = next(iter(train_loader))\n",
        "plt.imshow(input_data[0,:,:,:].numpy().reshape(28,28), cmap=\"gray_r\");\n",
        "print(\"Label is: {}\".format(label[0]))\n",
        "print(\"Dimension of input data: {}\".format(input_data.size()))\n",
        "print(\"Dimension of labels: {}\".format(label.size()))"
      ]
    },
    {
      "cell_type": "code",
      "execution_count": 2,
      "metadata": {
        "id": "UzDb7to1a1X6"
      },
      "outputs": [],
      "source": []
    },
    {
      "cell_type": "code",
      "execution_count": 4,
      "metadata": {
        "colab": {
          "base_uri": "https://localhost:8080/",
          "height": 675
        },
        "id": "LNaKvxotkNoR",
        "outputId": "4089c364-d098-49fc-e1b5-f04aec511ee0"
      },
      "outputs": [
        {
          "output_type": "display_data",
          "data": {
            "text/plain": [
              "<Figure size 800x800 with 9 Axes>"
            ],
            "image/png": "[encoded data removed]"
          },
          "metadata": {}
        }
      ],
      "source": [
        "labels_map = {0 : 'T-Shirt', 1 : 'Trouser', 2 : 'Pullover', 3 : 'Dress', 4 : 'Coat', 5 : 'Sandal', 6 : 'Shirt',\n",
        "              7 : 'Sneaker', 8 : 'Bag', 9 : 'Ankle Boot'};\n",
        "fig = plt.figure(figsize=(8,8));\n",
        "columns = 3;\n",
        "rows = 3;\n",
        "for i in range(1, columns*rows +1):\n",
        "    img_xy = np.random.randint(len(train_set));\n",
        "    img = train_set[img_xy][0][0,:,:]\n",
        "    fig.add_subplot(rows, columns, i)\n",
        "    plt.title(labels_map[train_set[img_xy][1]])\n",
        "    plt.axis('off')\n",
        "    plt.imshow(img, cmap='gray')"
      ]
    },
    {
      "cell_type": "markdown",
      "metadata": {
        "id": "l4aOvvdPwJnh"
      },
      "source": [
        " Create and train a Convolutional Neural Network corresponding to the following architecture: \n",
        "\n",
        "    1. Input image size: 28 × 28 × 1 (height × width × number of channels).\n",
        "    2. First convolutional layer: Kernel size (5 × 5), Stride size (1 × 1) and 32 output channels. Activation function.\n",
        "    3. Max pooling layer: Kernel size (2 × 2) and Stride size (2 × 2).\n",
        "    4. Second convolutional layer: Kernel size (5×5), Stride size (1 × 1) and 64 output channels. Activation function.\n",
        "    5. Max pooling layer: Kernel size (2 × 2) and Stride size (2 × 2).\n",
        "    6. First fully-connected layer with input size being the output size of max pooling layer in 5.(flattened, i.e. 1024) and output size 1024. Activation function.\n",
        "    7. Second fully-connected layer with input size being the output size of fully connected layer in (i.e. 1024) and output size 256. Activation function.\n",
        "    8. Output layer with input size being the output size of fully-connected layer in 7. (i.e. 256) and output size 10."
      ]
    },
    {
      "cell_type": "code",
      "execution_count": 10,
      "metadata": {
        "id": "LgGQmeDBkStV"
      },
      "outputs": [],
      "source": [
        "# Build the neural network, expand on top of nn.Module\n",
        "class MyCNN(nn.Module):\n",
        "    def __init__(self,num_classes=10,activation=\"relu\",dropout_rate=0,training_flag=True):\n",
        "        super(MyCNN, self).__init__()\n",
        "\n",
        "        self.num_classes = num_classes # 10 here\n",
        "        self.activation = activation # which activation function to employ\n",
        "        self.dropout_rate = dropout_rate # if dropout then  how much\n",
        "        self.training_flag = training_flag # if dropout then trainable or not\n",
        "\n",
        "        if self.activation == \"relu\":\n",
        "          self.cnn_model1 = nn.Sequential(nn.Conv2d(1,32,kernel_size=5,stride=1), nn.ReLU(), nn.MaxPool2d(2,stride=2), nn.Conv2d(32,64,kernel_size=5,stride=1), nn.ReLU(), nn.MaxPool2d(2,stride=2))\n",
        "          self.fc_model = nn.Sequential(nn.Linear(1024,1024), nn.ReLU(),nn.Linear(1024,256), nn.ReLU(), nn.Linear(256,10), nn.ReLU())\n",
        "        # set different activation frunction for task 3\n",
        "        if self.activation == \"tanh\":\n",
        "          self.cnn_model1 = nn.Sequential(nn.Conv2d(1,32,kernel_size=5,stride=1), nn.Tanh(), nn.MaxPool2d(2,stride=2), nn.Conv2d(32,64,kernel_size=5,stride=1), nn.Tanh(), nn.MaxPool2d(2,stride=2))\n",
        "          self.fc_model = nn.Sequential(nn.Linear(1024,1024), nn.Tanh(), nn.Linear(1024,256), nn.Tanh(), nn.Linear(256,10), nn.Tanh())\n",
        "        if self.activation == \"sigmoid\":\n",
        "          self.cnn_model1 = nn.Sequential(nn.Conv2d(1,32,kernel_size=5,stride=1), nn.Sigmoid(), nn.MaxPool2d(2,stride=2), nn.Conv2d(32,64,kernel_size=5,stride=1), nn.Sigmoid(), nn.MaxPool2d(2,stride=2))\n",
        "          self.fc_model = nn.Sequential(nn.Linear(1024,1024), nn.Sigmoid(),nn.Linear(1024,256), nn.Sigmoid(), nn.Linear(256,10), nn.Sigmoid())\n",
        "        if self.activation == \"elu\":\n",
        "          self.cnn_model1 = nn.Sequential(nn.Conv2d(1,32,kernel_size=5,stride=1), nn.ELU(), nn.MaxPool2d(2,stride=2), nn.Conv2d(32,64,kernel_size=5,stride=1), nn.ELU(), nn.MaxPool2d(2,stride=2))\n",
        "          self.fc_model = nn.Sequential(nn.Linear(1024,1024), nn.ELU(),nn.Linear(1024,256), nn.ELU(), nn.Linear(256,10), nn.ELU())\n",
        "        # set dropout layer\n",
        "        if self.dropout_rate != 0:\n",
        "          self.cnn_model1 = nn.Sequential(nn.Conv2d(1,32,kernel_size=5,stride=1), nn.ReLU(), nn.MaxPool2d(2,stride=2), nn.Conv2d(32,64,kernel_size=5,stride=1), nn.ReLU(), nn.MaxPool2d(2,stride=2))\n",
        "          self.fc_model = nn.Sequential(nn.Linear(1024,1024), nn.ReLU(),nn.Linear(1024,256), nn.ReLU(), nn.Linear(256,10), nn.ReLU(), nn.Dropout(self.dropout_rate))          \n",
        "\n",
        "    def forward(self, t):\n",
        "\n",
        "        t = self.cnn_model1(t)\n",
        "        t = t.view(t.size(0), -1)\n",
        "        t = self.fc_model(t)\n",
        "\n",
        "        return t"
      ]
    },
    {
      "cell_type": "code",
      "execution_count": 6,
      "metadata": {
        "id": "wGmJj-w0oaXf"
      },
      "outputs": [],
      "source": [
        "\n",
        "def train(model,x,y,criterion,optimizer):\n",
        "\n",
        "    # zero the parameter gradients\n",
        "    optimizer.zero_grad()\n",
        "    # forward + backward + optimize\n",
        "    outputs = model(x)\n",
        "    # compute the loss\n",
        "    loss = criterion(outputs, y)\n",
        "    # calculate gradient\n",
        "    loss.backward()\n",
        "    # update parametres\n",
        "    optimizer.step()\n",
        "\n",
        "    return loss.item()\n",
        "\n",
        "def evaluation(model,loader):\n",
        "\n",
        "    # evaluation function\n",
        "    correct = 0\n",
        "    total = 0\n",
        "    # turn off dropout layer\n",
        "    model.eval()\n",
        "    # torch.no_grad prevents backward recording, reduces memory consumtion\n",
        "    with torch.no_grad():\n",
        "    \n",
        "        for i, (images,labels) in enumerate(loader):\n",
        "            images, labels = images.to(device), labels.to(device)\n",
        "            # since no_grad is used, generate autograd for this part of evaluation\n",
        "            images = torch.autograd.Variable(images.float())\n",
        "            labels = torch.autograd.Variable(labels)\n",
        "\n",
        "            outputs = model(images)\n",
        "            # the class with highest value is chosen for prediction\n",
        "            # the result tuple of two output tensors (max, max_indices)\n",
        "            # take only indices\n",
        "            _, predicted = torch.max(outputs.data, 1)\n",
        "            total += labels.size(0)\n",
        "            correct += (predicted == labels).sum().item()\n",
        "    \n",
        "    return correct / total if total > 0 else 0"
      ]
    },
    {
      "cell_type": "code",
      "execution_count": 7,
      "metadata": {
        "id": "Z4OqUl8Sodbi"
      },
      "outputs": [],
      "source": [
        "def classify(device,model,data,criterion,optimizer,*params):\n",
        "    # Function to perform classifications with different parametres\n",
        "    num_epochs,num_classes,batch_size,learning_rate,activation = params\n",
        "    train_loader,test_loader = data\n",
        "    # define parametres\n",
        "    total_step = len(train_loader)\n",
        "    train_losses = []\n",
        "    train_accuracy = []\n",
        "    test_accuracy = []\n",
        "    tte = [] # time taken per epoch\n",
        "    loss_epoch_array = []\n",
        "\n",
        "    # start loop that goes through all epoch\n",
        "    for epoch in range(num_epochs):\n",
        "        loss_epoch = 0\n",
        "        tte_start = time.time()\n",
        "        # loop over batches\n",
        "        for i, (images,labels) in enumerate(train_loader):\n",
        "            # to ensure dropout is \"turned on\" while training, is set to 0 in all tasks but last\n",
        "            model.train()\n",
        "            # since no_grad is used, generate autograd for this part of evaluation\n",
        "            images, labels = images.to(device), labels.to(device)\n",
        "            images = torch.autograd.Variable(images.float())\n",
        "            labels = torch.autograd.Variable(labels)\n",
        "\n",
        "            loss = train(model,images,labels,criterion,optimizer)\n",
        "            loss_epoch += loss\n",
        "        # append the results and update time\n",
        "        train_losses.append(loss)\n",
        "        train_accuracy.append(evaluation(model,train_loader))\n",
        "        test_accuracy.append(evaluation(model,test_loader))\n",
        "        loss_epoch_array.append(loss_epoch)\n",
        "        tte_end = time.time()\n",
        "        elapsed_time = tte_end-tte_start\n",
        "        tte.append(elapsed_time)\n",
        "        # print results as soon as epoch ends\n",
        "        print ('Epoch [{}/{}] {:.2f} sec, loss_epoch: {:.2f} ,train_loss: {:.4f}, train_acc: {:.4f}, test_acc: {:.4f}'.format(epoch+1, num_epochs, elapsed_time,loss_epoch,train_losses[-1], train_accuracy[-1],test_accuracy[-1]))\n",
        "    # print final results\n",
        "    final_test_accuracy = evaluation(model,test_loader)\n",
        "    print('Test Accuracy of the model: {:.4f} %'.format(100 * final_test_accuracy))\n",
        "    print('Total Time taken: {:.3f} sec'.format(sum(tte)))\n",
        "    return train_losses, train_accuracy, test_accuracy, final_test_accuracy, elapsed_time, loss_epoch_array"
      ]
    },
    {
      "cell_type": "code",
      "source": [
        "def weights_init(m):\n",
        "  if isinstance(m, nn.Linear) or isinstance(m, nn.Conv2d):\n",
        "    torch.nn.init.xavier_uniform_(m.weight)"
      ],
      "metadata": {
        "id": "uE9G0OkGBUNj"
      },
      "execution_count": 12,
      "outputs": []
    },
    {
      "cell_type": "markdown",
      "metadata": {
        "id": "P95my_F9wST4"
      },
      "source": [
        "For training, initialise your weights using the Xavier Uniform initialisation, use ReLU as the activation function, a learning rate of 0.1 with the SGD optimiser. Train neural network 30 epochs."
      ]
    },
    {
      "cell_type": "markdown",
      "source": [],
      "metadata": {
        "id": "gr9mG4J1iyVH"
      }
    },
    {
      "cell_type": "markdown",
      "metadata": {
        "id": "vI0H_y6TwlCJ"
      },
      "source": [
        "First Run with accuracy; Epoch 30, Batch 100, Learning Rate 0.1, ReLU, dropout 0\n"
      ]
    },
    {
      "cell_type": "code",
      "execution_count": 13,
      "metadata": {
        "colab": {
          "base_uri": "https://localhost:8080/"
        },
        "id": "i5XZJySJogzN",
        "outputId": "f1a20b56-6721-4bd1-e7e7-8fbe542c38bf"
      },
      "outputs": [
        {
          "output_type": "stream",
          "name": "stdout",
          "text": [
            "Epoch [1/30] 24.77 sec, loss_epoch: 1016.53 ,train_loss: 0.3693, train_acc: 0.8738, test_acc: 0.8609\n",
            "Epoch [2/30] 26.66 sec, loss_epoch: 609.51 ,train_loss: 0.2744, train_acc: 0.8971, test_acc: 0.8803\n",
            "Epoch [3/30] 28.07 sec, loss_epoch: 514.61 ,train_loss: 0.2210, train_acc: 0.9083, test_acc: 0.8903\n",
            "Epoch [4/30] 26.72 sec, loss_epoch: 447.78 ,train_loss: 0.2098, train_acc: 0.9142, test_acc: 0.8915\n",
            "Epoch [5/30] 25.00 sec, loss_epoch: 393.64 ,train_loss: 0.1603, train_acc: 0.9176, test_acc: 0.8900\n",
            "Epoch [6/30] 26.25 sec, loss_epoch: 343.99 ,train_loss: 0.1241, train_acc: 0.9191, test_acc: 0.8892\n",
            "Epoch [7/30] 25.59 sec, loss_epoch: 299.25 ,train_loss: 0.1573, train_acc: 0.9248, test_acc: 0.8922\n",
            "Epoch [8/30] 25.06 sec, loss_epoch: 261.10 ,train_loss: 0.1211, train_acc: 0.9304, test_acc: 0.8944\n",
            "Epoch [9/30] 25.16 sec, loss_epoch: 234.49 ,train_loss: 0.1167, train_acc: 0.9273, test_acc: 0.8899\n",
            "Epoch [10/30] 25.03 sec, loss_epoch: 214.62 ,train_loss: 0.1144, train_acc: 0.9358, test_acc: 0.8918\n",
            "Epoch [11/30] 25.05 sec, loss_epoch: 193.72 ,train_loss: 0.1133, train_acc: 0.9376, test_acc: 0.8915\n",
            "Epoch [12/30] 24.70 sec, loss_epoch: 183.88 ,train_loss: 0.0649, train_acc: 0.9407, test_acc: 0.8917\n",
            "Epoch [13/30] 24.85 sec, loss_epoch: 160.13 ,train_loss: 0.5508, train_acc: 0.9502, test_acc: 0.8932\n",
            "Epoch [14/30] 24.85 sec, loss_epoch: 150.22 ,train_loss: 0.0441, train_acc: 0.9459, test_acc: 0.8894\n",
            "Epoch [15/30] 24.67 sec, loss_epoch: 134.06 ,train_loss: 0.0313, train_acc: 0.9550, test_acc: 0.8927\n",
            "Epoch [16/30] 27.18 sec, loss_epoch: 127.99 ,train_loss: 0.0512, train_acc: 0.9510, test_acc: 0.8905\n",
            "Epoch [17/30] 24.64 sec, loss_epoch: 107.01 ,train_loss: 0.0503, train_acc: 0.9577, test_acc: 0.8941\n",
            "Epoch [18/30] 25.03 sec, loss_epoch: 105.68 ,train_loss: 0.0466, train_acc: 0.9560, test_acc: 0.8982\n",
            "Epoch [19/30] 24.71 sec, loss_epoch: 105.77 ,train_loss: 0.0285, train_acc: 0.9628, test_acc: 0.8994\n",
            "Epoch [20/30] 24.81 sec, loss_epoch: 101.31 ,train_loss: 0.1381, train_acc: 0.9594, test_acc: 0.8948\n",
            "Epoch [21/30] 24.95 sec, loss_epoch: 99.06 ,train_loss: 0.7174, train_acc: 0.9628, test_acc: 0.8978\n",
            "Epoch [22/30] 24.87 sec, loss_epoch: 78.33 ,train_loss: 0.1750, train_acc: 0.9699, test_acc: 0.9001\n",
            "Epoch [23/30] 24.81 sec, loss_epoch: 68.34 ,train_loss: 0.0375, train_acc: 0.9689, test_acc: 0.9025\n",
            "Epoch [24/30] 24.66 sec, loss_epoch: 69.57 ,train_loss: 0.3182, train_acc: 0.9430, test_acc: 0.8825\n",
            "Epoch [25/30] 24.61 sec, loss_epoch: 79.52 ,train_loss: 0.3502, train_acc: 0.9668, test_acc: 0.8994\n",
            "Epoch [26/30] 25.00 sec, loss_epoch: 72.23 ,train_loss: 0.0254, train_acc: 0.9682, test_acc: 0.8991\n",
            "Epoch [27/30] 24.65 sec, loss_epoch: 63.47 ,train_loss: 0.1201, train_acc: 0.9683, test_acc: 0.8953\n",
            "Epoch [28/30] 24.75 sec, loss_epoch: 53.29 ,train_loss: 0.0049, train_acc: 0.9773, test_acc: 0.9039\n",
            "Epoch [29/30] 24.71 sec, loss_epoch: 56.03 ,train_loss: 0.0449, train_acc: 0.9734, test_acc: 0.9004\n",
            "Epoch [30/30] 24.75 sec, loss_epoch: 51.17 ,train_loss: 0.0062, train_acc: 0.9725, test_acc: 0.8991\n",
            "Test Accuracy of the model: 89.9100 %\n",
            "Total Time taken: 756.573 sec\n"
          ]
        }
      ],
      "source": [
        "result = []\n",
        "num_epochs = 30\n",
        "num_classes = 10\n",
        "batch_size = 100\n",
        "learning_rate = 0.1\n",
        "activation = \"relu\"\n",
        "dropout_rate = 0\n",
        "training_flag = True\n",
        "device = torch.device('cuda:0' if torch.cuda.is_available() else 'cpu')\n",
        "net = MyCNN(num_classes,activation=activation,dropout_rate=dropout_rate,training_flag=training_flag).to(device)\n",
        "# initialise weights\n",
        "net.apply(weights_init)\n",
        "\n",
        "criterion = nn.CrossEntropyLoss()\n",
        "optimizer = torch.optim.SGD(list(net.parameters()), lr=learning_rate)\n",
        "data = train_loader, test_loader\n",
        "[train_loader,test_loader] = data \n",
        "\n",
        "t_loss,t_acc,test_acc,final_test_accuracy,exec_time, loss_epoch_array = classify(device,net,data,criterion,optimizer,num_epochs,num_classes,batch_size,learning_rate,activation)\n",
        "end = [learning_rate,activation,dropout_rate,num_epochs,t_loss,t_acc,test_acc,final_test_accuracy,exec_time]\n",
        "result.append(end)"
      ]
    },
    {
      "cell_type": "markdown",
      "metadata": {
        "id": "xOHLRb7UwnRk"
      },
      "source": [
        "Plot Accuracy"
      ]
    },
    {
      "cell_type": "code",
      "execution_count": 14,
      "metadata": {
        "id": "HLM5v__hokb9",
        "outputId": "0b792e0c-18c5-4055-f221-cdde90f6f0ff",
        "colab": {
          "base_uri": "https://localhost:8080/",
          "height": 466
        }
      },
      "outputs": [
        {
          "output_type": "execute_result",
          "data": {
            "text/plain": [
              "<matplotlib.legend.Legend at 0x7f58f46321a0>"
            ]
          },
          "metadata": {},
          "execution_count": 14
        },
        {
          "output_type": "display_data",
          "data": {
            "text/plain": [
              "<Figure size 640x480 with 1 Axes>"
            ],
            "image/png": "[encoded data removed]"
          },
          "metadata": {}
        }
      ],
      "source": [
        "plt.xlabel(\"Epoch\")\n",
        "plt.ylabel(\"Accuracy\")\n",
        "plt.plot(t_acc, \"r\")\n",
        "plt.plot(test_acc, \"b\")\n",
        "plt.gca().legend(('train','test'))"
      ]
    },
    {
      "cell_type": "markdown",
      "metadata": {
        "id": "UxaJJxpcwu9O"
      },
      "source": [
        "Plot of the train loss per epoch"
      ]
    },
    {
      "cell_type": "code",
      "execution_count": 15,
      "metadata": {
        "id": "U0-otHniw2PZ",
        "outputId": "d18bd959-de6e-48e3-ee40-d6d7ca4473f6",
        "colab": {
          "base_uri": "https://localhost:8080/",
          "height": 466
        }
      },
      "outputs": [
        {
          "output_type": "execute_result",
          "data": {
            "text/plain": [
              "[<matplotlib.lines.Line2D at 0x7f58f466a170>]"
            ]
          },
          "metadata": {},
          "execution_count": 15
        },
        {
          "output_type": "display_data",
          "data": {
            "text/plain": [
              "<Figure size 640x480 with 1 Axes>"
            ],
            "image/png": "[encoded data removed]"
          },
          "metadata": {}
        }
      ],
      "source": [
        "plt.xlabel(\"Epoch\")\n",
        "plt.ylabel(\"Loss\")\n",
        "plt.plot(loss_epoch_array)"
      ]
    },
    {
      "cell_type": "markdown",
      "metadata": {
        "id": "H_wBa0qTw2lL"
      },
      "source": [
        "Tanh, Sigmoid and ELU"
      ]
    },
    {
      "cell_type": "code",
      "execution_count": 16,
      "metadata": {
        "id": "xdY4l21zw9_b",
        "outputId": "d8147f01-5c5e-4c7c-bab1-ddcdfa62c891",
        "colab": {
          "base_uri": "https://localhost:8080/"
        }
      },
      "outputs": [
        {
          "output_type": "stream",
          "name": "stdout",
          "text": [
            "tanh\n",
            "Epoch [1/30] 24.55 sec, loss_epoch: 2172.12 ,train_loss: 1.0976, train_acc: 0.7775, test_acc: 0.7678\n",
            "Epoch [2/30] 24.63 sec, loss_epoch: 1928.27 ,train_loss: 1.0231, train_acc: 0.8564, test_acc: 0.8439\n",
            "Epoch [3/30] 24.81 sec, loss_epoch: 1851.22 ,train_loss: 0.9121, train_acc: 0.8735, test_acc: 0.8609\n",
            "Epoch [4/30] 24.49 sec, loss_epoch: 1815.06 ,train_loss: 0.9101, train_acc: 0.8832, test_acc: 0.8730\n",
            "Epoch [5/30] 24.81 sec, loss_epoch: 1791.84 ,train_loss: 0.8855, train_acc: 0.8924, test_acc: 0.8807\n",
            "Epoch [6/30] 24.84 sec, loss_epoch: 1773.44 ,train_loss: 0.8732, train_acc: 0.8967, test_acc: 0.8850\n",
            "Epoch [7/30] 24.52 sec, loss_epoch: 1758.80 ,train_loss: 0.8738, train_acc: 0.8996, test_acc: 0.8854\n",
            "Epoch [8/30] 24.98 sec, loss_epoch: 1745.61 ,train_loss: 0.8932, train_acc: 0.9053, test_acc: 0.8905\n",
            "Epoch [9/30] 24.67 sec, loss_epoch: 1733.60 ,train_loss: 0.9326, train_acc: 0.9059, test_acc: 0.8886\n",
            "Epoch [10/30] 24.64 sec, loss_epoch: 1723.22 ,train_loss: 0.8768, train_acc: 0.9097, test_acc: 0.8891\n",
            "Epoch [11/30] 24.48 sec, loss_epoch: 1714.05 ,train_loss: 0.9212, train_acc: 0.9145, test_acc: 0.8925\n",
            "Epoch [12/30] 25.04 sec, loss_epoch: 1705.92 ,train_loss: 0.8798, train_acc: 0.9175, test_acc: 0.8953\n",
            "Epoch [13/30] 24.62 sec, loss_epoch: 1698.47 ,train_loss: 0.9188, train_acc: 0.9173, test_acc: 0.8959\n",
            "Epoch [14/30] 24.64 sec, loss_epoch: 1690.37 ,train_loss: 0.8821, train_acc: 0.9219, test_acc: 0.8965\n",
            "Epoch [15/30] 24.95 sec, loss_epoch: 1683.38 ,train_loss: 0.8602, train_acc: 0.9234, test_acc: 0.8975\n",
            "Epoch [16/30] 24.79 sec, loss_epoch: 1675.45 ,train_loss: 0.8769, train_acc: 0.9270, test_acc: 0.8981\n",
            "Epoch [17/30] 24.82 sec, loss_epoch: 1669.05 ,train_loss: 0.8601, train_acc: 0.9277, test_acc: 0.8990\n",
            "Epoch [18/30] 24.60 sec, loss_epoch: 1662.19 ,train_loss: 0.8706, train_acc: 0.9311, test_acc: 0.8999\n",
            "Epoch [19/30] 24.79 sec, loss_epoch: 1654.72 ,train_loss: 0.8595, train_acc: 0.9323, test_acc: 0.8977\n",
            "Epoch [20/30] 25.11 sec, loss_epoch: 1649.42 ,train_loss: 0.8544, train_acc: 0.9362, test_acc: 0.9017\n",
            "Epoch [21/30] 24.81 sec, loss_epoch: 1644.20 ,train_loss: 0.9301, train_acc: 0.9338, test_acc: 0.8989\n",
            "Epoch [22/30] 24.93 sec, loss_epoch: 1640.24 ,train_loss: 0.8844, train_acc: 0.9323, test_acc: 0.8974\n",
            "Epoch [23/30] 24.62 sec, loss_epoch: 1635.19 ,train_loss: 0.9510, train_acc: 0.9405, test_acc: 0.9024\n",
            "Epoch [24/30] 24.69 sec, loss_epoch: 1630.10 ,train_loss: 0.9033, train_acc: 0.9415, test_acc: 0.9024\n",
            "Epoch [25/30] 25.00 sec, loss_epoch: 1626.16 ,train_loss: 0.9472, train_acc: 0.9265, test_acc: 0.8876\n",
            "Epoch [26/30] 24.57 sec, loss_epoch: 1621.94 ,train_loss: 0.8519, train_acc: 0.9468, test_acc: 0.9073\n",
            "Epoch [27/30] 24.87 sec, loss_epoch: 1618.12 ,train_loss: 0.8813, train_acc: 0.9440, test_acc: 0.9005\n",
            "Epoch [28/30] 24.56 sec, loss_epoch: 1613.63 ,train_loss: 0.8548, train_acc: 0.9506, test_acc: 0.9061\n",
            "Epoch [29/30] 24.84 sec, loss_epoch: 1612.21 ,train_loss: 0.8529, train_acc: 0.9475, test_acc: 0.9031\n",
            "Epoch [30/30] 24.73 sec, loss_epoch: 1608.47 ,train_loss: 0.8451, train_acc: 0.9495, test_acc: 0.9040\n",
            "Test Accuracy of the model: 90.4000 %\n",
            "Total Time taken: 742.393 sec\n",
            "sigmoid\n",
            "Epoch [1/30] 24.63 sec, loss_epoch: 4321.99 ,train_loss: 2.3085, train_acc: 0.1000, test_acc: 0.1000\n",
            "Epoch [2/30] 24.89 sec, loss_epoch: 4320.27 ,train_loss: 2.3053, train_acc: 0.1000, test_acc: 0.1000\n",
            "Epoch [3/30] 24.65 sec, loss_epoch: 4319.29 ,train_loss: 2.3036, train_acc: 0.1000, test_acc: 0.1000\n",
            "Epoch [4/30] 25.02 sec, loss_epoch: 4318.76 ,train_loss: 2.3029, train_acc: 0.1000, test_acc: 0.1000\n",
            "Epoch [5/30] 24.58 sec, loss_epoch: 4318.41 ,train_loss: 2.3025, train_acc: 0.1000, test_acc: 0.1000\n",
            "Epoch [6/30] 24.47 sec, loss_epoch: 4318.13 ,train_loss: 2.3023, train_acc: 0.1000, test_acc: 0.1000\n",
            "Epoch [7/30] 24.82 sec, loss_epoch: 4317.83 ,train_loss: 2.3021, train_acc: 0.1000, test_acc: 0.1000\n",
            "Epoch [8/30] 24.87 sec, loss_epoch: 4317.34 ,train_loss: 2.3016, train_acc: 0.1000, test_acc: 0.1000\n",
            "Epoch [9/30] 24.81 sec, loss_epoch: 4315.70 ,train_loss: 2.2992, train_acc: 0.1000, test_acc: 0.1000\n",
            "Epoch [10/30] 24.65 sec, loss_epoch: 4214.80 ,train_loss: 2.0525, train_acc: 0.2532, test_acc: 0.2528\n",
            "Epoch [11/30] 25.04 sec, loss_epoch: 3688.90 ,train_loss: 1.8403, train_acc: 0.3584, test_acc: 0.3589\n",
            "Epoch [12/30] 24.72 sec, loss_epoch: 3414.64 ,train_loss: 1.7732, train_acc: 0.3682, test_acc: 0.3664\n",
            "Epoch [13/30] 24.58 sec, loss_epoch: 3319.29 ,train_loss: 1.7519, train_acc: 0.3908, test_acc: 0.3894\n",
            "Epoch [14/30] 24.84 sec, loss_epoch: 3282.99 ,train_loss: 1.7396, train_acc: 0.4057, test_acc: 0.4047\n",
            "Epoch [15/30] 24.92 sec, loss_epoch: 3259.87 ,train_loss: 1.7305, train_acc: 0.4028, test_acc: 0.4025\n",
            "Epoch [16/30] 25.36 sec, loss_epoch: 3242.96 ,train_loss: 1.7235, train_acc: 0.4047, test_acc: 0.4033\n",
            "Epoch [17/30] 24.91 sec, loss_epoch: 3231.43 ,train_loss: 1.7183, train_acc: 0.3999, test_acc: 0.3959\n",
            "Epoch [18/30] 25.14 sec, loss_epoch: 3222.86 ,train_loss: 1.7146, train_acc: 0.3901, test_acc: 0.3872\n",
            "Epoch [19/30] 24.96 sec, loss_epoch: 3216.03 ,train_loss: 1.7119, train_acc: 0.3833, test_acc: 0.3804\n",
            "Epoch [20/30] 24.79 sec, loss_epoch: 3210.32 ,train_loss: 1.7098, train_acc: 0.3751, test_acc: 0.3749\n",
            "Epoch [21/30] 25.13 sec, loss_epoch: 3205.35 ,train_loss: 1.7080, train_acc: 0.3686, test_acc: 0.3700\n",
            "Epoch [22/30] 24.77 sec, loss_epoch: 3200.93 ,train_loss: 1.7064, train_acc: 0.3654, test_acc: 0.3667\n",
            "Epoch [23/30] 24.79 sec, loss_epoch: 3196.88 ,train_loss: 1.7049, train_acc: 0.3644, test_acc: 0.3655\n",
            "Epoch [24/30] 24.81 sec, loss_epoch: 3193.12 ,train_loss: 1.7035, train_acc: 0.3648, test_acc: 0.3644\n",
            "Epoch [25/30] 24.87 sec, loss_epoch: 3189.57 ,train_loss: 1.7023, train_acc: 0.3634, test_acc: 0.3621\n",
            "Epoch [26/30] 24.96 sec, loss_epoch: 3186.12 ,train_loss: 1.7012, train_acc: 0.3628, test_acc: 0.3599\n",
            "Epoch [27/30] 24.69 sec, loss_epoch: 3182.66 ,train_loss: 1.6996, train_acc: 0.3630, test_acc: 0.3598\n",
            "Epoch [28/30] 25.12 sec, loss_epoch: 3179.08 ,train_loss: 1.6973, train_acc: 0.3678, test_acc: 0.3640\n",
            "Epoch [29/30] 24.88 sec, loss_epoch: 3175.27 ,train_loss: 1.6948, train_acc: 0.3710, test_acc: 0.3662\n",
            "Epoch [30/30] 24.59 sec, loss_epoch: 3171.20 ,train_loss: 1.6926, train_acc: 0.3706, test_acc: 0.3667\n",
            "Test Accuracy of the model: 36.6700 %\n",
            "Total Time taken: 745.286 sec\n",
            "elu\n",
            "Epoch [1/30] 25.01 sec, loss_epoch: 987.44 ,train_loss: 0.4138, train_acc: 0.8639, test_acc: 0.8522\n",
            "Epoch [2/30] 24.82 sec, loss_epoch: 636.70 ,train_loss: 0.3095, train_acc: 0.8931, test_acc: 0.8787\n",
            "Epoch [3/30] 24.83 sec, loss_epoch: 545.62 ,train_loss: 0.2767, train_acc: 0.9055, test_acc: 0.8883\n",
            "Epoch [4/30] 24.91 sec, loss_epoch: 485.45 ,train_loss: 0.2505, train_acc: 0.9137, test_acc: 0.8916\n",
            "Epoch [5/30] 25.00 sec, loss_epoch: 436.91 ,train_loss: 0.2219, train_acc: 0.9206, test_acc: 0.8959\n",
            "Epoch [6/30] 24.75 sec, loss_epoch: 393.19 ,train_loss: 0.1714, train_acc: 0.9265, test_acc: 0.8977\n",
            "Epoch [7/30] 24.73 sec, loss_epoch: 355.76 ,train_loss: 0.1300, train_acc: 0.9332, test_acc: 0.9014\n",
            "Epoch [8/30] 24.89 sec, loss_epoch: 322.88 ,train_loss: 0.1352, train_acc: 0.9347, test_acc: 0.8988\n",
            "Epoch [9/30] 24.81 sec, loss_epoch: 289.83 ,train_loss: 0.1534, train_acc: 0.9393, test_acc: 0.9003\n",
            "Epoch [10/30] 25.09 sec, loss_epoch: 268.50 ,train_loss: 0.1281, train_acc: 0.9438, test_acc: 0.9019\n",
            "Epoch [11/30] 24.97 sec, loss_epoch: 245.96 ,train_loss: 0.1566, train_acc: 0.9414, test_acc: 0.8963\n",
            "Epoch [12/30] 24.09 sec, loss_epoch: 229.94 ,train_loss: 0.1574, train_acc: 0.9448, test_acc: 0.8977\n",
            "Epoch [13/30] 24.55 sec, loss_epoch: 211.01 ,train_loss: 0.1667, train_acc: 0.9527, test_acc: 0.9021\n",
            "Epoch [14/30] 24.14 sec, loss_epoch: 194.28 ,train_loss: 0.0779, train_acc: 0.9518, test_acc: 0.9014\n",
            "Epoch [15/30] 24.29 sec, loss_epoch: 179.66 ,train_loss: 0.1891, train_acc: 0.9604, test_acc: 0.9043\n",
            "Epoch [16/30] 23.94 sec, loss_epoch: 170.40 ,train_loss: 0.0956, train_acc: 0.9622, test_acc: 0.9059\n",
            "Epoch [17/30] 24.30 sec, loss_epoch: 155.26 ,train_loss: 0.0698, train_acc: 0.9504, test_acc: 0.8960\n",
            "Epoch [18/30] 24.22 sec, loss_epoch: 144.88 ,train_loss: 0.2279, train_acc: 0.9577, test_acc: 0.8964\n",
            "Epoch [19/30] 24.22 sec, loss_epoch: 139.58 ,train_loss: 0.1050, train_acc: 0.9660, test_acc: 0.9072\n",
            "Epoch [20/30] 24.72 sec, loss_epoch: 146.74 ,train_loss: 0.1043, train_acc: 0.9720, test_acc: 0.9094\n",
            "Epoch [21/30] 24.18 sec, loss_epoch: 130.57 ,train_loss: 0.1365, train_acc: 0.9731, test_acc: 0.9028\n",
            "Epoch [22/30] 24.26 sec, loss_epoch: 111.35 ,train_loss: 0.1418, train_acc: 0.9699, test_acc: 0.9014\n",
            "Epoch [23/30] 24.45 sec, loss_epoch: 115.76 ,train_loss: 0.0257, train_acc: 0.9731, test_acc: 0.9057\n",
            "Epoch [24/30] 24.47 sec, loss_epoch: 99.83 ,train_loss: 0.2469, train_acc: 0.9748, test_acc: 0.9011\n",
            "Epoch [25/30] 24.40 sec, loss_epoch: 88.85 ,train_loss: 0.0278, train_acc: 0.9770, test_acc: 0.9074\n",
            "Epoch [26/30] 24.21 sec, loss_epoch: 97.41 ,train_loss: 0.0478, train_acc: 0.9804, test_acc: 0.9074\n",
            "Epoch [27/30] 24.29 sec, loss_epoch: 78.67 ,train_loss: 0.0100, train_acc: 0.9770, test_acc: 0.9058\n",
            "Epoch [28/30] 24.35 sec, loss_epoch: 89.18 ,train_loss: 0.0072, train_acc: 0.9781, test_acc: 0.9053\n",
            "Epoch [29/30] 24.48 sec, loss_epoch: 90.32 ,train_loss: 0.0882, train_acc: 0.9726, test_acc: 0.9030\n",
            "Epoch [30/30] 25.54 sec, loss_epoch: 95.08 ,train_loss: 0.0198, train_acc: 0.9689, test_acc: 0.8988\n",
            "Test Accuracy of the model: 89.8800 %\n",
            "Total Time taken: 736.912 sec\n"
          ]
        }
      ],
      "source": [
        "for activation in [\"tanh\",\"sigmoid\",\"elu\"]:\n",
        "    num_epochs = 30\n",
        "    num_classes = 10\n",
        "    batch_size = 100\n",
        "    learning_rate = 0.1\n",
        "    dropout_rate = 0\n",
        "    # activations = [\"tanh\",\"sigmoid\",\"elu\"]\n",
        "    print(activation)\n",
        "    training_flag = True\n",
        "    device = torch.device('cuda:0' if torch.cuda.is_available() else 'cpu')\n",
        "    net = MyCNN(num_classes,activation=activation,dropout_rate=dropout_rate,training_flag=training_flag).to(device)\n",
        "    criterion = nn.CrossEntropyLoss()\n",
        "    optimizer = torch.optim.SGD(net.parameters(), lr=learning_rate)\n",
        "    data = train_loader, test_loader\n",
        "    [train_loader,test_loader] = data \n",
        "\n",
        "    t_loss,t_acc,test_acc,final_test_accuracy,exec_time, loss_epoch_array = classify(device,net,data,criterion,optimizer,num_epochs,num_classes,batch_size,learning_rate,activation)\n",
        "    end = [learning_rate,activation,dropout_rate,num_epochs,t_loss,t_acc,test_acc,final_test_accuracy,exec_time]\n",
        "    result.append(end)"
      ]
    },
    {
      "cell_type": "markdown",
      "metadata": {
        "id": "2q0D2xU5w-Ri"
      },
      "source": [
        "4. 5 different learning rates: 0.001, 0.1, 0.5, 1, 10"
      ]
    },
    {
      "cell_type": "code",
      "execution_count": null,
      "metadata": {
        "id": "ChktPpz3xBp5",
        "colab": {
          "base_uri": "https://localhost:8080/"
        },
        "outputId": "7ae1e44b-b61b-4bc3-bae7-80831cfad616"
      },
      "outputs": [
        {
          "output_type": "stream",
          "name": "stdout",
          "text": [
            "0.001\n",
            "Epoch [1/30] 24.28 sec, loss_epoch: 4290.32 ,train_loss: 2.2810, train_acc: 0.3965, test_acc: 0.3912\n",
            "Epoch [2/30] 24.29 sec, loss_epoch: 4109.22 ,train_loss: 2.0650, train_acc: 0.4472, test_acc: 0.4461\n",
            "Epoch [3/30] 23.96 sec, loss_epoch: 2856.55 ,train_loss: 1.4267, train_acc: 0.5966, test_acc: 0.5941\n",
            "Epoch [4/30] 24.43 sec, loss_epoch: 2150.05 ,train_loss: 1.0732, train_acc: 0.6363, test_acc: 0.6268\n",
            "Epoch [5/30] 24.33 sec, loss_epoch: 1677.99 ,train_loss: 0.9002, train_acc: 0.6889, test_acc: 0.6824\n",
            "Epoch [6/30] 24.34 sec, loss_epoch: 1511.91 ,train_loss: 0.8252, train_acc: 0.7179, test_acc: 0.7100\n",
            "Epoch [7/30] 24.54 sec, loss_epoch: 1401.00 ,train_loss: 0.7915, train_acc: 0.7331, test_acc: 0.7265\n",
            "Epoch [8/30] 24.09 sec, loss_epoch: 1330.66 ,train_loss: 0.7713, train_acc: 0.7433, test_acc: 0.7379\n",
            "Epoch [9/30] 24.07 sec, loss_epoch: 1281.56 ,train_loss: 0.7500, train_acc: 0.7511, test_acc: 0.7458\n",
            "Epoch [10/30] 24.30 sec, loss_epoch: 1241.60 ,train_loss: 0.7316, train_acc: 0.7572, test_acc: 0.7516\n",
            "Epoch [11/30] 24.22 sec, loss_epoch: 1206.46 ,train_loss: 0.7148, train_acc: 0.7635, test_acc: 0.7564\n",
            "Epoch [12/30] 24.72 sec, loss_epoch: 1174.78 ,train_loss: 0.7011, train_acc: 0.7694, test_acc: 0.7610\n",
            "Epoch [13/30] 23.89 sec, loss_epoch: 1145.77 ,train_loss: 0.6842, train_acc: 0.7752, test_acc: 0.7652\n",
            "Epoch [14/30] 24.04 sec, loss_epoch: 1118.64 ,train_loss: 0.6695, train_acc: 0.7805, test_acc: 0.7721\n",
            "Epoch [15/30] 24.26 sec, loss_epoch: 1093.33 ,train_loss: 0.6537, train_acc: 0.7859, test_acc: 0.7776\n",
            "Epoch [16/30] 24.11 sec, loss_epoch: 1069.56 ,train_loss: 0.6343, train_acc: 0.7906, test_acc: 0.7834\n",
            "Epoch [17/30] 24.24 sec, loss_epoch: 1047.12 ,train_loss: 0.6177, train_acc: 0.7965, test_acc: 0.7884\n",
            "Epoch [18/30] 24.11 sec, loss_epoch: 1025.90 ,train_loss: 0.6013, train_acc: 0.8018, test_acc: 0.7914\n",
            "Epoch [19/30] 24.19 sec, loss_epoch: 1005.62 ,train_loss: 0.5861, train_acc: 0.8064, test_acc: 0.7968\n",
            "Epoch [20/30] 24.57 sec, loss_epoch: 986.20 ,train_loss: 0.5730, train_acc: 0.8111, test_acc: 0.8015\n",
            "Epoch [21/30] 24.26 sec, loss_epoch: 967.81 ,train_loss: 0.5600, train_acc: 0.8155, test_acc: 0.8068\n",
            "Epoch [22/30] 24.39 sec, loss_epoch: 950.44 ,train_loss: 0.5491, train_acc: 0.8204, test_acc: 0.8111\n",
            "Epoch [23/30] 24.31 sec, loss_epoch: 934.02 ,train_loss: 0.5391, train_acc: 0.8244, test_acc: 0.8156\n",
            "Epoch [24/30] 24.20 sec, loss_epoch: 918.52 ,train_loss: 0.5295, train_acc: 0.8285, test_acc: 0.8199\n",
            "Epoch [25/30] 24.21 sec, loss_epoch: 903.95 ,train_loss: 0.5232, train_acc: 0.8318, test_acc: 0.8232\n",
            "Epoch [26/30] 24.05 sec, loss_epoch: 890.09 ,train_loss: 0.5184, train_acc: 0.8346, test_acc: 0.8255\n",
            "Epoch [27/30] 24.41 sec, loss_epoch: 877.18 ,train_loss: 0.5136, train_acc: 0.8372, test_acc: 0.8298\n",
            "Epoch [28/30] 23.94 sec, loss_epoch: 865.02 ,train_loss: 0.5085, train_acc: 0.8400, test_acc: 0.8326\n",
            "Epoch [29/30] 24.23 sec, loss_epoch: 853.49 ,train_loss: 0.5052, train_acc: 0.8429, test_acc: 0.8347\n",
            "Epoch [30/30] 24.36 sec, loss_epoch: 842.43 ,train_loss: 0.5019, train_acc: 0.8447, test_acc: 0.8370\n",
            "Test Accuracy of the model: 83.7000 %\n",
            "Total Time taken: 727.331 sec\n",
            "0.5\n",
            "Epoch [1/30] 24.22 sec, loss_epoch: 3828.99 ,train_loss: 2.0172, train_acc: 0.2494, test_acc: 0.2427\n",
            "Epoch [2/30] 24.37 sec, loss_epoch: 3708.23 ,train_loss: 1.9699, train_acc: 0.2583, test_acc: 0.2521\n",
            "Epoch [3/30] 24.07 sec, loss_epoch: 3679.74 ,train_loss: 1.9680, train_acc: 0.2551, test_acc: 0.2485\n",
            "Epoch [4/30] 24.27 sec, loss_epoch: 3494.76 ,train_loss: 1.5281, train_acc: 0.4015, test_acc: 0.3902\n",
            "Epoch [5/30] 24.03 sec, loss_epoch: 2841.10 ,train_loss: 1.2207, train_acc: 0.4875, test_acc: 0.4735\n",
            "Epoch [6/30] 24.22 sec, loss_epoch: 2620.01 ,train_loss: 1.2136, train_acc: 0.4989, test_acc: 0.4815\n",
            "Epoch [7/30] 24.68 sec, loss_epoch: 2583.14 ,train_loss: 1.1874, train_acc: 0.5069, test_acc: 0.4911\n",
            "Epoch [8/30] 24.17 sec, loss_epoch: 2558.48 ,train_loss: 1.2586, train_acc: 0.4964, test_acc: 0.4793\n",
            "Epoch [9/30] 24.27 sec, loss_epoch: 2540.40 ,train_loss: 1.2781, train_acc: 0.5117, test_acc: 0.4893\n",
            "Epoch [10/30] 24.02 sec, loss_epoch: 2517.05 ,train_loss: 1.3236, train_acc: 0.5204, test_acc: 0.4954\n",
            "Epoch [11/30] 24.18 sec, loss_epoch: 2455.40 ,train_loss: 1.1274, train_acc: 0.5070, test_acc: 0.4796\n",
            "Epoch [12/30] 24.26 sec, loss_epoch: 2151.70 ,train_loss: 1.1504, train_acc: 0.5203, test_acc: 0.4937\n",
            "Epoch [13/30] 24.11 sec, loss_epoch: 2121.74 ,train_loss: 1.1456, train_acc: 0.5130, test_acc: 0.4881\n",
            "Epoch [14/30] 24.72 sec, loss_epoch: 2118.48 ,train_loss: 1.0433, train_acc: 0.5257, test_acc: 0.4947\n",
            "Epoch [15/30] 24.52 sec, loss_epoch: 2100.82 ,train_loss: 0.9758, train_acc: 0.5291, test_acc: 0.4960\n",
            "Epoch [16/30] 24.00 sec, loss_epoch: 2079.23 ,train_loss: 0.9033, train_acc: 0.5354, test_acc: 0.4998\n",
            "Epoch [17/30] 24.31 sec, loss_epoch: 2103.46 ,train_loss: 0.9162, train_acc: 0.5283, test_acc: 0.4947\n",
            "Epoch [18/30] 24.06 sec, loss_epoch: 2110.71 ,train_loss: 1.0734, train_acc: 0.5197, test_acc: 0.4855\n",
            "Epoch [19/30] 24.29 sec, loss_epoch: 2120.42 ,train_loss: 1.2498, train_acc: 0.4634, test_acc: 0.4386\n",
            "Epoch [20/30] 24.11 sec, loss_epoch: 2123.39 ,train_loss: 1.1217, train_acc: 0.5242, test_acc: 0.4894\n",
            "Epoch [21/30] 24.15 sec, loss_epoch: 2091.39 ,train_loss: 0.9082, train_acc: 0.5320, test_acc: 0.4901\n",
            "Epoch [22/30] 24.49 sec, loss_epoch: 2238.13 ,train_loss: 2.3026, train_acc: 0.1000, test_acc: 0.1000\n",
            "Epoch [23/30] 24.36 sec, loss_epoch: 4317.35 ,train_loss: 2.3026, train_acc: 0.1000, test_acc: 0.1000\n",
            "Epoch [24/30] 24.49 sec, loss_epoch: 4317.35 ,train_loss: 2.3026, train_acc: 0.1000, test_acc: 0.1000\n",
            "Epoch [25/30] 23.90 sec, loss_epoch: 4317.35 ,train_loss: 2.3026, train_acc: 0.1000, test_acc: 0.1000\n",
            "Epoch [26/30] 24.15 sec, loss_epoch: 4317.35 ,train_loss: 2.3026, train_acc: 0.1000, test_acc: 0.1000\n",
            "Epoch [27/30] 24.45 sec, loss_epoch: 4317.35 ,train_loss: 2.3026, train_acc: 0.1000, test_acc: 0.1000\n",
            "Epoch [28/30] 24.01 sec, loss_epoch: 4317.35 ,train_loss: 2.3026, train_acc: 0.1000, test_acc: 0.1000\n",
            "Epoch [29/30] 24.37 sec, loss_epoch: 4317.35 ,train_loss: 2.3026, train_acc: 0.1000, test_acc: 0.1000\n",
            "Epoch [30/30] 24.16 sec, loss_epoch: 4317.35 ,train_loss: 2.3026, train_acc: 0.1000, test_acc: 0.1000\n",
            "Test Accuracy of the model: 10.0000 %\n",
            "Total Time taken: 727.390 sec\n",
            "1\n",
            "Epoch [1/30] 24.24 sec, loss_epoch: 4045.51 ,train_loss: 2.3026, train_acc: 0.1000, test_acc: 0.1000\n",
            "Epoch [2/30] 24.26 sec, loss_epoch: 4317.35 ,train_loss: 2.3026, train_acc: 0.1000, test_acc: 0.1000\n",
            "Epoch [3/30] 24.02 sec, loss_epoch: 4317.35 ,train_loss: 2.3026, train_acc: 0.1000, test_acc: 0.1000\n",
            "Epoch [4/30] 24.35 sec, loss_epoch: 4317.35 ,train_loss: 2.3026, train_acc: 0.1000, test_acc: 0.1000\n",
            "Epoch [5/30] 23.99 sec, loss_epoch: 4317.35 ,train_loss: 2.3026, train_acc: 0.1000, test_acc: 0.1000\n",
            "Epoch [6/30] 23.92 sec, loss_epoch: 4317.35 ,train_loss: 2.3026, train_acc: 0.1000, test_acc: 0.1000\n",
            "Epoch [7/30] 24.35 sec, loss_epoch: 4317.35 ,train_loss: 2.3026, train_acc: 0.1000, test_acc: 0.1000\n",
            "Epoch [8/30] 23.82 sec, loss_epoch: 4317.35 ,train_loss: 2.3026, train_acc: 0.1000, test_acc: 0.1000\n",
            "Epoch [9/30] 24.26 sec, loss_epoch: 4317.35 ,train_loss: 2.3026, train_acc: 0.1000, test_acc: 0.1000\n",
            "Epoch [10/30] 24.43 sec, loss_epoch: 4317.35 ,train_loss: 2.3026, train_acc: 0.1000, test_acc: 0.1000\n",
            "Epoch [11/30] 24.10 sec, loss_epoch: 4317.35 ,train_loss: 2.3026, train_acc: 0.1000, test_acc: 0.1000\n",
            "Epoch [12/30] 24.17 sec, loss_epoch: 4317.35 ,train_loss: 2.3026, train_acc: 0.1000, test_acc: 0.1000\n",
            "Epoch [13/30] 24.02 sec, loss_epoch: 4317.35 ,train_loss: 2.3026, train_acc: 0.1000, test_acc: 0.1000\n",
            "Epoch [14/30] 24.43 sec, loss_epoch: 4317.35 ,train_loss: 2.3026, train_acc: 0.1000, test_acc: 0.1000\n",
            "Epoch [15/30] 23.80 sec, loss_epoch: 4317.35 ,train_loss: 2.3026, train_acc: 0.1000, test_acc: 0.1000\n",
            "Epoch [16/30] 23.97 sec, loss_epoch: 4317.35 ,train_loss: 2.3026, train_acc: 0.1000, test_acc: 0.1000\n",
            "Epoch [17/30] 24.38 sec, loss_epoch: 4317.35 ,train_loss: 2.3026, train_acc: 0.1000, test_acc: 0.1000\n",
            "Epoch [18/30] 24.27 sec, loss_epoch: 4317.35 ,train_loss: 2.3026, train_acc: 0.1000, test_acc: 0.1000\n",
            "Epoch [19/30] 24.43 sec, loss_epoch: 4317.35 ,train_loss: 2.3026, train_acc: 0.1000, test_acc: 0.1000\n",
            "Epoch [20/30] 24.09 sec, loss_epoch: 4317.35 ,train_loss: 2.3026, train_acc: 0.1000, test_acc: 0.1000\n",
            "Epoch [21/30] 24.18 sec, loss_epoch: 4317.35 ,train_loss: 2.3026, train_acc: 0.1000, test_acc: 0.1000\n",
            "Epoch [22/30] 24.22 sec, loss_epoch: 4317.35 ,train_loss: 2.3026, train_acc: 0.1000, test_acc: 0.1000\n",
            "Epoch [23/30] 24.13 sec, loss_epoch: 4317.35 ,train_loss: 2.3026, train_acc: 0.1000, test_acc: 0.1000\n",
            "Epoch [24/30] 24.21 sec, loss_epoch: 4317.35 ,train_loss: 2.3026, train_acc: 0.1000, test_acc: 0.1000\n",
            "Epoch [25/30] 24.25 sec, loss_epoch: 4317.35 ,train_loss: 2.3026, train_acc: 0.1000, test_acc: 0.1000\n",
            "Epoch [26/30] 24.32 sec, loss_epoch: 4317.35 ,train_loss: 2.3026, train_acc: 0.1000, test_acc: 0.1000\n",
            "Epoch [27/30] 24.55 sec, loss_epoch: 4317.35 ,train_loss: 2.3026, train_acc: 0.1000, test_acc: 0.1000\n",
            "Epoch [28/30] 24.04 sec, loss_epoch: 4317.35 ,train_loss: 2.3026, train_acc: 0.1000, test_acc: 0.1000\n",
            "Epoch [29/30] 24.44 sec, loss_epoch: 4317.35 ,train_loss: 2.3026, train_acc: 0.1000, test_acc: 0.1000\n",
            "Epoch [30/30] 24.10 sec, loss_epoch: 4317.35 ,train_loss: 2.3026, train_acc: 0.1000, test_acc: 0.1000\n",
            "Test Accuracy of the model: 10.0000 %\n",
            "Total Time taken: 725.746 sec\n",
            "10\n",
            "Epoch [1/30] 24.29 sec, loss_epoch: nan ,train_loss: nan, train_acc: 0.1000, test_acc: 0.1000\n",
            "Epoch [2/30] 24.19 sec, loss_epoch: nan ,train_loss: nan, train_acc: 0.1000, test_acc: 0.1000\n",
            "Epoch [3/30] 23.86 sec, loss_epoch: nan ,train_loss: nan, train_acc: 0.1000, test_acc: 0.1000\n",
            "Epoch [4/30] 24.60 sec, loss_epoch: nan ,train_loss: nan, train_acc: 0.1000, test_acc: 0.1000\n",
            "Epoch [5/30] 24.17 sec, loss_epoch: nan ,train_loss: nan, train_acc: 0.1000, test_acc: 0.1000\n",
            "Epoch [6/30] 24.58 sec, loss_epoch: nan ,train_loss: nan, train_acc: 0.1000, test_acc: 0.1000\n",
            "Epoch [7/30] 24.04 sec, loss_epoch: nan ,train_loss: nan, train_acc: 0.1000, test_acc: 0.1000\n",
            "Epoch [8/30] 24.09 sec, loss_epoch: nan ,train_loss: nan, train_acc: 0.1000, test_acc: 0.1000\n",
            "Epoch [9/30] 24.27 sec, loss_epoch: nan ,train_loss: nan, train_acc: 0.1000, test_acc: 0.1000\n",
            "Epoch [10/30] 24.20 sec, loss_epoch: nan ,train_loss: nan, train_acc: 0.1000, test_acc: 0.1000\n",
            "Epoch [11/30] 24.22 sec, loss_epoch: nan ,train_loss: nan, train_acc: 0.1000, test_acc: 0.1000\n",
            "Epoch [12/30] 23.90 sec, loss_epoch: nan ,train_loss: nan, train_acc: 0.1000, test_acc: 0.1000\n"
          ]
        }
      ],
      "source": [
        "for learning_rate in [0.001,0.5,1,10]:\n",
        "    num_epochs = 30\n",
        "    num_classes = 10\n",
        "    batch_size = 100\n",
        "#     learning_rate = 0.1\n",
        "    activation = \"relu\"\n",
        "    dropout_rate = 0\n",
        "    print(learning_rate)\n",
        "    training_flag = True\n",
        "    device = torch.device('cuda:0' if torch.cuda.is_available() else 'cpu')\n",
        "    net = MyCNN(num_classes,activation=activation,dropout_rate=dropout_rate,training_flag=training_flag).to(device)\n",
        "    criterion = nn.CrossEntropyLoss()\n",
        "    optimizer = torch.optim.SGD(net.parameters(), lr=learning_rate)\n",
        "    data = train_loader, test_loader\n",
        "    [train_loader,test_loader] = data \n",
        "\n",
        "    t_loss,t_acc,test_acc,final_test_accuracy,exec_time, loss_epoch_array = classify(device,net,data,criterion,optimizer,num_epochs,num_classes,batch_size,learning_rate,activation)\n",
        "    end = [learning_rate,activation,dropout_rate,num_epochs,t_loss,t_acc,test_acc,final_test_accuracy,exec_time]\n",
        "    result.append(end)"
      ]
    },
    {
      "cell_type": "raw",
      "metadata": {
        "id": "RzrFGZ6vxCdl"
      },
      "source": [
        "5. Dropout of 0.3 rate on the second fully connected layer"
      ]
    },
    {
      "cell_type": "code",
      "execution_count": null,
      "metadata": {
        "id": "vibjOGgExJgx"
      },
      "outputs": [],
      "source": [
        "result = []\n",
        "num_epochs = 30\n",
        "num_classes = 10\n",
        "batch_size = 100\n",
        "learning_rate = 0.1\n",
        "activation = \"relu\"\n",
        "dropout_rate = 0.3\n",
        "training_flag = True\n",
        "device = torch.device('cuda:0' if torch.cuda.is_available() else 'cpu')\n",
        "net = MyCNN(num_classes,activation=activation,dropout_rate=dropout_rate,training_flag=training_flag).to(device)\n",
        "criterion = nn.CrossEntropyLoss()\n",
        "optimizer = torch.optim.SGD(net.parameters(), lr=learning_rate)\n",
        "data = train_loader, test_loader\n",
        "[train_loader,test_loader] = data \n",
        "\n",
        "t_loss,t_acc,test_acc,final_test_accuracy,exec_time, loss_epoch_array = classify(device,net,data,criterion,optimizer,num_epochs,num_classes,batch_size,learning_rate,activation)\n",
        "end = [learning_rate,activation,dropout_rate,num_epochs,t_loss,t_acc,test_acc,final_test_accuracy,exec_time]\n",
        "result.append(end)"
      ]
    },
    {
      "cell_type": "code",
      "source": [],
      "metadata": {
        "id": "DpKuxo6ih0lO"
      },
      "execution_count": 13,
      "outputs": []
    }
  ],
  "metadata": {
    "colab": {
      "provenance": [],
      "include_colab_link": true
    },
    "kernelspec": {
      "display_name": "Python 3 (ipykernel)",
      "language": "python",
      "name": "python3"
    },
    "language_info": {
      "codemirror_mode": {
        "name": "ipython",
        "version": 3
      },
      "file_extension": ".py",
      "mimetype": "text/x-python",
      "name": "python",
      "nbconvert_exporter": "python",
      "pygments_lexer": "ipython3",
      "version": "3.8.8"
    },
    "accelerator": "GPU"
  },
  "nbformat": 4,
  "nbformat_minor": 0
}