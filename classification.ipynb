{
  "cells": [
    {
      "cell_type": "markdown",
      "metadata": {
        "id": "FtOcJpnmLHTU"
      },
      "source": [
        "3. Lost in the closet (Classification)"
      ]
    },
    {
      "cell_type": "code",
      "execution_count": null,
      "metadata": {
        "id": "J3MY10f8LNQQ",
        "colab": {
          "base_uri": "https://localhost:8080/",
          "height": 423,
          "referenced_widgets": [
            "9a32b1ebdc454d42b50606d50b1b5964",
            "1ee0dd10a6aa43a099daa545a073dd01",
            "88c728000d5c4106ae197e489b1f572c",
            "4cfb834768584a029a4deacaa19b20f8",
            "e8a012657c95431aaf993ef284b58fe4",
            "2551def5ba3b4d199cb177587998dd6b",
            "6756caeb3b344b61b83482a60695beea",
            "d94b299481be4971b1712337fd0fec7e",
            "bcaaaf52b3f24faeb3f57f013650a1e3",
            "367d6f603755464b8ff42b09bf292158",
            "25c8d1b4553a48b8a00d936e1e1464ed",
            "d4b9bfce32884b1d9d737944f96b69f0",
            "a13ba9d301854510968879c810561dc1",
            "aa51b72a41f241289b4da18f37fbba7d",
            "622b65ce45ad4496b74ab66997ac8764",
            "369e2d5dc52448a481098c7acde4c4ad",
            "0906a7d83677493181458e51935b1884",
            "8a897771e21f436fb8c793b96973c4f7",
            "c60d891dca13435ab5abf653d920e483",
            "dad371912ce344f5bc7d21aef98ee89d",
            "4bbf4f599e54451196e7f9a20de7425c",
            "b2d938c25716474fb0b1509995763220",
            "3b5ca565f5bf415c961ef80641b9760f",
            "0e40826cb7854707a02e246c066b53b0",
            "113e16706f6043349de112f03004759a",
            "9b174529cc574f3eabd779fb2dc03828",
            "2597974bb49140cebbf9a57f16845630",
            "8a873529027c443d8e94a9a5a253f4d2",
            "fc19b4f801b04199b588c438b16624b6",
            "c124516116ee4d5eb1af742192acca70",
            "aca846f130cd4eca995188b02b19de8a",
            "fd5213cac62443cc998ca154035f10d4",
            "127a1bb766794e5aa59b27269426f1e2",
            "14721df11abb47e395b088870a79ff4e",
            "18665ac4cca948f4848bd3ea8577db9e",
            "ee371ff8ffa9443482de29679a196f84",
            "038518f094684f8297f68b438a15f744",
            "958b5ffc0dcb4549827a79281ab1b77c",
            "e811032da9e549569978190010e2c92d",
            "7c6604468e374266b015f27562827d96",
            "db7aff99f809483189de885396b24488",
            "b6df17e607934069bcc5481d21d9ce42",
            "446826ddb20743039fa081c43687ebb9",
            "9157fb6fce104162aba4b193e2ee913c"
          ]
        },
        "outputId": "f480dda2-dac0-4d3d-c4ea-3c5672a0e531"
      },
      "outputs": [
        {
          "output_type": "stream",
          "name": "stdout",
          "text": [
            "Downloading http://fashion-mnist.s3-website.eu-central-1.amazonaws.com/train-images-idx3-ubyte.gz\n",
            "Downloading http://fashion-mnist.s3-website.eu-central-1.amazonaws.com/train-images-idx3-ubyte.gz to ./FashionMNIST/raw/train-images-idx3-ubyte.gz\n"
          ]
        },
        {
          "output_type": "display_data",
          "data": {
            "text/plain": [
              "  0%|          | 0/26421880 [00:00<?, ?it/s]"
            ],
            "application/vnd.jupyter.widget-view+json": {
              "version_major": 2,
              "version_minor": 0,
              "model_id": "9a32b1ebdc454d42b50606d50b1b5964"
            }
          },
          "metadata": {}
        },
        {
          "output_type": "stream",
          "name": "stdout",
          "text": [
            "Extracting ./FashionMNIST/raw/train-images-idx3-ubyte.gz to ./FashionMNIST/raw\n",
            "\n",
            "Downloading http://fashion-mnist.s3-website.eu-central-1.amazonaws.com/train-labels-idx1-ubyte.gz\n",
            "Downloading http://fashion-mnist.s3-website.eu-central-1.amazonaws.com/train-labels-idx1-ubyte.gz to ./FashionMNIST/raw/train-labels-idx1-ubyte.gz\n"
          ]
        },
        {
          "output_type": "display_data",
          "data": {
            "text/plain": [
              "  0%|          | 0/29515 [00:00<?, ?it/s]"
            ],
            "application/vnd.jupyter.widget-view+json": {
              "version_major": 2,
              "version_minor": 0,
              "model_id": "d4b9bfce32884b1d9d737944f96b69f0"
            }
          },
          "metadata": {}
        },
        {
          "output_type": "stream",
          "name": "stdout",
          "text": [
            "Extracting ./FashionMNIST/raw/train-labels-idx1-ubyte.gz to ./FashionMNIST/raw\n",
            "\n",
            "Downloading http://fashion-mnist.s3-website.eu-central-1.amazonaws.com/t10k-images-idx3-ubyte.gz\n",
            "Downloading http://fashion-mnist.s3-website.eu-central-1.amazonaws.com/t10k-images-idx3-ubyte.gz to ./FashionMNIST/raw/t10k-images-idx3-ubyte.gz\n"
          ]
        },
        {
          "output_type": "display_data",
          "data": {
            "text/plain": [
              "  0%|          | 0/4422102 [00:00<?, ?it/s]"
            ],
            "application/vnd.jupyter.widget-view+json": {
              "version_major": 2,
              "version_minor": 0,
              "model_id": "3b5ca565f5bf415c961ef80641b9760f"
            }
          },
          "metadata": {}
        },
        {
          "output_type": "stream",
          "name": "stdout",
          "text": [
            "Extracting ./FashionMNIST/raw/t10k-images-idx3-ubyte.gz to ./FashionMNIST/raw\n",
            "\n",
            "Downloading http://fashion-mnist.s3-website.eu-central-1.amazonaws.com/t10k-labels-idx1-ubyte.gz\n",
            "Downloading http://fashion-mnist.s3-website.eu-central-1.amazonaws.com/t10k-labels-idx1-ubyte.gz to ./FashionMNIST/raw/t10k-labels-idx1-ubyte.gz\n"
          ]
        },
        {
          "output_type": "display_data",
          "data": {
            "text/plain": [
              "  0%|          | 0/5148 [00:00<?, ?it/s]"
            ],
            "application/vnd.jupyter.widget-view+json": {
              "version_major": 2,
              "version_minor": 0,
              "model_id": "14721df11abb47e395b088870a79ff4e"
            }
          },
          "metadata": {}
        },
        {
          "output_type": "stream",
          "name": "stdout",
          "text": [
            "Extracting ./FashionMNIST/raw/t10k-labels-idx1-ubyte.gz to ./FashionMNIST/raw\n",
            "\n"
          ]
        }
      ],
      "source": [
        "import torchvision\n",
        "import torchvision.transforms as transforms\n",
        "import torch\n",
        "import torch.nn as nn\n",
        "import time\n",
        "import matplotlib.pyplot as plt\n",
        "import numpy as np\n",
        "import random\n",
        "\n",
        "train_set = torchvision.datasets.FashionMNIST(root = \".\", train=True, download=True, transform=transforms.ToTensor())\n",
        "test_set = torchvision.datasets.FashionMNIST(root = \".\", train=False, download=True, transform=transforms.ToTensor())\n",
        "train_loader = torch.utils.data.DataLoader(train_set, batch_size=32, shuffle=False)\n",
        "test_loader = torch.utils.data.DataLoader(test_set, batch_size=32, shuffle=False)\n",
        "# Fix the seed to be able to get the same randomness across runs and\n",
        "# hence reproducible outcomes\n",
        "torch.manual_seed(0)\n",
        "random.seed(0)\n",
        "np.random.seed(0)\n",
        "# If you are using CuDNN , otherwise you can just ignore\n",
        "torch.cuda.manual_seed(0)\n",
        "torch.backends.cudnn.deterministic=True\n",
        "torch.backends.cudnn.benchmark=False"
      ]
    },
    {
      "cell_type": "markdown",
      "metadata": {
        "id": "hpFI2RfMa1X5"
      },
      "source": [
        "Visualise data for the first element of the batch:\n",
        "(since the batch is set will allways display same picture)"
      ]
    },
    {
      "cell_type": "code",
      "execution_count": null,
      "metadata": {
        "colab": {
          "base_uri": "https://localhost:8080/",
          "height": 317
        },
        "id": "NMJTw7beeBKo",
        "outputId": "2691057c-a00f-44fc-e2e7-962728acfed0"
      },
      "outputs": [
        {
          "output_type": "stream",
          "name": "stdout",
          "text": [
            "Label is: 9\n",
            "Dimension of input data: torch.Size([32, 1, 28, 28])\n",
            "Dimension of labels: torch.Size([32])\n"
          ]
        },
        {
          "output_type": "display_data",
          "data": {
            "text/plain": [
              "<Figure size 432x288 with 1 Axes>"
            ],
            "image/png": "[encoded data removed]"
          },
          "metadata": {
            "needs_background": "light"
          }
        }
      ],
      "source": [
        "input_data, label = next(iter(train_loader))\n",
        "plt.imshow(input_data[0,:,:,:].numpy().reshape(28,28), cmap=\"gray_r\");\n",
        "print(\"Label is: {}\".format(label[0]))\n",
        "print(\"Dimension of input data: {}\".format(input_data.size()))\n",
        "print(\"Dimension of labels: {}\".format(label.size()))"
      ]
    },
    {
      "cell_type": "code",
      "execution_count": null,
      "metadata": {
        "id": "UzDb7to1a1X6"
      },
      "outputs": [],
      "source": []
    },
    {
      "cell_type": "code",
      "execution_count": null,
      "metadata": {
        "colab": {
          "base_uri": "https://localhost:8080/",
          "height": 482
        },
        "id": "LNaKvxotkNoR",
        "outputId": "9e5d5f66-87e5-4d6f-fd56-f5fae801f69b"
      },
      "outputs": [
        {
          "output_type": "display_data",
          "data": {
            "text/plain": [
              "<Figure size 576x576 with 9 Axes>"
            ],
            "image/png": "[encoded data removed]"
          },
          "metadata": {
            "needs_background": "light"
          }
        }
      ],
      "source": [
        "labels_map = {0 : 'T-Shirt', 1 : 'Trouser', 2 : 'Pullover', 3 : 'Dress', 4 : 'Coat', 5 : 'Sandal', 6 : 'Shirt',\n",
        "              7 : 'Sneaker', 8 : 'Bag', 9 : 'Ankle Boot'};\n",
        "fig = plt.figure(figsize=(8,8));\n",
        "columns = 3;\n",
        "rows = 3;\n",
        "for i in range(1, columns*rows +1):\n",
        "    img_xy = np.random.randint(len(train_set));\n",
        "    img = train_set[img_xy][0][0,:,:]\n",
        "    fig.add_subplot(rows, columns, i)\n",
        "    plt.title(labels_map[train_set[img_xy][1]])\n",
        "    plt.axis('off')\n",
        "    plt.imshow(img, cmap='gray')"
      ]
    },
    {
      "cell_type": "markdown",
      "metadata": {
        "id": "SnOwuziFv7ez"
      },
      "source": [
        "1) Given the problem, what is the most appropriate loss function to use?"
      ]
    },
    {
      "cell_type": "markdown",
      "metadata": {
        "id": "l4aOvvdPwJnh"
      },
      "source": [
        "2) Create and train a Convolutional Neural Network corresponding to the following architecture: \n",
        "\n",
        "    1. Input image size: 28 × 28 × 1 (height × width × number of channels).\n",
        "    2. First convolutional layer: Kernel size (5 × 5), Stride size (1 × 1) and 32 output channels. Activation function.\n",
        "    3. Max pooling layer: Kernel size (2 × 2) and Stride size (2 × 2).\n",
        "    4. Second convolutional layer: Kernel size (5×5), Stride size (1 × 1) and 64 output channels. Activation function.\n",
        "    5. Max pooling layer: Kernel size (2 × 2) and Stride size (2 × 2).\n",
        "    6. First fully-connected layer with input size being the output size of max pooling layer in 5.(flattened, i.e. 1024) and output size 1024. Activation function.\n",
        "    7. Second fully-connected layer with input size being the output size of fully connected layer in (i.e. 1024) and output size 256. Activation function.\n",
        "    8. Output layer with input size being the output size of fully-connected layer in 7. (i.e. 256) and output size 10."
      ]
    },
    {
      "cell_type": "code",
      "execution_count": null,
      "metadata": {
        "id": "LgGQmeDBkStV"
      },
      "outputs": [],
      "source": [
        "# Build the neural network, expand on top of nn.Module\n",
        "class MyCNN(nn.Module):\n",
        "    def __init__(self,num_classes=10,activation=\"relu\",dropout_rate=0,training_flag=True):\n",
        "        super(MyCNN, self).__init__()\n",
        "\n",
        "        self.num_classes = num_classes # 10 here\n",
        "        self.activation = activation # which activation function to employ\n",
        "        self.dropout_rate = dropout_rate # if dropout then  how much\n",
        "        self.training_flag = training_flag # if dropout then trainable or not\n",
        "\n",
        "        if self.activation == \"relu\":\n",
        "          self.cnn_model1 = nn.Sequential(nn.Conv2d(1,32,kernel_size=5,stride=1), nn.ReLU(), nn.MaxPool2d(2,stride=2), nn.Conv2d(32,64,kernel_size=5,stride=1), nn.ReLU(), nn.MaxPool2d(2,stride=2))\n",
        "          self.fc_model = nn.Sequential(nn.Linear(1024,256), nn.ReLU(), nn.Linear(256,10), nn.ReLU())\n",
        "        # set different activation frunction for task 3\n",
        "        if self.activation == \"tanh\":\n",
        "          self.cnn_model1 = nn.Sequential(nn.Conv2d(1,32,kernel_size=5,stride=1), nn.Tanh(), nn.MaxPool2d(2,stride=2), nn.Conv2d(32,64,kernel_size=5,stride=1), nn.Tanh(), nn.MaxPool2d(2,stride=2))\n",
        "          self.fc_model = nn.Sequential(nn.Linear(1024,256), nn.Tanh(), nn.Linear(256,10), nn.Tanh())\n",
        "        if self.activation == \"sigmoid\":\n",
        "          self.cnn_model1 = nn.Sequential(nn.Conv2d(1,32,kernel_size=5,stride=1), nn.Sigmoid(), nn.MaxPool2d(2,stride=2), nn.Conv2d(32,64,kernel_size=5,stride=1), nn.Sigmoid(), nn.MaxPool2d(2,stride=2))\n",
        "          self.fc_model = nn.Sequential(nn.Linear(1024,256), nn.Sigmoid(), nn.Linear(256,10), nn.Sigmoid())\n",
        "        if self.activation == \"elu\":\n",
        "          self.cnn_model1 = nn.Sequential(nn.Conv2d(1,32,kernel_size=5,stride=1), nn.ELU(), nn.MaxPool2d(2,stride=2), nn.Conv2d(32,64,kernel_size=5,stride=1), nn.ELU(), nn.MaxPool2d(2,stride=2))\n",
        "          self.fc_model = nn.Sequential(nn.Linear(1024,256), nn.ELU(), nn.Linear(256,10), nn.ElU())\n",
        "        # set dropout layer\n",
        "        if self.dropout_rate != 0:\n",
        "          self.cnn_model1 = nn.Sequential(nn.Conv2d(1,32,kernel_size=5,stride=1), nn.ReLU(), nn.MaxPool2d(2,stride=2), nn.Conv2d(32,64,kernel_size=5,stride=1), nn.ReLU(), nn.MaxPool2d(2,stride=2))\n",
        "          self.fc_model = nn.Sequential(nn.Linear(1024,256), nn.ReLU(), nn.Dropout(self.dropout_rate), nn.Linear(256,10), nn.ReLU(), nn.Dropout(self.dropout_rate))          \n",
        "\n",
        "    def forward(self, t):\n",
        "\n",
        "        t = self.cnn_model1(t)\n",
        "        t = t.view(t.size(0), -1)\n",
        "        t = self.fc_model(t)\n",
        "\n",
        "        return t"
      ]
    },
    {
      "cell_type": "code",
      "execution_count": null,
      "metadata": {
        "id": "wGmJj-w0oaXf"
      },
      "outputs": [],
      "source": [
        "\n",
        "def train(model,x,y,criterion,optimizer):\n",
        "\n",
        "    # zero the parameter gradients\n",
        "    optimizer.zero_grad()\n",
        "    # forward + backward + optimize\n",
        "    outputs = model(x)\n",
        "    # compute the loss\n",
        "    loss = criterion(outputs, y)\n",
        "    # calculate gradient\n",
        "    loss.backward()\n",
        "    # update parametres\n",
        "    optimizer.step()\n",
        "\n",
        "    return loss.item()\n",
        "\n",
        "def evaluation(model,loader):\n",
        "\n",
        "    # evaluation function\n",
        "    correct = 0\n",
        "    total = 0\n",
        "    # turn off dropout layer\n",
        "    model.eval()\n",
        "    # torch.no_grad prevents backward recording, reduces memory consumtion\n",
        "    with torch.no_grad():\n",
        "    \n",
        "        for i, (images,labels) in enumerate(loader):\n",
        "            images, labels = images.to(device), labels.to(device)\n",
        "            # since no_grad is used, generate autograd for this part of evaluation\n",
        "            images = torch.autograd.Variable(images.float())\n",
        "            labels = torch.autograd.Variable(labels)\n",
        "\n",
        "            outputs = model(images)\n",
        "            # the class with highest value is chosen for prediction\n",
        "            # the result tuple of two output tensors (max, max_indices)\n",
        "            # take only indices\n",
        "            _, predicted = torch.max(outputs.data, 1)\n",
        "            total += labels.size(0)\n",
        "            correct += (predicted == labels).sum().item()\n",
        "    \n",
        "    return correct / total if total > 0 else 0"
      ]
    },
    {
      "cell_type": "code",
      "execution_count": null,
      "metadata": {
        "id": "Z4OqUl8Sodbi"
      },
      "outputs": [],
      "source": [
        "def classify(device,model,data,criterion,optimizer,*params):\n",
        "    # Function to perform classifications with different parametres\n",
        "    num_epochs,num_classes,batch_size,learning_rate,activation = params\n",
        "    train_loader,test_loader = data\n",
        "    # define parametres\n",
        "    total_step = len(train_loader)\n",
        "    train_losses = []\n",
        "    train_accuracy = []\n",
        "    test_accuracy = []\n",
        "    tte = [] # time taken per epoch\n",
        "    loss_epoch_array = []\n",
        "\n",
        "    # start loop that goes through all epoch\n",
        "    for epoch in range(num_epochs):\n",
        "        loss_epoch = 0\n",
        "        tte_start = time.time()\n",
        "        # loop over batches\n",
        "        for i, (images,labels) in enumerate(train_loader):\n",
        "            # to ensure dropout is \"turned on\" while training, is set to 0 in all tasks but last\n",
        "            model.train()\n",
        "            # since no_grad is used, generate autograd for this part of evaluation\n",
        "            images, labels = images.to(device), labels.to(device)\n",
        "            images = torch.autograd.Variable(images.float())\n",
        "            labels = torch.autograd.Variable(labels)\n",
        "\n",
        "            loss = train(model,images,labels,criterion,optimizer)\n",
        "            loss_epoch += loss\n",
        "        # append the results and update time\n",
        "        train_losses.append(loss)\n",
        "        train_accuracy.append(evaluation(model,train_loader))\n",
        "        test_accuracy.append(evaluation(model,test_loader))\n",
        "        loss_epoch_array.append(loss_epoch)\n",
        "        tte_end = time.time()\n",
        "        elapsed_time = tte_end-tte_start\n",
        "        tte.append(elapsed_time)\n",
        "        # print results as soon as epoch ends\n",
        "        print ('Epoch [{}/{}] {:.2f} sec, loss_epoch: {:.2f} ,train_loss: {:.4f}, train_acc: {:.4f}, test_acc: {:.4f}'.format(epoch+1, num_epochs, elapsed_time,loss_epoch,train_losses[-1], train_accuracy[-1],test_accuracy[-1]))\n",
        "    # print final results\n",
        "    final_test_accuracy = evaluation(model,test_loader)\n",
        "    print('Test Accuracy of the model: {:.4f} %'.format(100 * final_test_accuracy))\n",
        "    print('Total Time taken: {:.3f} sec'.format(sum(tte)))\n",
        "    return train_losses, train_accuracy, test_accuracy, final_test_accuracy, elapsed_time, loss_epoch_array"
      ]
    },
    {
      "cell_type": "code",
      "source": [
        "def weights_init(m):\n",
        "  if isinstance(m, nn.Linear) or isinstance(m, nn.Conv2d):\n",
        "    torch.nn.init.xavier_normal_(m.weight)"
      ],
      "metadata": {
        "id": "uE9G0OkGBUNj"
      },
      "execution_count": null,
      "outputs": []
    },
    {
      "cell_type": "markdown",
      "metadata": {
        "id": "P95my_F9wST4"
      },
      "source": [
        "For training, initialise your weights using the Xavier Uniform initialisation, use ReLU as the activation function, a learning rate of 0.1 with the SGD optimiser. Train neural network 30 epochs."
      ]
    },
    {
      "cell_type": "markdown",
      "metadata": {
        "id": "vI0H_y6TwlCJ"
      },
      "source": [
        " a) Obtain accuracy"
      ]
    },
    {
      "cell_type": "code",
      "execution_count": null,
      "metadata": {
        "colab": {
          "base_uri": "https://localhost:8080/"
        },
        "id": "i5XZJySJogzN",
        "outputId": "537e02f8-42be-40de-8e0d-12d836e18272"
      },
      "outputs": [
        {
          "output_type": "stream",
          "name": "stdout",
          "text": [
            "Epoch [1/30] 28.64 sec, loss_epoch: 1176.69 ,train_loss: 0.3563, train_acc: 0.8657, test_acc: 0.8542\n",
            "Epoch [2/30] 29.94 sec, loss_epoch: 644.88 ,train_loss: 0.2515, train_acc: 0.8891, test_acc: 0.8742\n",
            "Epoch [3/30] 28.90 sec, loss_epoch: 550.22 ,train_loss: 0.2086, train_acc: 0.9024, test_acc: 0.8827\n",
            "Epoch [4/30] 28.26 sec, loss_epoch: 490.61 ,train_loss: 0.2068, train_acc: 0.9113, test_acc: 0.8892\n",
            "Epoch [5/30] 28.61 sec, loss_epoch: 444.88 ,train_loss: 0.2224, train_acc: 0.9172, test_acc: 0.8939\n",
            "Epoch [6/30] 28.27 sec, loss_epoch: 404.78 ,train_loss: 0.1984, train_acc: 0.9202, test_acc: 0.8955\n",
            "Epoch [7/30] 28.29 sec, loss_epoch: 370.45 ,train_loss: 0.2080, train_acc: 0.9244, test_acc: 0.8982\n",
            "Epoch [8/30] 28.40 sec, loss_epoch: 338.48 ,train_loss: 0.1972, train_acc: 0.9253, test_acc: 0.8962\n",
            "Epoch [9/30] 28.23 sec, loss_epoch: 309.60 ,train_loss: 0.2333, train_acc: 0.9289, test_acc: 0.8986\n",
            "Epoch [10/30] 28.18 sec, loss_epoch: 282.95 ,train_loss: 0.2259, train_acc: 0.9289, test_acc: 0.8966\n",
            "Epoch [11/30] 28.28 sec, loss_epoch: 258.39 ,train_loss: 0.1824, train_acc: 0.9282, test_acc: 0.8958\n",
            "Epoch [12/30] 28.13 sec, loss_epoch: 233.26 ,train_loss: 0.1825, train_acc: 0.9279, test_acc: 0.8931\n",
            "Epoch [13/30] 28.18 sec, loss_epoch: 216.50 ,train_loss: 0.1488, train_acc: 0.9394, test_acc: 0.8991\n",
            "Epoch [14/30] 30.86 sec, loss_epoch: 205.75 ,train_loss: 0.3359, train_acc: 0.9389, test_acc: 0.8977\n",
            "Epoch [15/30] 29.57 sec, loss_epoch: 197.95 ,train_loss: 0.1740, train_acc: 0.9319, test_acc: 0.8938\n",
            "Epoch [16/30] 28.54 sec, loss_epoch: 188.50 ,train_loss: 0.0643, train_acc: 0.9392, test_acc: 0.8981\n",
            "Epoch [17/30] 34.27 sec, loss_epoch: 175.54 ,train_loss: 0.1557, train_acc: 0.9419, test_acc: 0.8964\n",
            "Epoch [18/30] 31.95 sec, loss_epoch: 163.74 ,train_loss: 0.0786, train_acc: 0.9504, test_acc: 0.8997\n",
            "Epoch [19/30] 33.07 sec, loss_epoch: 155.69 ,train_loss: 0.1059, train_acc: 0.9476, test_acc: 0.8981\n",
            "Epoch [20/30] 33.41 sec, loss_epoch: 153.76 ,train_loss: 0.0746, train_acc: 0.9516, test_acc: 0.9010\n",
            "Epoch [21/30] 35.38 sec, loss_epoch: 135.80 ,train_loss: 0.2218, train_acc: 0.9538, test_acc: 0.8996\n",
            "Epoch [22/30] 33.00 sec, loss_epoch: 136.89 ,train_loss: 0.0798, train_acc: 0.9563, test_acc: 0.9001\n",
            "Epoch [23/30] 30.33 sec, loss_epoch: 128.99 ,train_loss: 0.1302, train_acc: 0.9530, test_acc: 0.9025\n",
            "Epoch [24/30] 28.12 sec, loss_epoch: 124.54 ,train_loss: 0.2284, train_acc: 0.9572, test_acc: 0.8992\n",
            "Epoch [25/30] 28.57 sec, loss_epoch: 117.76 ,train_loss: 0.2040, train_acc: 0.9492, test_acc: 0.8968\n",
            "Epoch [26/30] 29.71 sec, loss_epoch: 112.55 ,train_loss: 0.0441, train_acc: 0.9549, test_acc: 0.8963\n",
            "Epoch [27/30] 30.38 sec, loss_epoch: 110.61 ,train_loss: 0.0338, train_acc: 0.9615, test_acc: 0.8990\n",
            "Epoch [28/30] 28.14 sec, loss_epoch: 99.96 ,train_loss: 0.0590, train_acc: 0.9626, test_acc: 0.8992\n",
            "Epoch [29/30] 27.96 sec, loss_epoch: 109.75 ,train_loss: 0.2058, train_acc: 0.9517, test_acc: 0.8921\n",
            "Epoch [30/30] 28.31 sec, loss_epoch: 98.68 ,train_loss: 0.1883, train_acc: 0.9537, test_acc: 0.8911\n",
            "Test Accuracy of the model: 89.1100 %\n",
            "Total Time taken: 891.859 sec\n"
          ]
        }
      ],
      "source": [
        "result = []\n",
        "num_epochs = 30\n",
        "num_classes = 10\n",
        "batch_size = 100\n",
        "learning_rate = 0.1\n",
        "activation = \"relu\"\n",
        "dropout_rate = 0\n",
        "training_flag = True\n",
        "device = torch.device('cuda:0' if torch.cuda.is_available() else 'cpu')\n",
        "net = MyCNN(num_classes,activation=activation,dropout_rate=dropout_rate,training_flag=training_flag).to(device)\n",
        "# initialise weights\n",
        "net.apply(weights_init)\n",
        "\n",
        "criterion = nn.CrossEntropyLoss()\n",
        "optimizer = torch.optim.SGD(list(net.parameters()), lr=learning_rate)\n",
        "data = train_loader, test_loader\n",
        "[train_loader,test_loader] = data \n",
        "\n",
        "t_loss,t_acc,test_acc,final_test_accuracy,exec_time, loss_epoch_array = classify(device,net,data,criterion,optimizer,num_epochs,num_classes,batch_size,learning_rate,activation)\n",
        "end = [learning_rate,activation,dropout_rate,num_epochs,t_loss,t_acc,test_acc,final_test_accuracy,exec_time]\n",
        "result.append(end)"
      ]
    },
    {
      "cell_type": "markdown",
      "metadata": {
        "id": "xOHLRb7UwnRk"
      },
      "source": [
        "b) Plot Accuracy"
      ]
    },
    {
      "cell_type": "code",
      "execution_count": null,
      "metadata": {
        "id": "HLM5v__hokb9",
        "outputId": "e15e20df-6c8f-407b-e4ee-815bde9a11a3",
        "colab": {
          "base_uri": "https://localhost:8080/",
          "height": 296
        }
      },
      "outputs": [
        {
          "output_type": "execute_result",
          "data": {
            "text/plain": [
              "<matplotlib.legend.Legend at 0x7fbe68f70210>"
            ]
          },
          "metadata": {},
          "execution_count": 26
        },
        {
          "output_type": "display_data",
          "data": {
            "text/plain": [
              "<Figure size 432x288 with 1 Axes>"
            ],
            "image/png": "[encoded data removed]"
          },
          "metadata": {
            "needs_background": "light"
          }
        }
      ],
      "source": [
        "plt.xlabel(\"Epoch\")\n",
        "plt.ylabel(\"Accuracy\")\n",
        "plt.plot(t_acc, \"r\")\n",
        "plt.plot(test_acc, \"b\")\n",
        "plt.gca().legend(('train','test'))"
      ]
    },
    {
      "cell_type": "markdown",
      "metadata": {
        "id": "UxaJJxpcwu9O"
      },
      "source": [
        "c) Plot of the train loss per epoch"
      ]
    },
    {
      "cell_type": "code",
      "execution_count": null,
      "metadata": {
        "id": "U0-otHniw2PZ",
        "outputId": "a9325921-9332-4e84-86d3-66a5e8dfcd1f",
        "colab": {
          "base_uri": "https://localhost:8080/",
          "height": 296
        }
      },
      "outputs": [
        {
          "output_type": "execute_result",
          "data": {
            "text/plain": [
              "[<matplotlib.lines.Line2D at 0x7fbf73c14450>]"
            ]
          },
          "metadata": {},
          "execution_count": 27
        },
        {
          "output_type": "display_data",
          "data": {
            "text/plain": [
              "<Figure size 432x288 with 1 Axes>"
            ],
            "image/png": "[encoded data removed]"
          },
          "metadata": {
            "needs_background": "light"
          }
        }
      ],
      "source": [
        "plt.xlabel(\"Epoch\")\n",
        "plt.ylabel(\"Loss\")\n",
        "plt.plot(loss_epoch_array)"
      ]
    },
    {
      "cell_type": "markdown",
      "metadata": {
        "id": "H_wBa0qTw2lL"
      },
      "source": [
        "3. Tanh, Sigmoid and ELU"
      ]
    },
    {
      "cell_type": "markdown",
      "source": [],
      "metadata": {
        "id": "biNs-mQ_Vame"
      }
    },
    {
      "cell_type": "code",
      "execution_count": null,
      "metadata": {
        "id": "xdY4l21zw9_b",
        "outputId": "31992421-51d0-446b-f940-0be96d1164cb",
        "colab": {
          "base_uri": "https://localhost:8080/"
        }
      },
      "outputs": [
        {
          "output_type": "stream",
          "name": "stdout",
          "text": [
            "tanh\n",
            "Epoch [1/30] 28.39 sec, loss_epoch: 1154.89 ,train_loss: 0.4144, train_acc: 0.8715, test_acc: 0.8596\n",
            "Epoch [2/30] 28.15 sec, loss_epoch: 622.09 ,train_loss: 0.3204, train_acc: 0.8930, test_acc: 0.8768\n",
            "Epoch [3/30] 28.10 sec, loss_epoch: 528.00 ,train_loss: 0.2794, train_acc: 0.9037, test_acc: 0.8865\n",
            "Epoch [4/30] 28.14 sec, loss_epoch: 468.36 ,train_loss: 0.2666, train_acc: 0.9145, test_acc: 0.8966\n",
            "Epoch [5/30] 28.03 sec, loss_epoch: 421.68 ,train_loss: 0.2439, train_acc: 0.9178, test_acc: 0.8973\n",
            "Epoch [6/30] 35.63 sec, loss_epoch: 381.61 ,train_loss: 0.2491, train_acc: 0.9254, test_acc: 0.9002\n",
            "Epoch [7/30] 30.03 sec, loss_epoch: 345.91 ,train_loss: 0.2562, train_acc: 0.9253, test_acc: 0.8969\n",
            "Epoch [8/30] 28.13 sec, loss_epoch: 310.79 ,train_loss: 0.2288, train_acc: 0.9267, test_acc: 0.8980\n",
            "Epoch [9/30] 28.23 sec, loss_epoch: 280.32 ,train_loss: 0.2125, train_acc: 0.9329, test_acc: 0.8999\n",
            "Epoch [10/30] 29.17 sec, loss_epoch: 248.32 ,train_loss: 0.1463, train_acc: 0.9346, test_acc: 0.8965\n",
            "Epoch [11/30] 28.30 sec, loss_epoch: 223.66 ,train_loss: 0.1383, train_acc: 0.9284, test_acc: 0.8904\n",
            "Epoch [12/30] 28.25 sec, loss_epoch: 208.74 ,train_loss: 0.1479, train_acc: 0.9394, test_acc: 0.9005\n",
            "Epoch [13/30] 28.38 sec, loss_epoch: 196.92 ,train_loss: 0.1140, train_acc: 0.9374, test_acc: 0.8950\n",
            "Epoch [14/30] 31.41 sec, loss_epoch: 180.04 ,train_loss: 0.0521, train_acc: 0.9447, test_acc: 0.8966\n",
            "Epoch [15/30] 30.41 sec, loss_epoch: 163.52 ,train_loss: 0.0318, train_acc: 0.9533, test_acc: 0.9019\n",
            "Epoch [16/30] 31.52 sec, loss_epoch: 153.15 ,train_loss: 0.1029, train_acc: 0.9432, test_acc: 0.8949\n",
            "Epoch [17/30] 36.27 sec, loss_epoch: 157.78 ,train_loss: 0.1564, train_acc: 0.9487, test_acc: 0.8928\n",
            "Epoch [18/30] 29.43 sec, loss_epoch: 137.79 ,train_loss: 0.0411, train_acc: 0.9540, test_acc: 0.9014\n",
            "Epoch [19/30] 28.32 sec, loss_epoch: 124.76 ,train_loss: 0.0563, train_acc: 0.9543, test_acc: 0.8986\n",
            "Epoch [20/30] 28.27 sec, loss_epoch: 136.33 ,train_loss: 0.0391, train_acc: 0.9386, test_acc: 0.8885\n",
            "Epoch [21/30] 30.06 sec, loss_epoch: 134.33 ,train_loss: 0.0275, train_acc: 0.9549, test_acc: 0.8957\n",
            "Epoch [22/30] 28.25 sec, loss_epoch: 111.51 ,train_loss: 0.0312, train_acc: 0.9547, test_acc: 0.8989\n",
            "Epoch [23/30] 28.34 sec, loss_epoch: 107.63 ,train_loss: 0.0143, train_acc: 0.9557, test_acc: 0.8985\n",
            "Epoch [24/30] 28.25 sec, loss_epoch: 94.23 ,train_loss: 0.0984, train_acc: 0.9642, test_acc: 0.9021\n",
            "Epoch [25/30] 29.03 sec, loss_epoch: 96.04 ,train_loss: 0.0769, train_acc: 0.9476, test_acc: 0.8885\n",
            "Epoch [26/30] 28.43 sec, loss_epoch: 100.55 ,train_loss: 0.0042, train_acc: 0.9649, test_acc: 0.8987\n",
            "Epoch [27/30] 28.31 sec, loss_epoch: 96.54 ,train_loss: 0.0258, train_acc: 0.9622, test_acc: 0.8955\n",
            "Epoch [28/30] 28.33 sec, loss_epoch: 86.55 ,train_loss: 0.0240, train_acc: 0.9683, test_acc: 0.9006\n",
            "Epoch [29/30] 28.24 sec, loss_epoch: 78.61 ,train_loss: 0.0183, train_acc: 0.9564, test_acc: 0.8925\n",
            "Epoch [30/30] 28.29 sec, loss_epoch: 76.27 ,train_loss: 0.1249, train_acc: 0.9617, test_acc: 0.8985\n",
            "Test Accuracy of the model: 89.8500 %\n",
            "Total Time taken: 878.084 sec\n",
            "sigmoid\n",
            "Epoch [1/30] 28.28 sec, loss_epoch: 1955.45 ,train_loss: 0.4943, train_acc: 0.7765, test_acc: 0.7694\n",
            "Epoch [2/30] 28.24 sec, loss_epoch: 965.09 ,train_loss: 0.3098, train_acc: 0.8930, test_acc: 0.8812\n",
            "Epoch [3/30] 28.20 sec, loss_epoch: 545.06 ,train_loss: 0.2479, train_acc: 0.9053, test_acc: 0.8917\n",
            "Epoch [4/30] 28.22 sec, loss_epoch: 479.02 ,train_loss: 0.2193, train_acc: 0.9155, test_acc: 0.8979\n",
            "Epoch [5/30] 28.09 sec, loss_epoch: 429.17 ,train_loss: 0.2066, train_acc: 0.9212, test_acc: 0.8984\n",
            "Epoch [6/30] 28.36 sec, loss_epoch: 387.13 ,train_loss: 0.1727, train_acc: 0.9292, test_acc: 0.9056\n",
            "Epoch [7/30] 28.25 sec, loss_epoch: 346.66 ,train_loss: 0.1669, train_acc: 0.9326, test_acc: 0.9057\n",
            "Epoch [8/30] 28.13 sec, loss_epoch: 312.24 ,train_loss: 0.1316, train_acc: 0.9334, test_acc: 0.9033\n",
            "Epoch [9/30] 28.19 sec, loss_epoch: 278.83 ,train_loss: 0.1095, train_acc: 0.9383, test_acc: 0.9048\n",
            "Epoch [10/30] 28.29 sec, loss_epoch: 249.47 ,train_loss: 0.1184, train_acc: 0.9432, test_acc: 0.9060\n",
            "Epoch [11/30] 28.54 sec, loss_epoch: 223.20 ,train_loss: 0.0994, train_acc: 0.9438, test_acc: 0.9037\n",
            "Epoch [12/30] 28.23 sec, loss_epoch: 206.24 ,train_loss: 0.1652, train_acc: 0.9409, test_acc: 0.9001\n",
            "Epoch [13/30] 28.17 sec, loss_epoch: 192.30 ,train_loss: 0.1949, train_acc: 0.9423, test_acc: 0.9012\n",
            "Epoch [14/30] 28.20 sec, loss_epoch: 176.47 ,train_loss: 0.0798, train_acc: 0.9499, test_acc: 0.9027\n",
            "Epoch [15/30] 28.23 sec, loss_epoch: 166.06 ,train_loss: 0.1303, train_acc: 0.9486, test_acc: 0.8999\n",
            "Epoch [16/30] 28.09 sec, loss_epoch: 157.28 ,train_loss: 0.0996, train_acc: 0.9474, test_acc: 0.8983\n",
            "Epoch [17/30] 28.20 sec, loss_epoch: 138.20 ,train_loss: 0.0782, train_acc: 0.9552, test_acc: 0.9009\n",
            "Epoch [18/30] 28.13 sec, loss_epoch: 142.99 ,train_loss: 0.2616, train_acc: 0.9588, test_acc: 0.9043\n",
            "Epoch [19/30] 28.14 sec, loss_epoch: 123.16 ,train_loss: 0.1698, train_acc: 0.9513, test_acc: 0.8975\n",
            "Epoch [20/30] 28.18 sec, loss_epoch: 123.07 ,train_loss: 0.0458, train_acc: 0.9633, test_acc: 0.9053\n",
            "Epoch [21/30] 28.21 sec, loss_epoch: 104.57 ,train_loss: 0.0626, train_acc: 0.9597, test_acc: 0.8988\n",
            "Epoch [22/30] 28.13 sec, loss_epoch: 103.92 ,train_loss: 0.0658, train_acc: 0.9631, test_acc: 0.9002\n",
            "Epoch [23/30] 28.11 sec, loss_epoch: 109.77 ,train_loss: 0.2526, train_acc: 0.9609, test_acc: 0.8996\n",
            "Epoch [24/30] 28.20 sec, loss_epoch: 105.19 ,train_loss: 0.0172, train_acc: 0.9650, test_acc: 0.9020\n",
            "Epoch [25/30] 28.26 sec, loss_epoch: 100.25 ,train_loss: 0.0904, train_acc: 0.9663, test_acc: 0.9019\n",
            "Epoch [26/30] 28.32 sec, loss_epoch: 90.05 ,train_loss: 0.0944, train_acc: 0.9644, test_acc: 0.9022\n",
            "Epoch [27/30] 28.27 sec, loss_epoch: 87.43 ,train_loss: 0.0796, train_acc: 0.9691, test_acc: 0.9042\n",
            "Epoch [28/30] 28.21 sec, loss_epoch: 83.02 ,train_loss: 0.1343, train_acc: 0.9688, test_acc: 0.9016\n",
            "Epoch [29/30] 28.18 sec, loss_epoch: 82.66 ,train_loss: 0.0758, train_acc: 0.9609, test_acc: 0.8948\n",
            "Epoch [30/30] 28.23 sec, loss_epoch: 70.53 ,train_loss: 0.2095, train_acc: 0.9689, test_acc: 0.9015\n",
            "Test Accuracy of the model: 90.1500 %\n",
            "Total Time taken: 846.474 sec\n",
            "elu\n",
            "Epoch [1/30] 28.19 sec, loss_epoch: 1518.69 ,train_loss: 0.5437, train_acc: 0.7788, test_acc: 0.7674\n",
            "Epoch [2/30] 28.21 sec, loss_epoch: 1044.77 ,train_loss: 0.4212, train_acc: 0.8005, test_acc: 0.7898\n",
            "Epoch [3/30] 28.23 sec, loss_epoch: 952.19 ,train_loss: 0.3867, train_acc: 0.8102, test_acc: 0.7944\n",
            "Epoch [4/30] 28.17 sec, loss_epoch: 894.54 ,train_loss: 0.3809, train_acc: 0.8163, test_acc: 0.7980\n",
            "Epoch [5/30] 28.25 sec, loss_epoch: 848.60 ,train_loss: 0.4014, train_acc: 0.8210, test_acc: 0.7981\n",
            "Epoch [6/30] 28.21 sec, loss_epoch: 808.70 ,train_loss: 0.3714, train_acc: 0.8288, test_acc: 0.8017\n",
            "Epoch [7/30] 28.28 sec, loss_epoch: 676.49 ,train_loss: 0.2212, train_acc: 0.9258, test_acc: 0.8957\n",
            "Epoch [8/30] 28.31 sec, loss_epoch: 327.65 ,train_loss: 0.2026, train_acc: 0.9306, test_acc: 0.8983\n",
            "Epoch [9/30] 28.11 sec, loss_epoch: 291.49 ,train_loss: 0.2248, train_acc: 0.9322, test_acc: 0.8967\n",
            "Epoch [10/30] 28.30 sec, loss_epoch: 261.39 ,train_loss: 0.1829, train_acc: 0.9353, test_acc: 0.8957\n",
            "Epoch [11/30] 28.14 sec, loss_epoch: 231.79 ,train_loss: 0.1580, train_acc: 0.9399, test_acc: 0.9003\n",
            "Epoch [12/30] 28.20 sec, loss_epoch: 213.02 ,train_loss: 0.0919, train_acc: 0.9339, test_acc: 0.8955\n",
            "Epoch [13/30] 28.22 sec, loss_epoch: 200.70 ,train_loss: 0.1133, train_acc: 0.9407, test_acc: 0.8989\n",
            "Epoch [14/30] 28.22 sec, loss_epoch: 189.06 ,train_loss: 0.0607, train_acc: 0.9349, test_acc: 0.8917\n",
            "Epoch [15/30] 28.16 sec, loss_epoch: 177.18 ,train_loss: 0.2097, train_acc: 0.9405, test_acc: 0.8917\n",
            "Epoch [16/30] 28.12 sec, loss_epoch: 158.78 ,train_loss: 0.1124, train_acc: 0.9448, test_acc: 0.8915\n",
            "Epoch [17/30] 28.16 sec, loss_epoch: 144.74 ,train_loss: 0.1465, train_acc: 0.9460, test_acc: 0.8965\n",
            "Epoch [18/30] 28.16 sec, loss_epoch: 146.55 ,train_loss: 0.2495, train_acc: 0.9549, test_acc: 0.8975\n",
            "Epoch [19/30] 28.29 sec, loss_epoch: 146.99 ,train_loss: 0.1469, train_acc: 0.9451, test_acc: 0.8932\n",
            "Epoch [20/30] 28.13 sec, loss_epoch: 135.04 ,train_loss: 0.0167, train_acc: 0.9506, test_acc: 0.8929\n",
            "Epoch [21/30] 28.28 sec, loss_epoch: 122.80 ,train_loss: 0.1497, train_acc: 0.9540, test_acc: 0.8948\n",
            "Epoch [22/30] 28.14 sec, loss_epoch: 114.16 ,train_loss: 0.1379, train_acc: 0.9557, test_acc: 0.8963\n",
            "Epoch [23/30] 28.07 sec, loss_epoch: 105.07 ,train_loss: 0.0331, train_acc: 0.9593, test_acc: 0.8955\n",
            "Epoch [24/30] 28.14 sec, loss_epoch: 97.96 ,train_loss: 0.0190, train_acc: 0.9631, test_acc: 0.8993\n",
            "Epoch [25/30] 28.16 sec, loss_epoch: 105.82 ,train_loss: 0.0280, train_acc: 0.9643, test_acc: 0.8973\n",
            "Epoch [26/30] 28.26 sec, loss_epoch: 99.19 ,train_loss: 0.0278, train_acc: 0.9578, test_acc: 0.8971\n",
            "Epoch [27/30] 28.07 sec, loss_epoch: 92.18 ,train_loss: 0.0627, train_acc: 0.9674, test_acc: 0.9008\n",
            "Epoch [28/30] 28.11 sec, loss_epoch: 93.13 ,train_loss: 0.2198, train_acc: 0.9667, test_acc: 0.9017\n",
            "Epoch [29/30] 28.13 sec, loss_epoch: 88.88 ,train_loss: 0.2696, train_acc: 0.9688, test_acc: 0.8999\n",
            "Epoch [30/30] 28.10 sec, loss_epoch: 77.53 ,train_loss: 0.2825, train_acc: 0.9641, test_acc: 0.8936\n",
            "Test Accuracy of the model: 89.3600 %\n",
            "Total Time taken: 845.503 sec\n"
          ]
        }
      ],
      "source": [
        "for activation in [\"tanh\",\"sigmoid\",\"elu\"]:\n",
        "    num_epochs = 30\n",
        "    num_classes = 10\n",
        "    batch_size = 100\n",
        "    learning_rate = 0.1\n",
        "    dropout_rate = 0\n",
        "    # activations = [\"tanh\",\"sigmoid\",\"elu\"]\n",
        "    print(activation)\n",
        "    training_flag = True\n",
        "    device = torch.device('cuda:0' if torch.cuda.is_available() else 'cpu')\n",
        "    net = MyCNN(num_classes,activation=activation,dropout_rate=dropout_rate,training_flag=training_flag).to(device)\n",
        "    criterion = nn.CrossEntropyLoss()\n",
        "    optimizer = torch.optim.SGD(net.parameters(), lr=learning_rate)\n",
        "    data = train_loader, test_loader\n",
        "    [train_loader,test_loader] = data \n",
        "\n",
        "    t_loss,t_acc,test_acc,final_test_accuracy,exec_time, loss_epoch_array = classify(device,net,data,criterion,optimizer,num_epochs,num_classes,batch_size,learning_rate,activation)\n",
        "    end = [learning_rate,activation,dropout_rate,num_epochs,t_loss,t_acc,test_acc,final_test_accuracy,exec_time]\n",
        "    result.append(end)"
      ]
    },
    {
      "cell_type": "markdown",
      "metadata": {
        "id": "2q0D2xU5w-Ri"
      },
      "source": [
        "4. 5 different learning rates: 0.001, 0.1, 0.5, 1, 10"
      ]
    },
    {
      "cell_type": "code",
      "execution_count": null,
      "metadata": {
        "id": "ChktPpz3xBp5",
        "outputId": "f12a00af-58f0-4797-c319-83c8be6bfb42",
        "colab": {
          "base_uri": "https://localhost:8080/"
        }
      },
      "outputs": [
        {
          "output_type": "stream",
          "name": "stdout",
          "text": [
            "0.001\n",
            "Epoch [1/30] 28.15 sec, loss_epoch: 4263.92 ,train_loss: 2.2356, train_acc: 0.3297, test_acc: 0.3291\n",
            "Epoch [2/30] 28.39 sec, loss_epoch: 3788.65 ,train_loss: 1.8823, train_acc: 0.3921, test_acc: 0.3913\n",
            "Epoch [3/30] 28.75 sec, loss_epoch: 3148.15 ,train_loss: 1.7372, train_acc: 0.5127, test_acc: 0.5064\n",
            "Epoch [4/30] 28.19 sec, loss_epoch: 2742.24 ,train_loss: 1.6284, train_acc: 0.5233, test_acc: 0.5176\n",
            "Epoch [5/30] 28.07 sec, loss_epoch: 2587.11 ,train_loss: 1.5869, train_acc: 0.5312, test_acc: 0.5270\n",
            "Epoch [6/30] 28.09 sec, loss_epoch: 2504.78 ,train_loss: 1.5626, train_acc: 0.5368, test_acc: 0.5334\n",
            "Epoch [7/30] 28.17 sec, loss_epoch: 2448.42 ,train_loss: 1.5426, train_acc: 0.5412, test_acc: 0.5375\n",
            "Epoch [8/30] 28.20 sec, loss_epoch: 2371.57 ,train_loss: 1.4529, train_acc: 0.6288, test_acc: 0.6257\n",
            "Epoch [9/30] 28.07 sec, loss_epoch: 2084.96 ,train_loss: 1.4277, train_acc: 0.6324, test_acc: 0.6282\n",
            "Epoch [10/30] 28.07 sec, loss_epoch: 2033.18 ,train_loss: 1.4025, train_acc: 0.6354, test_acc: 0.6317\n",
            "Epoch [11/30] 28.20 sec, loss_epoch: 1996.21 ,train_loss: 1.3807, train_acc: 0.6393, test_acc: 0.6354\n",
            "Epoch [12/30] 28.09 sec, loss_epoch: 1964.42 ,train_loss: 1.3651, train_acc: 0.6427, test_acc: 0.6386\n",
            "Epoch [13/30] 28.06 sec, loss_epoch: 1936.09 ,train_loss: 1.3482, train_acc: 0.6467, test_acc: 0.6418\n",
            "Epoch [14/30] 28.09 sec, loss_epoch: 1910.19 ,train_loss: 1.3335, train_acc: 0.6508, test_acc: 0.6451\n",
            "Epoch [15/30] 28.19 sec, loss_epoch: 1886.25 ,train_loss: 1.3183, train_acc: 0.6545, test_acc: 0.6492\n",
            "Epoch [16/30] 28.24 sec, loss_epoch: 1863.94 ,train_loss: 1.3029, train_acc: 0.6586, test_acc: 0.6533\n",
            "Epoch [17/30] 28.09 sec, loss_epoch: 1842.82 ,train_loss: 1.2844, train_acc: 0.6637, test_acc: 0.6572\n",
            "Epoch [18/30] 28.35 sec, loss_epoch: 1823.11 ,train_loss: 1.2709, train_acc: 0.6662, test_acc: 0.6594\n",
            "Epoch [19/30] 28.15 sec, loss_epoch: 1804.47 ,train_loss: 1.2586, train_acc: 0.6690, test_acc: 0.6638\n",
            "Epoch [20/30] 28.22 sec, loss_epoch: 1786.62 ,train_loss: 1.2493, train_acc: 0.6715, test_acc: 0.6658\n",
            "Epoch [21/30] 28.04 sec, loss_epoch: 1769.65 ,train_loss: 1.2393, train_acc: 0.6744, test_acc: 0.6691\n",
            "Epoch [22/30] 28.04 sec, loss_epoch: 1753.40 ,train_loss: 1.2312, train_acc: 0.6772, test_acc: 0.6730\n",
            "Epoch [23/30] 28.21 sec, loss_epoch: 1737.85 ,train_loss: 1.2233, train_acc: 0.6814, test_acc: 0.6770\n",
            "Epoch [24/30] 28.16 sec, loss_epoch: 1722.92 ,train_loss: 1.2140, train_acc: 0.6841, test_acc: 0.6797\n",
            "Epoch [25/30] 28.11 sec, loss_epoch: 1708.68 ,train_loss: 1.2101, train_acc: 0.6872, test_acc: 0.6817\n",
            "Epoch [26/30] 28.05 sec, loss_epoch: 1695.12 ,train_loss: 1.2035, train_acc: 0.6893, test_acc: 0.6832\n",
            "Epoch [27/30] 28.07 sec, loss_epoch: 1682.42 ,train_loss: 1.1994, train_acc: 0.6913, test_acc: 0.6855\n",
            "Epoch [28/30] 27.99 sec, loss_epoch: 1670.26 ,train_loss: 1.1957, train_acc: 0.6933, test_acc: 0.6871\n",
            "Epoch [29/30] 28.20 sec, loss_epoch: 1658.62 ,train_loss: 1.1898, train_acc: 0.6956, test_acc: 0.6895\n",
            "Epoch [30/30] 28.20 sec, loss_epoch: 1647.71 ,train_loss: 1.1887, train_acc: 0.6974, test_acc: 0.6908\n",
            "Test Accuracy of the model: 69.0800 %\n",
            "Total Time taken: 844.894 sec\n",
            "0.5\n",
            "Epoch [1/30] 28.13 sec, loss_epoch: 2342.68 ,train_loss: 1.0174, train_acc: 0.6161, test_acc: 0.6098\n",
            "Epoch [2/30] 28.14 sec, loss_epoch: 1601.93 ,train_loss: 0.6843, train_acc: 0.7108, test_acc: 0.7019\n",
            "Epoch [3/30] 28.20 sec, loss_epoch: 1410.99 ,train_loss: 0.6774, train_acc: 0.7152, test_acc: 0.7055\n",
            "Epoch [4/30] 28.15 sec, loss_epoch: 1362.66 ,train_loss: 0.6584, train_acc: 0.7280, test_acc: 0.7114\n",
            "Epoch [5/30] 28.16 sec, loss_epoch: 1226.57 ,train_loss: 0.4157, train_acc: 0.8285, test_acc: 0.8104\n",
            "Epoch [6/30] 28.23 sec, loss_epoch: 900.39 ,train_loss: 0.5507, train_acc: 0.8245, test_acc: 0.8022\n",
            "Epoch [7/30] 28.11 sec, loss_epoch: 830.84 ,train_loss: 0.3796, train_acc: 0.8981, test_acc: 0.8711\n",
            "Epoch [8/30] 28.26 sec, loss_epoch: 520.00 ,train_loss: 0.1866, train_acc: 0.9044, test_acc: 0.8748\n",
            "Epoch [9/30] 28.21 sec, loss_epoch: 487.04 ,train_loss: 0.1819, train_acc: 0.9084, test_acc: 0.8754\n",
            "Epoch [10/30] 28.16 sec, loss_epoch: 474.08 ,train_loss: 0.2188, train_acc: 0.9093, test_acc: 0.8764\n",
            "Epoch [11/30] 28.09 sec, loss_epoch: 462.68 ,train_loss: 0.2426, train_acc: 0.9083, test_acc: 0.8751\n",
            "Epoch [12/30] 28.10 sec, loss_epoch: 458.92 ,train_loss: 0.3067, train_acc: 0.9182, test_acc: 0.8797\n",
            "Epoch [13/30] 28.01 sec, loss_epoch: 428.73 ,train_loss: 0.1043, train_acc: 0.9126, test_acc: 0.8772\n",
            "Epoch [14/30] 27.98 sec, loss_epoch: 438.31 ,train_loss: 0.1889, train_acc: 0.9096, test_acc: 0.8736\n",
            "Epoch [15/30] 28.12 sec, loss_epoch: 463.68 ,train_loss: 0.3021, train_acc: 0.9178, test_acc: 0.8812\n",
            "Epoch [16/30] 28.08 sec, loss_epoch: 460.41 ,train_loss: 0.1991, train_acc: 0.9109, test_acc: 0.8721\n",
            "Epoch [17/30] 28.14 sec, loss_epoch: 494.69 ,train_loss: 0.2181, train_acc: 0.8987, test_acc: 0.8642\n",
            "Epoch [18/30] 28.12 sec, loss_epoch: 510.83 ,train_loss: 0.1872, train_acc: 0.9145, test_acc: 0.8707\n",
            "Epoch [19/30] 27.97 sec, loss_epoch: 470.75 ,train_loss: 0.1759, train_acc: 0.9156, test_acc: 0.8735\n",
            "Epoch [20/30] 28.00 sec, loss_epoch: nan ,train_loss: nan, train_acc: 0.1000, test_acc: 0.1000\n",
            "Epoch [21/30] 27.98 sec, loss_epoch: nan ,train_loss: nan, train_acc: 0.1000, test_acc: 0.1000\n",
            "Epoch [22/30] 28.01 sec, loss_epoch: nan ,train_loss: nan, train_acc: 0.1000, test_acc: 0.1000\n",
            "Epoch [23/30] 28.03 sec, loss_epoch: nan ,train_loss: nan, train_acc: 0.1000, test_acc: 0.1000\n",
            "Epoch [24/30] 28.07 sec, loss_epoch: nan ,train_loss: nan, train_acc: 0.1000, test_acc: 0.1000\n",
            "Epoch [25/30] 28.01 sec, loss_epoch: nan ,train_loss: nan, train_acc: 0.1000, test_acc: 0.1000\n",
            "Epoch [26/30] 28.12 sec, loss_epoch: nan ,train_loss: nan, train_acc: 0.1000, test_acc: 0.1000\n",
            "Epoch [27/30] 28.03 sec, loss_epoch: nan ,train_loss: nan, train_acc: 0.1000, test_acc: 0.1000\n",
            "Epoch [28/30] 28.11 sec, loss_epoch: nan ,train_loss: nan, train_acc: 0.1000, test_acc: 0.1000\n",
            "Epoch [29/30] 28.03 sec, loss_epoch: nan ,train_loss: nan, train_acc: 0.1000, test_acc: 0.1000\n",
            "Epoch [30/30] 28.10 sec, loss_epoch: nan ,train_loss: nan, train_acc: 0.1000, test_acc: 0.1000\n",
            "Test Accuracy of the model: 10.0000 %\n",
            "Total Time taken: 842.855 sec\n",
            "1\n",
            "Epoch [1/30] 28.07 sec, loss_epoch: 4317.80 ,train_loss: 2.3026, train_acc: 0.1000, test_acc: 0.1000\n",
            "Epoch [2/30] 28.26 sec, loss_epoch: 4317.35 ,train_loss: 2.3026, train_acc: 0.1000, test_acc: 0.1000\n",
            "Epoch [3/30] 28.05 sec, loss_epoch: 4317.35 ,train_loss: 2.3026, train_acc: 0.1000, test_acc: 0.1000\n",
            "Epoch [4/30] 28.05 sec, loss_epoch: 4317.35 ,train_loss: 2.3026, train_acc: 0.1000, test_acc: 0.1000\n",
            "Epoch [5/30] 28.08 sec, loss_epoch: 4317.35 ,train_loss: 2.3026, train_acc: 0.1000, test_acc: 0.1000\n",
            "Epoch [6/30] 28.12 sec, loss_epoch: 4317.35 ,train_loss: 2.3026, train_acc: 0.1000, test_acc: 0.1000\n",
            "Epoch [7/30] 28.31 sec, loss_epoch: 4317.35 ,train_loss: 2.3026, train_acc: 0.1000, test_acc: 0.1000\n",
            "Epoch [8/30] 28.06 sec, loss_epoch: 4317.35 ,train_loss: 2.3026, train_acc: 0.1000, test_acc: 0.1000\n",
            "Epoch [9/30] 28.20 sec, loss_epoch: 4317.35 ,train_loss: 2.3026, train_acc: 0.1000, test_acc: 0.1000\n",
            "Epoch [10/30] 28.05 sec, loss_epoch: 4317.35 ,train_loss: 2.3026, train_acc: 0.1000, test_acc: 0.1000\n",
            "Epoch [11/30] 28.17 sec, loss_epoch: 4317.35 ,train_loss: 2.3026, train_acc: 0.1000, test_acc: 0.1000\n",
            "Epoch [12/30] 27.95 sec, loss_epoch: 4317.35 ,train_loss: 2.3026, train_acc: 0.1000, test_acc: 0.1000\n",
            "Epoch [13/30] 28.02 sec, loss_epoch: 4317.35 ,train_loss: 2.3026, train_acc: 0.1000, test_acc: 0.1000\n",
            "Epoch [14/30] 28.01 sec, loss_epoch: 4317.35 ,train_loss: 2.3026, train_acc: 0.1000, test_acc: 0.1000\n",
            "Epoch [15/30] 28.19 sec, loss_epoch: 4317.35 ,train_loss: 2.3026, train_acc: 0.1000, test_acc: 0.1000\n",
            "Epoch [16/30] 28.31 sec, loss_epoch: 4317.35 ,train_loss: 2.3026, train_acc: 0.1000, test_acc: 0.1000\n",
            "Epoch [17/30] 28.16 sec, loss_epoch: 4317.35 ,train_loss: 2.3026, train_acc: 0.1000, test_acc: 0.1000\n",
            "Epoch [18/30] 28.04 sec, loss_epoch: 4317.35 ,train_loss: 2.3026, train_acc: 0.1000, test_acc: 0.1000\n",
            "Epoch [19/30] 28.15 sec, loss_epoch: 4317.35 ,train_loss: 2.3026, train_acc: 0.1000, test_acc: 0.1000\n",
            "Epoch [20/30] 28.19 sec, loss_epoch: 4317.35 ,train_loss: 2.3026, train_acc: 0.1000, test_acc: 0.1000\n",
            "Epoch [21/30] 28.09 sec, loss_epoch: 4317.35 ,train_loss: 2.3026, train_acc: 0.1000, test_acc: 0.1000\n",
            "Epoch [22/30] 28.13 sec, loss_epoch: 4317.35 ,train_loss: 2.3026, train_acc: 0.1000, test_acc: 0.1000\n",
            "Epoch [23/30] 28.05 sec, loss_epoch: 4317.35 ,train_loss: 2.3026, train_acc: 0.1000, test_acc: 0.1000\n",
            "Epoch [24/30] 28.08 sec, loss_epoch: 4317.35 ,train_loss: 2.3026, train_acc: 0.1000, test_acc: 0.1000\n",
            "Epoch [25/30] 28.08 sec, loss_epoch: 4317.35 ,train_loss: 2.3026, train_acc: 0.1000, test_acc: 0.1000\n",
            "Epoch [26/30] 28.07 sec, loss_epoch: 4317.35 ,train_loss: 2.3026, train_acc: 0.1000, test_acc: 0.1000\n",
            "Epoch [27/30] 28.02 sec, loss_epoch: 4317.35 ,train_loss: 2.3026, train_acc: 0.1000, test_acc: 0.1000\n",
            "Epoch [28/30] 28.06 sec, loss_epoch: 4317.35 ,train_loss: 2.3026, train_acc: 0.1000, test_acc: 0.1000\n",
            "Epoch [29/30] 27.94 sec, loss_epoch: 4317.35 ,train_loss: 2.3026, train_acc: 0.1000, test_acc: 0.1000\n",
            "Epoch [30/30] 28.20 sec, loss_epoch: 4317.35 ,train_loss: 2.3026, train_acc: 0.1000, test_acc: 0.1000\n",
            "Test Accuracy of the model: 10.0000 %\n",
            "Total Time taken: 843.160 sec\n",
            "10\n",
            "Epoch [1/30] 28.01 sec, loss_epoch: 1951803426243699760705830912.00 ,train_loss: 2.3026, train_acc: 0.1000, test_acc: 0.1000\n",
            "Epoch [2/30] 28.05 sec, loss_epoch: 4317.35 ,train_loss: 2.3026, train_acc: 0.1000, test_acc: 0.1000\n",
            "Epoch [3/30] 28.14 sec, loss_epoch: 4317.35 ,train_loss: 2.3026, train_acc: 0.1000, test_acc: 0.1000\n",
            "Epoch [4/30] 27.98 sec, loss_epoch: 4317.35 ,train_loss: 2.3026, train_acc: 0.1000, test_acc: 0.1000\n",
            "Epoch [5/30] 27.96 sec, loss_epoch: 4317.35 ,train_loss: 2.3026, train_acc: 0.1000, test_acc: 0.1000\n",
            "Epoch [6/30] 27.96 sec, loss_epoch: 4317.35 ,train_loss: 2.3026, train_acc: 0.1000, test_acc: 0.1000\n",
            "Epoch [7/30] 27.96 sec, loss_epoch: 4317.35 ,train_loss: 2.3026, train_acc: 0.1000, test_acc: 0.1000\n",
            "Epoch [8/30] 27.77 sec, loss_epoch: 4317.35 ,train_loss: 2.3026, train_acc: 0.1000, test_acc: 0.1000\n",
            "Epoch [9/30] 27.91 sec, loss_epoch: 4317.35 ,train_loss: 2.3026, train_acc: 0.1000, test_acc: 0.1000\n",
            "Epoch [10/30] 27.93 sec, loss_epoch: 4317.35 ,train_loss: 2.3026, train_acc: 0.1000, test_acc: 0.1000\n",
            "Epoch [11/30] 27.96 sec, loss_epoch: 4317.35 ,train_loss: 2.3026, train_acc: 0.1000, test_acc: 0.1000\n",
            "Epoch [12/30] 27.84 sec, loss_epoch: 4317.35 ,train_loss: 2.3026, train_acc: 0.1000, test_acc: 0.1000\n",
            "Epoch [13/30] 28.03 sec, loss_epoch: 4317.35 ,train_loss: 2.3026, train_acc: 0.1000, test_acc: 0.1000\n",
            "Epoch [14/30] 27.77 sec, loss_epoch: 4317.35 ,train_loss: 2.3026, train_acc: 0.1000, test_acc: 0.1000\n",
            "Epoch [15/30] 28.00 sec, loss_epoch: 4317.35 ,train_loss: 2.3026, train_acc: 0.1000, test_acc: 0.1000\n",
            "Epoch [16/30] 28.00 sec, loss_epoch: 4317.35 ,train_loss: 2.3026, train_acc: 0.1000, test_acc: 0.1000\n",
            "Epoch [17/30] 28.04 sec, loss_epoch: 4317.35 ,train_loss: 2.3026, train_acc: 0.1000, test_acc: 0.1000\n",
            "Epoch [18/30] 28.04 sec, loss_epoch: 4317.35 ,train_loss: 2.3026, train_acc: 0.1000, test_acc: 0.1000\n",
            "Epoch [19/30] 27.99 sec, loss_epoch: 4317.35 ,train_loss: 2.3026, train_acc: 0.1000, test_acc: 0.1000\n",
            "Epoch [20/30] 27.95 sec, loss_epoch: 4317.35 ,train_loss: 2.3026, train_acc: 0.1000, test_acc: 0.1000\n",
            "Epoch [21/30] 28.09 sec, loss_epoch: 4317.35 ,train_loss: 2.3026, train_acc: 0.1000, test_acc: 0.1000\n",
            "Epoch [22/30] 28.27 sec, loss_epoch: 4317.35 ,train_loss: 2.3026, train_acc: 0.1000, test_acc: 0.1000\n",
            "Epoch [23/30] 28.23 sec, loss_epoch: 4317.35 ,train_loss: 2.3026, train_acc: 0.1000, test_acc: 0.1000\n",
            "Epoch [24/30] 28.23 sec, loss_epoch: 4317.35 ,train_loss: 2.3026, train_acc: 0.1000, test_acc: 0.1000\n",
            "Epoch [25/30] 28.07 sec, loss_epoch: 4317.35 ,train_loss: 2.3026, train_acc: 0.1000, test_acc: 0.1000\n",
            "Epoch [26/30] 28.07 sec, loss_epoch: 4317.35 ,train_loss: 2.3026, train_acc: 0.1000, test_acc: 0.1000\n",
            "Epoch [27/30] 28.04 sec, loss_epoch: 4317.35 ,train_loss: 2.3026, train_acc: 0.1000, test_acc: 0.1000\n",
            "Epoch [28/30] 28.19 sec, loss_epoch: 4317.35 ,train_loss: 2.3026, train_acc: 0.1000, test_acc: 0.1000\n",
            "Epoch [29/30] 27.93 sec, loss_epoch: 4317.35 ,train_loss: 2.3026, train_acc: 0.1000, test_acc: 0.1000\n",
            "Epoch [30/30] 28.06 sec, loss_epoch: 4317.35 ,train_loss: 2.3026, train_acc: 0.1000, test_acc: 0.1000\n",
            "Test Accuracy of the model: 10.0000 %\n",
            "Total Time taken: 840.443 sec\n"
          ]
        }
      ],
      "source": [
        "for learning_rate in [0.001,0.5,1,10]:\n",
        "    num_epochs = 30\n",
        "    num_classes = 10\n",
        "    batch_size = 100\n",
        "#     learning_rate = 0.1\n",
        "    activation = \"relu\"\n",
        "    dropout_rate = 0\n",
        "    print(learning_rate)\n",
        "    training_flag = True\n",
        "    device = torch.device('cuda:0' if torch.cuda.is_available() else 'cpu')\n",
        "    net = MyCNN(num_classes,activation=activation,dropout_rate=dropout_rate,training_flag=training_flag).to(device)\n",
        "    criterion = nn.CrossEntropyLoss()\n",
        "    optimizer = torch.optim.SGD(net.parameters(), lr=learning_rate)\n",
        "    data = train_loader, test_loader\n",
        "    [train_loader,test_loader] = data \n",
        "\n",
        "    t_loss,t_acc,test_acc,final_test_accuracy,exec_time, loss_epoch_array = classify(device,net,data,criterion,optimizer,num_epochs,num_classes,batch_size,learning_rate,activation)\n",
        "    end = [learning_rate,activation,dropout_rate,num_epochs,t_loss,t_acc,test_acc,final_test_accuracy,exec_time]\n",
        "    result.append(end)"
      ]
    },
    {
      "cell_type": "raw",
      "metadata": {
        "id": "RzrFGZ6vxCdl"
      },
      "source": [
        "5. Dropout of 0.3 rate on the second fully connected layer"
      ]
    },
    {
      "cell_type": "code",
      "execution_count": null,
      "metadata": {
        "id": "vibjOGgExJgx",
        "outputId": "76111e20-ca33-4272-c6fc-bf474f19f9c6",
        "colab": {
          "base_uri": "https://localhost:8080/"
        }
      },
      "outputs": [
        {
          "output_type": "stream",
          "name": "stdout",
          "text": [
            "Epoch [1/30] 28.52 sec, loss_epoch: 2426.72 ,train_loss: 0.8025, train_acc: 0.8526, test_acc: 0.8473\n",
            "Epoch [2/30] 28.40 sec, loss_epoch: 1947.75 ,train_loss: 1.1338, train_acc: 0.8871, test_acc: 0.8737\n",
            "Epoch [3/30] 28.54 sec, loss_epoch: 1872.37 ,train_loss: 1.0407, train_acc: 0.8954, test_acc: 0.8835\n",
            "Epoch [4/30] 28.42 sec, loss_epoch: 1813.18 ,train_loss: 0.9080, train_acc: 0.9068, test_acc: 0.8910\n",
            "Epoch [5/30] 28.40 sec, loss_epoch: 1780.13 ,train_loss: 1.2545, train_acc: 0.9132, test_acc: 0.8954\n",
            "Epoch [6/30] 28.45 sec, loss_epoch: 1749.44 ,train_loss: 0.8773, train_acc: 0.9109, test_acc: 0.8912\n",
            "Epoch [7/30] 28.44 sec, loss_epoch: 1733.81 ,train_loss: 0.9724, train_acc: 0.9231, test_acc: 0.9003\n",
            "Epoch [8/30] 28.50 sec, loss_epoch: 1722.62 ,train_loss: 1.0108, train_acc: 0.9216, test_acc: 0.8995\n",
            "Epoch [9/30] 28.44 sec, loss_epoch: 1680.74 ,train_loss: 0.9499, train_acc: 0.9278, test_acc: 0.8989\n",
            "Epoch [10/30] 28.46 sec, loss_epoch: 1671.06 ,train_loss: 0.8185, train_acc: 0.9304, test_acc: 0.9009\n",
            "Epoch [11/30] 28.40 sec, loss_epoch: 1662.23 ,train_loss: 0.8786, train_acc: 0.9340, test_acc: 0.9057\n",
            "Epoch [12/30] 28.40 sec, loss_epoch: 1649.01 ,train_loss: 0.8944, train_acc: 0.9368, test_acc: 0.9077\n",
            "Epoch [13/30] 28.63 sec, loss_epoch: 1632.06 ,train_loss: 1.0702, train_acc: 0.9408, test_acc: 0.9078\n",
            "Epoch [14/30] 28.55 sec, loss_epoch: 1628.57 ,train_loss: 0.9851, train_acc: 0.9434, test_acc: 0.9102\n",
            "Epoch [15/30] 28.41 sec, loss_epoch: 1602.14 ,train_loss: 0.9756, train_acc: 0.9437, test_acc: 0.9074\n",
            "Epoch [16/30] 28.50 sec, loss_epoch: 1598.52 ,train_loss: 0.7452, train_acc: 0.9457, test_acc: 0.9077\n",
            "Epoch [17/30] 28.52 sec, loss_epoch: 1590.46 ,train_loss: 0.8161, train_acc: 0.9487, test_acc: 0.9111\n",
            "Epoch [18/30] 28.56 sec, loss_epoch: 1571.14 ,train_loss: 0.7550, train_acc: 0.9506, test_acc: 0.9082\n",
            "Epoch [19/30] 28.50 sec, loss_epoch: 1574.35 ,train_loss: 0.8687, train_acc: 0.9520, test_acc: 0.9087\n",
            "Epoch [20/30] 28.69 sec, loss_epoch: 1555.94 ,train_loss: 1.0042, train_acc: 0.9533, test_acc: 0.9092\n",
            "Epoch [21/30] 28.49 sec, loss_epoch: 1531.03 ,train_loss: 0.7980, train_acc: 0.9504, test_acc: 0.9031\n",
            "Epoch [22/30] 28.41 sec, loss_epoch: 1552.34 ,train_loss: 0.7695, train_acc: 0.9558, test_acc: 0.9092\n",
            "Epoch [23/30] 28.62 sec, loss_epoch: 1521.83 ,train_loss: 0.8256, train_acc: 0.9630, test_acc: 0.9108\n",
            "Epoch [24/30] 28.38 sec, loss_epoch: 1510.92 ,train_loss: 0.8173, train_acc: 0.9570, test_acc: 0.9044\n",
            "Epoch [25/30] 28.55 sec, loss_epoch: 1520.10 ,train_loss: 0.5363, train_acc: 0.9586, test_acc: 0.9109\n",
            "Epoch [26/30] 28.47 sec, loss_epoch: 1530.04 ,train_loss: 1.0695, train_acc: 0.9645, test_acc: 0.9117\n",
            "Epoch [27/30] 28.39 sec, loss_epoch: 1497.38 ,train_loss: 0.7651, train_acc: 0.9653, test_acc: 0.9107\n",
            "Epoch [28/30] 28.43 sec, loss_epoch: 1510.48 ,train_loss: 0.7198, train_acc: 0.9686, test_acc: 0.9090\n",
            "Epoch [29/30] 28.45 sec, loss_epoch: 1507.66 ,train_loss: 1.1018, train_acc: 0.9669, test_acc: 0.9103\n",
            "Epoch [30/30] 28.45 sec, loss_epoch: 1510.76 ,train_loss: 0.7741, train_acc: 0.9666, test_acc: 0.9102\n",
            "Test Accuracy of the model: 91.0200 %\n",
            "Total Time taken: 854.378 sec\n"
          ]
        }
      ],
      "source": [
        "result = []\n",
        "num_epochs = 30\n",
        "num_classes = 10\n",
        "batch_size = 100\n",
        "learning_rate = 0.1\n",
        "activation = \"relu\"\n",
        "dropout_rate = 0.3\n",
        "training_flag = True\n",
        "device = torch.device('cuda:0' if torch.cuda.is_available() else 'cpu')\n",
        "net = MyCNN(num_classes,activation=activation,dropout_rate=dropout_rate,training_flag=training_flag).to(device)\n",
        "criterion = nn.CrossEntropyLoss()\n",
        "optimizer = torch.optim.SGD(net.parameters(), lr=learning_rate)\n",
        "data = train_loader, test_loader\n",
        "[train_loader,test_loader] = data \n",
        "\n",
        "t_loss,t_acc,test_acc,final_test_accuracy,exec_time, loss_epoch_array = classify(device,net,data,criterion,optimizer,num_epochs,num_classes,batch_size,learning_rate,activation)\n",
        "end = [learning_rate,activation,dropout_rate,num_epochs,t_loss,t_acc,test_acc,final_test_accuracy,exec_time]\n",
        "result.append(end)"
      ]
    },
    {
      "cell_type": "code",
      "execution_count": null,
      "metadata": {
        "id": "A98gq6Fya1YE"
      },
      "outputs": [],
      "source": []
    },
    {
      "cell_type": "code",
      "execution_count": null,
      "metadata": {
        "id": "6ysX9VQFa1YF"
      },
      "outputs": [],
      "source": []
    }
  ],
  "metadata": {
    "colab": {
      "provenance": [],
      "toc_visible": true
    },
    "kernelspec": {
      "display_name": "Python 3 (ipykernel)",
      "language": "python",
      "name": "python3"
    },
    "language_info": {
      "codemirror_mode": {
        "name": "ipython",
        "version": 3
      },
      "file_extension": ".py",
      "mimetype": "text/x-python",
      "name": "python",
      "nbconvert_exporter": "python",
      "pygments_lexer": "ipython3",
      "version": "3.8.8"
    },
    "accelerator": "GPU",
    "widgets": {
      "application/vnd.jupyter.widget-state+json": {
        "9a32b1ebdc454d42b50606d50b1b5964": {
          "model_module": "@jupyter-widgets/controls",
          "model_name": "HBoxModel",
          "model_module_version": "1.5.0",
          "state": {
            "_dom_classes": [],
            "_model_module": "@jupyter-widgets/controls",
            "_model_module_version": "1.5.0",
            "_model_name": "HBoxModel",
            "_view_count": null,
            "_view_module": "@jupyter-widgets/controls",
            "_view_module_version": "1.5.0",
            "_view_name": "HBoxView",
            "box_style": "",
            "children": [
              "IPY_MODEL_1ee0dd10a6aa43a099daa545a073dd01",
              "IPY_MODEL_88c728000d5c4106ae197e489b1f572c",
              "IPY_MODEL_4cfb834768584a029a4deacaa19b20f8"
            ],
            "layout": "IPY_MODEL_e8a012657c95431aaf993ef284b58fe4"
          }
        },
        "1ee0dd10a6aa43a099daa545a073dd01": {
          "model_module": "@jupyter-widgets/controls",
          "model_name": "HTMLModel",
          "model_module_version": "1.5.0",
          "state": {
            "_dom_classes": [],
            "_model_module": "@jupyter-widgets/controls",
            "_model_module_version": "1.5.0",
            "_model_name": "HTMLModel",
            "_view_count": null,
            "_view_module": "@jupyter-widgets/controls",
            "_view_module_version": "1.5.0",
            "_view_name": "HTMLView",
            "description": "",
            "description_tooltip": null,
            "layout": "IPY_MODEL_2551def5ba3b4d199cb177587998dd6b",
            "placeholder": "​",
            "style": "IPY_MODEL_6756caeb3b344b61b83482a60695beea",
            "value": "100%"
          }
        },
        "88c728000d5c4106ae197e489b1f572c": {
          "model_module": "@jupyter-widgets/controls",
          "model_name": "FloatProgressModel",
          "model_module_version": "1.5.0",
          "state": {
            "_dom_classes": [],
            "_model_module": "@jupyter-widgets/controls",
            "_model_module_version": "1.5.0",
            "_model_name": "FloatProgressModel",
            "_view_count": null,
            "_view_module": "@jupyter-widgets/controls",
            "_view_module_version": "1.5.0",
            "_view_name": "ProgressView",
            "bar_style": "success",
            "description": "",
            "description_tooltip": null,
            "layout": "IPY_MODEL_d94b299481be4971b1712337fd0fec7e",
            "max": 26421880,
            "min": 0,
            "orientation": "horizontal",
            "style": "IPY_MODEL_bcaaaf52b3f24faeb3f57f013650a1e3",
            "value": 26421880
          }
        },
        "4cfb834768584a029a4deacaa19b20f8": {
          "model_module": "@jupyter-widgets/controls",
          "model_name": "HTMLModel",
          "model_module_version": "1.5.0",
          "state": {
            "_dom_classes": [],
            "_model_module": "@jupyter-widgets/controls",
            "_model_module_version": "1.5.0",
            "_model_name": "HTMLModel",
            "_view_count": null,
            "_view_module": "@jupyter-widgets/controls",
            "_view_module_version": "1.5.0",
            "_view_name": "HTMLView",
            "description": "",
            "description_tooltip": null,
            "layout": "IPY_MODEL_367d6f603755464b8ff42b09bf292158",
            "placeholder": "​",
            "style": "IPY_MODEL_25c8d1b4553a48b8a00d936e1e1464ed",
            "value": " 26421880/26421880 [00:00&lt;00:00, 119163297.54it/s]"
          }
        },
        "e8a012657c95431aaf993ef284b58fe4": {
          "model_module": "@jupyter-widgets/base",
          "model_name": "LayoutModel",
          "model_module_version": "1.2.0",
          "state": {
            "_model_module": "@jupyter-widgets/base",
            "_model_module_version": "1.2.0",
            "_model_name": "LayoutModel",
            "_view_count": null,
            "_view_module": "@jupyter-widgets/base",
            "_view_module_version": "1.2.0",
            "_view_name": "LayoutView",
            "align_content": null,
            "align_items": null,
            "align_self": null,
            "border": null,
            "bottom": null,
            "display": null,
            "flex": null,
            "flex_flow": null,
            "grid_area": null,
            "grid_auto_columns": null,
            "grid_auto_flow": null,
            "grid_auto_rows": null,
            "grid_column": null,
            "grid_gap": null,
            "grid_row": null,
            "grid_template_areas": null,
            "grid_template_columns": null,
            "grid_template_rows": null,
            "height": null,
            "justify_content": null,
            "justify_items": null,
            "left": null,
            "margin": null,
            "max_height": null,
            "max_width": null,
            "min_height": null,
            "min_width": null,
            "object_fit": null,
            "object_position": null,
            "order": null,
            "overflow": null,
            "overflow_x": null,
            "overflow_y": null,
            "padding": null,
            "right": null,
            "top": null,
            "visibility": null,
            "width": null
          }
        },
        "2551def5ba3b4d199cb177587998dd6b": {
          "model_module": "@jupyter-widgets/base",
          "model_name": "LayoutModel",
          "model_module_version": "1.2.0",
          "state": {
            "_model_module": "@jupyter-widgets/base",
            "_model_module_version": "1.2.0",
            "_model_name": "LayoutModel",
            "_view_count": null,
            "_view_module": "@jupyter-widgets/base",
            "_view_module_version": "1.2.0",
            "_view_name": "LayoutView",
            "align_content": null,
            "align_items": null,
            "align_self": null,
            "border": null,
            "bottom": null,
            "display": null,
            "flex": null,
            "flex_flow": null,
            "grid_area": null,
            "grid_auto_columns": null,
            "grid_auto_flow": null,
            "grid_auto_rows": null,
            "grid_column": null,
            "grid_gap": null,
            "grid_row": null,
            "grid_template_areas": null,
            "grid_template_columns": null,
            "grid_template_rows": null,
            "height": null,
            "justify_content": null,
            "justify_items": null,
            "left": null,
            "margin": null,
            "max_height": null,
            "max_width": null,
            "min_height": null,
            "min_width": null,
            "object_fit": null,
            "object_position": null,
            "order": null,
            "overflow": null,
            "overflow_x": null,
            "overflow_y": null,
            "padding": null,
            "right": null,
            "top": null,
            "visibility": null,
            "width": null
          }
        },
        "6756caeb3b344b61b83482a60695beea": {
          "model_module": "@jupyter-widgets/controls",
          "model_name": "DescriptionStyleModel",
          "model_module_version": "1.5.0",
          "state": {
            "_model_module": "@jupyter-widgets/controls",
            "_model_module_version": "1.5.0",
            "_model_name": "DescriptionStyleModel",
            "_view_count": null,
            "_view_module": "@jupyter-widgets/base",
            "_view_module_version": "1.2.0",
            "_view_name": "StyleView",
            "description_width": ""
          }
        },
        "d94b299481be4971b1712337fd0fec7e": {
          "model_module": "@jupyter-widgets/base",
          "model_name": "LayoutModel",
          "model_module_version": "1.2.0",
          "state": {
            "_model_module": "@jupyter-widgets/base",
            "_model_module_version": "1.2.0",
            "_model_name": "LayoutModel",
            "_view_count": null,
            "_view_module": "@jupyter-widgets/base",
            "_view_module_version": "1.2.0",
            "_view_name": "LayoutView",
            "align_content": null,
            "align_items": null,
            "align_self": null,
            "border": null,
            "bottom": null,
            "display": null,
            "flex": null,
            "flex_flow": null,
            "grid_area": null,
            "grid_auto_columns": null,
            "grid_auto_flow": null,
            "grid_auto_rows": null,
            "grid_column": null,
            "grid_gap": null,
            "grid_row": null,
            "grid_template_areas": null,
            "grid_template_columns": null,
            "grid_template_rows": null,
            "height": null,
            "justify_content": null,
            "justify_items": null,
            "left": null,
            "margin": null,
            "max_height": null,
            "max_width": null,
            "min_height": null,
            "min_width": null,
            "object_fit": null,
            "object_position": null,
            "order": null,
            "overflow": null,
            "overflow_x": null,
            "overflow_y": null,
            "padding": null,
            "right": null,
            "top": null,
            "visibility": null,
            "width": null
          }
        },
        "bcaaaf52b3f24faeb3f57f013650a1e3": {
          "model_module": "@jupyter-widgets/controls",
          "model_name": "ProgressStyleModel",
          "model_module_version": "1.5.0",
          "state": {
            "_model_module": "@jupyter-widgets/controls",
            "_model_module_version": "1.5.0",
            "_model_name": "ProgressStyleModel",
            "_view_count": null,
            "_view_module": "@jupyter-widgets/base",
            "_view_module_version": "1.2.0",
            "_view_name": "StyleView",
            "bar_color": null,
            "description_width": ""
          }
        },
        "367d6f603755464b8ff42b09bf292158": {
          "model_module": "@jupyter-widgets/base",
          "model_name": "LayoutModel",
          "model_module_version": "1.2.0",
          "state": {
            "_model_module": "@jupyter-widgets/base",
            "_model_module_version": "1.2.0",
            "_model_name": "LayoutModel",
            "_view_count": null,
            "_view_module": "@jupyter-widgets/base",
            "_view_module_version": "1.2.0",
            "_view_name": "LayoutView",
            "align_content": null,
            "align_items": null,
            "align_self": null,
            "border": null,
            "bottom": null,
            "display": null,
            "flex": null,
            "flex_flow": null,
            "grid_area": null,
            "grid_auto_columns": null,
            "grid_auto_flow": null,
            "grid_auto_rows": null,
            "grid_column": null,
            "grid_gap": null,
            "grid_row": null,
            "grid_template_areas": null,
            "grid_template_columns": null,
            "grid_template_rows": null,
            "height": null,
            "justify_content": null,
            "justify_items": null,
            "left": null,
            "margin": null,
            "max_height": null,
            "max_width": null,
            "min_height": null,
            "min_width": null,
            "object_fit": null,
            "object_position": null,
            "order": null,
            "overflow": null,
            "overflow_x": null,
            "overflow_y": null,
            "padding": null,
            "right": null,
            "top": null,
            "visibility": null,
            "width": null
          }
        },
        "25c8d1b4553a48b8a00d936e1e1464ed": {
          "model_module": "@jupyter-widgets/controls",
          "model_name": "DescriptionStyleModel",
          "model_module_version": "1.5.0",
          "state": {
            "_model_module": "@jupyter-widgets/controls",
            "_model_module_version": "1.5.0",
            "_model_name": "DescriptionStyleModel",
            "_view_count": null,
            "_view_module": "@jupyter-widgets/base",
            "_view_module_version": "1.2.0",
            "_view_name": "StyleView",
            "description_width": ""
          }
        },
        "d4b9bfce32884b1d9d737944f96b69f0": {
          "model_module": "@jupyter-widgets/controls",
          "model_name": "HBoxModel",
          "model_module_version": "1.5.0",
          "state": {
            "_dom_classes": [],
            "_model_module": "@jupyter-widgets/controls",
            "_model_module_version": "1.5.0",
            "_model_name": "HBoxModel",
            "_view_count": null,
            "_view_module": "@jupyter-widgets/controls",
            "_view_module_version": "1.5.0",
            "_view_name": "HBoxView",
            "box_style": "",
            "children": [
              "IPY_MODEL_a13ba9d301854510968879c810561dc1",
              "IPY_MODEL_aa51b72a41f241289b4da18f37fbba7d",
              "IPY_MODEL_622b65ce45ad4496b74ab66997ac8764"
            ],
            "layout": "IPY_MODEL_369e2d5dc52448a481098c7acde4c4ad"
          }
        },
        "a13ba9d301854510968879c810561dc1": {
          "model_module": "@jupyter-widgets/controls",
          "model_name": "HTMLModel",
          "model_module_version": "1.5.0",
          "state": {
            "_dom_classes": [],
            "_model_module": "@jupyter-widgets/controls",
            "_model_module_version": "1.5.0",
            "_model_name": "HTMLModel",
            "_view_count": null,
            "_view_module": "@jupyter-widgets/controls",
            "_view_module_version": "1.5.0",
            "_view_name": "HTMLView",
            "description": "",
            "description_tooltip": null,
            "layout": "IPY_MODEL_0906a7d83677493181458e51935b1884",
            "placeholder": "​",
            "style": "IPY_MODEL_8a897771e21f436fb8c793b96973c4f7",
            "value": "100%"
          }
        },
        "aa51b72a41f241289b4da18f37fbba7d": {
          "model_module": "@jupyter-widgets/controls",
          "model_name": "FloatProgressModel",
          "model_module_version": "1.5.0",
          "state": {
            "_dom_classes": [],
            "_model_module": "@jupyter-widgets/controls",
            "_model_module_version": "1.5.0",
            "_model_name": "FloatProgressModel",
            "_view_count": null,
            "_view_module": "@jupyter-widgets/controls",
            "_view_module_version": "1.5.0",
            "_view_name": "ProgressView",
            "bar_style": "success",
            "description": "",
            "description_tooltip": null,
            "layout": "IPY_MODEL_c60d891dca13435ab5abf653d920e483",
            "max": 29515,
            "min": 0,
            "orientation": "horizontal",
            "style": "IPY_MODEL_dad371912ce344f5bc7d21aef98ee89d",
            "value": 29515
          }
        },
        "622b65ce45ad4496b74ab66997ac8764": {
          "model_module": "@jupyter-widgets/controls",
          "model_name": "HTMLModel",
          "model_module_version": "1.5.0",
          "state": {
            "_dom_classes": [],
            "_model_module": "@jupyter-widgets/controls",
            "_model_module_version": "1.5.0",
            "_model_name": "HTMLModel",
            "_view_count": null,
            "_view_module": "@jupyter-widgets/controls",
            "_view_module_version": "1.5.0",
            "_view_name": "HTMLView",
            "description": "",
            "description_tooltip": null,
            "layout": "IPY_MODEL_4bbf4f599e54451196e7f9a20de7425c",
            "placeholder": "​",
            "style": "IPY_MODEL_b2d938c25716474fb0b1509995763220",
            "value": " 29515/29515 [00:00&lt;00:00, 1280685.29it/s]"
          }
        },
        "369e2d5dc52448a481098c7acde4c4ad": {
          "model_module": "@jupyter-widgets/base",
          "model_name": "LayoutModel",
          "model_module_version": "1.2.0",
          "state": {
            "_model_module": "@jupyter-widgets/base",
            "_model_module_version": "1.2.0",
            "_model_name": "LayoutModel",
            "_view_count": null,
            "_view_module": "@jupyter-widgets/base",
            "_view_module_version": "1.2.0",
            "_view_name": "LayoutView",
            "align_content": null,
            "align_items": null,
            "align_self": null,
            "border": null,
            "bottom": null,
            "display": null,
            "flex": null,
            "flex_flow": null,
            "grid_area": null,
            "grid_auto_columns": null,
            "grid_auto_flow": null,
            "grid_auto_rows": null,
            "grid_column": null,
            "grid_gap": null,
            "grid_row": null,
            "grid_template_areas": null,
            "grid_template_columns": null,
            "grid_template_rows": null,
            "height": null,
            "justify_content": null,
            "justify_items": null,
            "left": null,
            "margin": null,
            "max_height": null,
            "max_width": null,
            "min_height": null,
            "min_width": null,
            "object_fit": null,
            "object_position": null,
            "order": null,
            "overflow": null,
            "overflow_x": null,
            "overflow_y": null,
            "padding": null,
            "right": null,
            "top": null,
            "visibility": null,
            "width": null
          }
        },
        "0906a7d83677493181458e51935b1884": {
          "model_module": "@jupyter-widgets/base",
          "model_name": "LayoutModel",
          "model_module_version": "1.2.0",
          "state": {
            "_model_module": "@jupyter-widgets/base",
            "_model_module_version": "1.2.0",
            "_model_name": "LayoutModel",
            "_view_count": null,
            "_view_module": "@jupyter-widgets/base",
            "_view_module_version": "1.2.0",
            "_view_name": "LayoutView",
            "align_content": null,
            "align_items": null,
            "align_self": null,
            "border": null,
            "bottom": null,
            "display": null,
            "flex": null,
            "flex_flow": null,
            "grid_area": null,
            "grid_auto_columns": null,
            "grid_auto_flow": null,
            "grid_auto_rows": null,
            "grid_column": null,
            "grid_gap": null,
            "grid_row": null,
            "grid_template_areas": null,
            "grid_template_columns": null,
            "grid_template_rows": null,
            "height": null,
            "justify_content": null,
            "justify_items": null,
            "left": null,
            "margin": null,
            "max_height": null,
            "max_width": null,
            "min_height": null,
            "min_width": null,
            "object_fit": null,
            "object_position": null,
            "order": null,
            "overflow": null,
            "overflow_x": null,
            "overflow_y": null,
            "padding": null,
            "right": null,
            "top": null,
            "visibility": null,
            "width": null
          }
        },
        "8a897771e21f436fb8c793b96973c4f7": {
          "model_module": "@jupyter-widgets/controls",
          "model_name": "DescriptionStyleModel",
          "model_module_version": "1.5.0",
          "state": {
            "_model_module": "@jupyter-widgets/controls",
            "_model_module_version": "1.5.0",
            "_model_name": "DescriptionStyleModel",
            "_view_count": null,
            "_view_module": "@jupyter-widgets/base",
            "_view_module_version": "1.2.0",
            "_view_name": "StyleView",
            "description_width": ""
          }
        },
        "c60d891dca13435ab5abf653d920e483": {
          "model_module": "@jupyter-widgets/base",
          "model_name": "LayoutModel",
          "model_module_version": "1.2.0",
          "state": {
            "_model_module": "@jupyter-widgets/base",
            "_model_module_version": "1.2.0",
            "_model_name": "LayoutModel",
            "_view_count": null,
            "_view_module": "@jupyter-widgets/base",
            "_view_module_version": "1.2.0",
            "_view_name": "LayoutView",
            "align_content": null,
            "align_items": null,
            "align_self": null,
            "border": null,
            "bottom": null,
            "display": null,
            "flex": null,
            "flex_flow": null,
            "grid_area": null,
            "grid_auto_columns": null,
            "grid_auto_flow": null,
            "grid_auto_rows": null,
            "grid_column": null,
            "grid_gap": null,
            "grid_row": null,
            "grid_template_areas": null,
            "grid_template_columns": null,
            "grid_template_rows": null,
            "height": null,
            "justify_content": null,
            "justify_items": null,
            "left": null,
            "margin": null,
            "max_height": null,
            "max_width": null,
            "min_height": null,
            "min_width": null,
            "object_fit": null,
            "object_position": null,
            "order": null,
            "overflow": null,
            "overflow_x": null,
            "overflow_y": null,
            "padding": null,
            "right": null,
            "top": null,
            "visibility": null,
            "width": null
          }
        },
        "dad371912ce344f5bc7d21aef98ee89d": {
          "model_module": "@jupyter-widgets/controls",
          "model_name": "ProgressStyleModel",
          "model_module_version": "1.5.0",
          "state": {
            "_model_module": "@jupyter-widgets/controls",
            "_model_module_version": "1.5.0",
            "_model_name": "ProgressStyleModel",
            "_view_count": null,
            "_view_module": "@jupyter-widgets/base",
            "_view_module_version": "1.2.0",
            "_view_name": "StyleView",
            "bar_color": null,
            "description_width": ""
          }
        },
        "4bbf4f599e54451196e7f9a20de7425c": {
          "model_module": "@jupyter-widgets/base",
          "model_name": "LayoutModel",
          "model_module_version": "1.2.0",
          "state": {
            "_model_module": "@jupyter-widgets/base",
            "_model_module_version": "1.2.0",
            "_model_name": "LayoutModel",
            "_view_count": null,
            "_view_module": "@jupyter-widgets/base",
            "_view_module_version": "1.2.0",
            "_view_name": "LayoutView",
            "align_content": null,
            "align_items": null,
            "align_self": null,
            "border": null,
            "bottom": null,
            "display": null,
            "flex": null,
            "flex_flow": null,
            "grid_area": null,
            "grid_auto_columns": null,
            "grid_auto_flow": null,
            "grid_auto_rows": null,
            "grid_column": null,
            "grid_gap": null,
            "grid_row": null,
            "grid_template_areas": null,
            "grid_template_columns": null,
            "grid_template_rows": null,
            "height": null,
            "justify_content": null,
            "justify_items": null,
            "left": null,
            "margin": null,
            "max_height": null,
            "max_width": null,
            "min_height": null,
            "min_width": null,
            "object_fit": null,
            "object_position": null,
            "order": null,
            "overflow": null,
            "overflow_x": null,
            "overflow_y": null,
            "padding": null,
            "right": null,
            "top": null,
            "visibility": null,
            "width": null
          }
        },
        "b2d938c25716474fb0b1509995763220": {
          "model_module": "@jupyter-widgets/controls",
          "model_name": "DescriptionStyleModel",
          "model_module_version": "1.5.0",
          "state": {
            "_model_module": "@jupyter-widgets/controls",
            "_model_module_version": "1.5.0",
            "_model_name": "DescriptionStyleModel",
            "_view_count": null,
            "_view_module": "@jupyter-widgets/base",
            "_view_module_version": "1.2.0",
            "_view_name": "StyleView",
            "description_width": ""
          }
        },
        "3b5ca565f5bf415c961ef80641b9760f": {
          "model_module": "@jupyter-widgets/controls",
          "model_name": "HBoxModel",
          "model_module_version": "1.5.0",
          "state": {
            "_dom_classes": [],
            "_model_module": "@jupyter-widgets/controls",
            "_model_module_version": "1.5.0",
            "_model_name": "HBoxModel",
            "_view_count": null,
            "_view_module": "@jupyter-widgets/controls",
            "_view_module_version": "1.5.0",
            "_view_name": "HBoxView",
            "box_style": "",
            "children": [
              "IPY_MODEL_0e40826cb7854707a02e246c066b53b0",
              "IPY_MODEL_113e16706f6043349de112f03004759a",
              "IPY_MODEL_9b174529cc574f3eabd779fb2dc03828"
            ],
            "layout": "IPY_MODEL_2597974bb49140cebbf9a57f16845630"
          }
        },
        "0e40826cb7854707a02e246c066b53b0": {
          "model_module": "@jupyter-widgets/controls",
          "model_name": "HTMLModel",
          "model_module_version": "1.5.0",
          "state": {
            "_dom_classes": [],
            "_model_module": "@jupyter-widgets/controls",
            "_model_module_version": "1.5.0",
            "_model_name": "HTMLModel",
            "_view_count": null,
            "_view_module": "@jupyter-widgets/controls",
            "_view_module_version": "1.5.0",
            "_view_name": "HTMLView",
            "description": "",
            "description_tooltip": null,
            "layout": "IPY_MODEL_8a873529027c443d8e94a9a5a253f4d2",
            "placeholder": "​",
            "style": "IPY_MODEL_fc19b4f801b04199b588c438b16624b6",
            "value": "100%"
          }
        },
        "113e16706f6043349de112f03004759a": {
          "model_module": "@jupyter-widgets/controls",
          "model_name": "FloatProgressModel",
          "model_module_version": "1.5.0",
          "state": {
            "_dom_classes": [],
            "_model_module": "@jupyter-widgets/controls",
            "_model_module_version": "1.5.0",
            "_model_name": "FloatProgressModel",
            "_view_count": null,
            "_view_module": "@jupyter-widgets/controls",
            "_view_module_version": "1.5.0",
            "_view_name": "ProgressView",
            "bar_style": "success",
            "description": "",
            "description_tooltip": null,
            "layout": "IPY_MODEL_c124516116ee4d5eb1af742192acca70",
            "max": 4422102,
            "min": 0,
            "orientation": "horizontal",
            "style": "IPY_MODEL_aca846f130cd4eca995188b02b19de8a",
            "value": 4422102
          }
        },
        "9b174529cc574f3eabd779fb2dc03828": {
          "model_module": "@jupyter-widgets/controls",
          "model_name": "HTMLModel",
          "model_module_version": "1.5.0",
          "state": {
            "_dom_classes": [],
            "_model_module": "@jupyter-widgets/controls",
            "_model_module_version": "1.5.0",
            "_model_name": "HTMLModel",
            "_view_count": null,
            "_view_module": "@jupyter-widgets/controls",
            "_view_module_version": "1.5.0",
            "_view_name": "HTMLView",
            "description": "",
            "description_tooltip": null,
            "layout": "IPY_MODEL_fd5213cac62443cc998ca154035f10d4",
            "placeholder": "​",
            "style": "IPY_MODEL_127a1bb766794e5aa59b27269426f1e2",
            "value": " 4422102/4422102 [00:00&lt;00:00, 62482154.47it/s]"
          }
        },
        "2597974bb49140cebbf9a57f16845630": {
          "model_module": "@jupyter-widgets/base",
          "model_name": "LayoutModel",
          "model_module_version": "1.2.0",
          "state": {
            "_model_module": "@jupyter-widgets/base",
            "_model_module_version": "1.2.0",
            "_model_name": "LayoutModel",
            "_view_count": null,
            "_view_module": "@jupyter-widgets/base",
            "_view_module_version": "1.2.0",
            "_view_name": "LayoutView",
            "align_content": null,
            "align_items": null,
            "align_self": null,
            "border": null,
            "bottom": null,
            "display": null,
            "flex": null,
            "flex_flow": null,
            "grid_area": null,
            "grid_auto_columns": null,
            "grid_auto_flow": null,
            "grid_auto_rows": null,
            "grid_column": null,
            "grid_gap": null,
            "grid_row": null,
            "grid_template_areas": null,
            "grid_template_columns": null,
            "grid_template_rows": null,
            "height": null,
            "justify_content": null,
            "justify_items": null,
            "left": null,
            "margin": null,
            "max_height": null,
            "max_width": null,
            "min_height": null,
            "min_width": null,
            "object_fit": null,
            "object_position": null,
            "order": null,
            "overflow": null,
            "overflow_x": null,
            "overflow_y": null,
            "padding": null,
            "right": null,
            "top": null,
            "visibility": null,
            "width": null
          }
        },
        "8a873529027c443d8e94a9a5a253f4d2": {
          "model_module": "@jupyter-widgets/base",
          "model_name": "LayoutModel",
          "model_module_version": "1.2.0",
          "state": {
            "_model_module": "@jupyter-widgets/base",
            "_model_module_version": "1.2.0",
            "_model_name": "LayoutModel",
            "_view_count": null,
            "_view_module": "@jupyter-widgets/base",
            "_view_module_version": "1.2.0",
            "_view_name": "LayoutView",
            "align_content": null,
            "align_items": null,
            "align_self": null,
            "border": null,
            "bottom": null,
            "display": null,
            "flex": null,
            "flex_flow": null,
            "grid_area": null,
            "grid_auto_columns": null,
            "grid_auto_flow": null,
            "grid_auto_rows": null,
            "grid_column": null,
            "grid_gap": null,
            "grid_row": null,
            "grid_template_areas": null,
            "grid_template_columns": null,
            "grid_template_rows": null,
            "height": null,
            "justify_content": null,
            "justify_items": null,
            "left": null,
            "margin": null,
            "max_height": null,
            "max_width": null,
            "min_height": null,
            "min_width": null,
            "object_fit": null,
            "object_position": null,
            "order": null,
            "overflow": null,
            "overflow_x": null,
            "overflow_y": null,
            "padding": null,
            "right": null,
            "top": null,
            "visibility": null,
            "width": null
          }
        },
        "fc19b4f801b04199b588c438b16624b6": {
          "model_module": "@jupyter-widgets/controls",
          "model_name": "DescriptionStyleModel",
          "model_module_version": "1.5.0",
          "state": {
            "_model_module": "@jupyter-widgets/controls",
            "_model_module_version": "1.5.0",
            "_model_name": "DescriptionStyleModel",
            "_view_count": null,
            "_view_module": "@jupyter-widgets/base",
            "_view_module_version": "1.2.0",
            "_view_name": "StyleView",
            "description_width": ""
          }
        },
        "c124516116ee4d5eb1af742192acca70": {
          "model_module": "@jupyter-widgets/base",
          "model_name": "LayoutModel",
          "model_module_version": "1.2.0",
          "state": {
            "_model_module": "@jupyter-widgets/base",
            "_model_module_version": "1.2.0",
            "_model_name": "LayoutModel",
            "_view_count": null,
            "_view_module": "@jupyter-widgets/base",
            "_view_module_version": "1.2.0",
            "_view_name": "LayoutView",
            "align_content": null,
            "align_items": null,
            "align_self": null,
            "border": null,
            "bottom": null,
            "display": null,
            "flex": null,
            "flex_flow": null,
            "grid_area": null,
            "grid_auto_columns": null,
            "grid_auto_flow": null,
            "grid_auto_rows": null,
            "grid_column": null,
            "grid_gap": null,
            "grid_row": null,
            "grid_template_areas": null,
            "grid_template_columns": null,
            "grid_template_rows": null,
            "height": null,
            "justify_content": null,
            "justify_items": null,
            "left": null,
            "margin": null,
            "max_height": null,
            "max_width": null,
            "min_height": null,
            "min_width": null,
            "object_fit": null,
            "object_position": null,
            "order": null,
            "overflow": null,
            "overflow_x": null,
            "overflow_y": null,
            "padding": null,
            "right": null,
            "top": null,
            "visibility": null,
            "width": null
          }
        },
        "aca846f130cd4eca995188b02b19de8a": {
          "model_module": "@jupyter-widgets/controls",
          "model_name": "ProgressStyleModel",
          "model_module_version": "1.5.0",
          "state": {
            "_model_module": "@jupyter-widgets/controls",
            "_model_module_version": "1.5.0",
            "_model_name": "ProgressStyleModel",
            "_view_count": null,
            "_view_module": "@jupyter-widgets/base",
            "_view_module_version": "1.2.0",
            "_view_name": "StyleView",
            "bar_color": null,
            "description_width": ""
          }
        },
        "fd5213cac62443cc998ca154035f10d4": {
          "model_module": "@jupyter-widgets/base",
          "model_name": "LayoutModel",
          "model_module_version": "1.2.0",
          "state": {
            "_model_module": "@jupyter-widgets/base",
            "_model_module_version": "1.2.0",
            "_model_name": "LayoutModel",
            "_view_count": null,
            "_view_module": "@jupyter-widgets/base",
            "_view_module_version": "1.2.0",
            "_view_name": "LayoutView",
            "align_content": null,
            "align_items": null,
            "align_self": null,
            "border": null,
            "bottom": null,
            "display": null,
            "flex": null,
            "flex_flow": null,
            "grid_area": null,
            "grid_auto_columns": null,
            "grid_auto_flow": null,
            "grid_auto_rows": null,
            "grid_column": null,
            "grid_gap": null,
            "grid_row": null,
            "grid_template_areas": null,
            "grid_template_columns": null,
            "grid_template_rows": null,
            "height": null,
            "justify_content": null,
            "justify_items": null,
            "left": null,
            "margin": null,
            "max_height": null,
            "max_width": null,
            "min_height": null,
            "min_width": null,
            "object_fit": null,
            "object_position": null,
            "order": null,
            "overflow": null,
            "overflow_x": null,
            "overflow_y": null,
            "padding": null,
            "right": null,
            "top": null,
            "visibility": null,
            "width": null
          }
        },
        "127a1bb766794e5aa59b27269426f1e2": {
          "model_module": "@jupyter-widgets/controls",
          "model_name": "DescriptionStyleModel",
          "model_module_version": "1.5.0",
          "state": {
            "_model_module": "@jupyter-widgets/controls",
            "_model_module_version": "1.5.0",
            "_model_name": "DescriptionStyleModel",
            "_view_count": null,
            "_view_module": "@jupyter-widgets/base",
            "_view_module_version": "1.2.0",
            "_view_name": "StyleView",
            "description_width": ""
          }
        },
        "14721df11abb47e395b088870a79ff4e": {
          "model_module": "@jupyter-widgets/controls",
          "model_name": "HBoxModel",
          "model_module_version": "1.5.0",
          "state": {
            "_dom_classes": [],
            "_model_module": "@jupyter-widgets/controls",
            "_model_module_version": "1.5.0",
            "_model_name": "HBoxModel",
            "_view_count": null,
            "_view_module": "@jupyter-widgets/controls",
            "_view_module_version": "1.5.0",
            "_view_name": "HBoxView",
            "box_style": "",
            "children": [
              "IPY_MODEL_18665ac4cca948f4848bd3ea8577db9e",
              "IPY_MODEL_ee371ff8ffa9443482de29679a196f84",
              "IPY_MODEL_038518f094684f8297f68b438a15f744"
            ],
            "layout": "IPY_MODEL_958b5ffc0dcb4549827a79281ab1b77c"
          }
        },
        "18665ac4cca948f4848bd3ea8577db9e": {
          "model_module": "@jupyter-widgets/controls",
          "model_name": "HTMLModel",
          "model_module_version": "1.5.0",
          "state": {
            "_dom_classes": [],
            "_model_module": "@jupyter-widgets/controls",
            "_model_module_version": "1.5.0",
            "_model_name": "HTMLModel",
            "_view_count": null,
            "_view_module": "@jupyter-widgets/controls",
            "_view_module_version": "1.5.0",
            "_view_name": "HTMLView",
            "description": "",
            "description_tooltip": null,
            "layout": "IPY_MODEL_e811032da9e549569978190010e2c92d",
            "placeholder": "​",
            "style": "IPY_MODEL_7c6604468e374266b015f27562827d96",
            "value": "100%"
          }
        },
        "ee371ff8ffa9443482de29679a196f84": {
          "model_module": "@jupyter-widgets/controls",
          "model_name": "FloatProgressModel",
          "model_module_version": "1.5.0",
          "state": {
            "_dom_classes": [],
            "_model_module": "@jupyter-widgets/controls",
            "_model_module_version": "1.5.0",
            "_model_name": "FloatProgressModel",
            "_view_count": null,
            "_view_module": "@jupyter-widgets/controls",
            "_view_module_version": "1.5.0",
            "_view_name": "ProgressView",
            "bar_style": "success",
            "description": "",
            "description_tooltip": null,
            "layout": "IPY_MODEL_db7aff99f809483189de885396b24488",
            "max": 5148,
            "min": 0,
            "orientation": "horizontal",
            "style": "IPY_MODEL_b6df17e607934069bcc5481d21d9ce42",
            "value": 5148
          }
        },
        "038518f094684f8297f68b438a15f744": {
          "model_module": "@jupyter-widgets/controls",
          "model_name": "HTMLModel",
          "model_module_version": "1.5.0",
          "state": {
            "_dom_classes": [],
            "_model_module": "@jupyter-widgets/controls",
            "_model_module_version": "1.5.0",
            "_model_name": "HTMLModel",
            "_view_count": null,
            "_view_module": "@jupyter-widgets/controls",
            "_view_module_version": "1.5.0",
            "_view_name": "HTMLView",
            "description": "",
            "description_tooltip": null,
            "layout": "IPY_MODEL_446826ddb20743039fa081c43687ebb9",
            "placeholder": "​",
            "style": "IPY_MODEL_9157fb6fce104162aba4b193e2ee913c",
            "value": " 5148/5148 [00:00&lt;00:00, 313750.03it/s]"
          }
        },
        "958b5ffc0dcb4549827a79281ab1b77c": {
          "model_module": "@jupyter-widgets/base",
          "model_name": "LayoutModel",
          "model_module_version": "1.2.0",
          "state": {
            "_model_module": "@jupyter-widgets/base",
            "_model_module_version": "1.2.0",
            "_model_name": "LayoutModel",
            "_view_count": null,
            "_view_module": "@jupyter-widgets/base",
            "_view_module_version": "1.2.0",
            "_view_name": "LayoutView",
            "align_content": null,
            "align_items": null,
            "align_self": null,
            "border": null,
            "bottom": null,
            "display": null,
            "flex": null,
            "flex_flow": null,
            "grid_area": null,
            "grid_auto_columns": null,
            "grid_auto_flow": null,
            "grid_auto_rows": null,
            "grid_column": null,
            "grid_gap": null,
            "grid_row": null,
            "grid_template_areas": null,
            "grid_template_columns": null,
            "grid_template_rows": null,
            "height": null,
            "justify_content": null,
            "justify_items": null,
            "left": null,
            "margin": null,
            "max_height": null,
            "max_width": null,
            "min_height": null,
            "min_width": null,
            "object_fit": null,
            "object_position": null,
            "order": null,
            "overflow": null,
            "overflow_x": null,
            "overflow_y": null,
            "padding": null,
            "right": null,
            "top": null,
            "visibility": null,
            "width": null
          }
        },
        "e811032da9e549569978190010e2c92d": {
          "model_module": "@jupyter-widgets/base",
          "model_name": "LayoutModel",
          "model_module_version": "1.2.0",
          "state": {
            "_model_module": "@jupyter-widgets/base",
            "_model_module_version": "1.2.0",
            "_model_name": "LayoutModel",
            "_view_count": null,
            "_view_module": "@jupyter-widgets/base",
            "_view_module_version": "1.2.0",
            "_view_name": "LayoutView",
            "align_content": null,
            "align_items": null,
            "align_self": null,
            "border": null,
            "bottom": null,
            "display": null,
            "flex": null,
            "flex_flow": null,
            "grid_area": null,
            "grid_auto_columns": null,
            "grid_auto_flow": null,
            "grid_auto_rows": null,
            "grid_column": null,
            "grid_gap": null,
            "grid_row": null,
            "grid_template_areas": null,
            "grid_template_columns": null,
            "grid_template_rows": null,
            "height": null,
            "justify_content": null,
            "justify_items": null,
            "left": null,
            "margin": null,
            "max_height": null,
            "max_width": null,
            "min_height": null,
            "min_width": null,
            "object_fit": null,
            "object_position": null,
            "order": null,
            "overflow": null,
            "overflow_x": null,
            "overflow_y": null,
            "padding": null,
            "right": null,
            "top": null,
            "visibility": null,
            "width": null
          }
        },
        "7c6604468e374266b015f27562827d96": {
          "model_module": "@jupyter-widgets/controls",
          "model_name": "DescriptionStyleModel",
          "model_module_version": "1.5.0",
          "state": {
            "_model_module": "@jupyter-widgets/controls",
            "_model_module_version": "1.5.0",
            "_model_name": "DescriptionStyleModel",
            "_view_count": null,
            "_view_module": "@jupyter-widgets/base",
            "_view_module_version": "1.2.0",
            "_view_name": "StyleView",
            "description_width": ""
          }
        },
        "db7aff99f809483189de885396b24488": {
          "model_module": "@jupyter-widgets/base",
          "model_name": "LayoutModel",
          "model_module_version": "1.2.0",
          "state": {
            "_model_module": "@jupyter-widgets/base",
            "_model_module_version": "1.2.0",
            "_model_name": "LayoutModel",
            "_view_count": null,
            "_view_module": "@jupyter-widgets/base",
            "_view_module_version": "1.2.0",
            "_view_name": "LayoutView",
            "align_content": null,
            "align_items": null,
            "align_self": null,
            "border": null,
            "bottom": null,
            "display": null,
            "flex": null,
            "flex_flow": null,
            "grid_area": null,
            "grid_auto_columns": null,
            "grid_auto_flow": null,
            "grid_auto_rows": null,
            "grid_column": null,
            "grid_gap": null,
            "grid_row": null,
            "grid_template_areas": null,
            "grid_template_columns": null,
            "grid_template_rows": null,
            "height": null,
            "justify_content": null,
            "justify_items": null,
            "left": null,
            "margin": null,
            "max_height": null,
            "max_width": null,
            "min_height": null,
            "min_width": null,
            "object_fit": null,
            "object_position": null,
            "order": null,
            "overflow": null,
            "overflow_x": null,
            "overflow_y": null,
            "padding": null,
            "right": null,
            "top": null,
            "visibility": null,
            "width": null
          }
        },
        "b6df17e607934069bcc5481d21d9ce42": {
          "model_module": "@jupyter-widgets/controls",
          "model_name": "ProgressStyleModel",
          "model_module_version": "1.5.0",
          "state": {
            "_model_module": "@jupyter-widgets/controls",
            "_model_module_version": "1.5.0",
            "_model_name": "ProgressStyleModel",
            "_view_count": null,
            "_view_module": "@jupyter-widgets/base",
            "_view_module_version": "1.2.0",
            "_view_name": "StyleView",
            "bar_color": null,
            "description_width": ""
          }
        },
        "446826ddb20743039fa081c43687ebb9": {
          "model_module": "@jupyter-widgets/base",
          "model_name": "LayoutModel",
          "model_module_version": "1.2.0",
          "state": {
            "_model_module": "@jupyter-widgets/base",
            "_model_module_version": "1.2.0",
            "_model_name": "LayoutModel",
            "_view_count": null,
            "_view_module": "@jupyter-widgets/base",
            "_view_module_version": "1.2.0",
            "_view_name": "LayoutView",
            "align_content": null,
            "align_items": null,
            "align_self": null,
            "border": null,
            "bottom": null,
            "display": null,
            "flex": null,
            "flex_flow": null,
            "grid_area": null,
            "grid_auto_columns": null,
            "grid_auto_flow": null,
            "grid_auto_rows": null,
            "grid_column": null,
            "grid_gap": null,
            "grid_row": null,
            "grid_template_areas": null,
            "grid_template_columns": null,
            "grid_template_rows": null,
            "height": null,
            "justify_content": null,
            "justify_items": null,
            "left": null,
            "margin": null,
            "max_height": null,
            "max_width": null,
            "min_height": null,
            "min_width": null,
            "object_fit": null,
            "object_position": null,
            "order": null,
            "overflow": null,
            "overflow_x": null,
            "overflow_y": null,
            "padding": null,
            "right": null,
            "top": null,
            "visibility": null,
            "width": null
          }
        },
        "9157fb6fce104162aba4b193e2ee913c": {
          "model_module": "@jupyter-widgets/controls",
          "model_name": "DescriptionStyleModel",
          "model_module_version": "1.5.0",
          "state": {
            "_model_module": "@jupyter-widgets/controls",
            "_model_module_version": "1.5.0",
            "_model_name": "DescriptionStyleModel",
            "_view_count": null,
            "_view_module": "@jupyter-widgets/base",
            "_view_module_version": "1.2.0",
            "_view_name": "StyleView",
            "description_width": ""
          }
        }
      }
    }
  },
  "nbformat": 4,
  "nbformat_minor": 0
}